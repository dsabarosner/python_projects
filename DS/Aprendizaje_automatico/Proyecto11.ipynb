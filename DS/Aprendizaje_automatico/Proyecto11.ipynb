{
 "cells": [
  {
   "cell_type": "markdown",
   "metadata": {},
   "source": [
    "# OilyGiant"
   ]
  },
  {
   "cell_type": "markdown",
   "metadata": {},
   "source": [
    "Trabajas en la compañía de extracción de petróleo OilyGiant. Tu tarea es encontrar los mejores lugares donde abrir 200 pozos nuevos de petróleo.\n",
    "\n",
    "Para completar esta tarea, tendrás que realizar los siguientes pasos:\n",
    "\n",
    "Leer los archivos con los parámetros recogidos de pozos petrolíferos en la región seleccionada: calidad de crudo y volumen de reservas.\n",
    "Crear un modelo para predecir el volumen de reservas en pozos nuevos.\n",
    "Elegir los pozos petrolíferos que tienen los valores estimados más altos.\n",
    "Elegir la región con el beneficio total más alto para los pozos petrolíferos seleccionados.\n",
    "\n",
    "Tienes datos sobre muestras de crudo de tres regiones. Ya se conocen los parámetros de cada pozo petrolero de la región. Crea un modelo que ayude a elegir la región con el mayor margen de beneficio. Analiza los beneficios y riesgos potenciales utilizando la técnica bootstrapping.\n",
    "\n",
    "Condiciones:\n",
    "\n",
    "- Solo se debe usar la regresión lineal para el entrenamiento del modelo.\n",
    "- Al explorar la región, se lleva a cabo un estudio de 500 puntos con la selección de los mejores 200 puntos para el cálculo del beneficio.\n",
    "- El presupuesto para el desarrollo de 200 pozos petroleros es de 100 millones de dólares.\n",
    "- Un barril de materias primas genera 4.5 USD de ingresos. El ingreso de una unidad de producto es de 4500 dólares (el volumen de reservas está expresado en miles de barriles).\n",
    "- Después de la evaluación de riesgo, mantén solo las regiones con riesgo de pérdidas inferior al 2.5%. De las que se ajustan a los criterios, se debe seleccionar la región con el beneficio promedio más alto.\n",
    "- Los datos son sintéticos: los detalles del contrato y las características del pozo no se publican.\n",
    "\n",
    "Prepárate para el cálculo de ganancias:\n",
    "- Almacena todos los valores necesarios para los cálculos en variables separadas.\n",
    "- Dada la inversión de 100 millones por 200 pozos petrolíferos, de media un pozo petrolífero debe producir al menos un valor de 500,000 dólares en unidades para evitar pérdidas (esto es equivalente a 111.1 unidades). Compara esta cantidad con la cantidad media de reservas en cada región.\n",
    "- Presenta conclusiones sobre cómo preparar el paso para calcular el beneficio.\n",
    "- Escribe una función para calcular la ganancia de un conjunto de pozos de petróleo seleccionados y modela las predicciones:\n",
    "- Elige los 200 pozos con los valores de predicción más altos de cada una de las 3 regiones (es decir, archivos 'csv').\n",
    "- Resume el volumen objetivo de reservas según dichas predicciones. Almacena las predicciones para los 200 pozos para cada una de las 3 regiones.\n",
    "- Calcula la ganancia potencial de los 200 pozos principales por región. Presenta tus conclusiones: propón una región para el desarrollo de pozos petrolíferos y justifica tu elección.\n",
    "Calcula riesgos y ganancias para cada región:\n",
    "- Utilizando las predicciones que almacenaste en el paso 4.2, emplea la técnica del bootstrapping con 1000 muestras para hallar la distribución de los beneficios.\n",
    "- Encuentra el beneficio promedio, el intervalo de confianza del 95% y el riesgo de pérdidas. La pérdida es una ganancia negativa, calcúlala como una probabilidad y luego exprésala como un porcentaje.\n",
    "- Presenta tus conclusiones: propón una región para el desarrollo de pozos petrolíferos y justifica tu elección. ¿Coincide tu elección con la elección anterior en el punto 4.3?"
   ]
  },
  {
   "cell_type": "markdown",
   "metadata": {},
   "source": [
    "## 1. Objetivo\n",
    "Encontrar los mejores lugares donde abrir 200 pozos nuevos de petróleo."
   ]
  },
  {
   "cell_type": "markdown",
   "metadata": {},
   "source": [
    "## 2. Cargar librerias"
   ]
  },
  {
   "cell_type": "code",
   "execution_count": 2,
   "metadata": {},
   "outputs": [],
   "source": [
    "import pandas as pd\n",
    "import numpy as np\n",
    "from sklearn.model_selection import train_test_split\n",
    "from sklearn.linear_model import LinearRegression\n",
    "from sklearn.metrics import mean_squared_error"
   ]
  },
  {
   "cell_type": "markdown",
   "metadata": {},
   "source": [
    "## 3. Leer los archivos"
   ]
  },
  {
   "cell_type": "code",
   "execution_count": 3,
   "metadata": {},
   "outputs": [],
   "source": [
    "df0 = pd.read_csv('/datasets/geo_data_0.csv')\n",
    "df1 = pd.read_csv('/datasets/geo_data_1.csv')\n",
    "df2 = pd.read_csv('/datasets/geo_data_2.csv')"
   ]
  },
  {
   "cell_type": "markdown",
   "metadata": {},
   "source": [
    "## 4. Analizar los datos"
   ]
  },
  {
   "cell_type": "code",
   "execution_count": 4,
   "metadata": {},
   "outputs": [
    {
     "name": "stdout",
     "output_type": "stream",
     "text": [
      "geo data 0\n",
      "      id        f0        f1        f2     product\n",
      "0  txEyH  0.705745 -0.497823  1.221170  105.280062\n",
      "1  2acmU  1.334711 -0.340164  4.365080   73.037750\n",
      "2  409Wp  1.022732  0.151990  1.419926   85.265647\n",
      "3  iJLyR -0.032172  0.139033  2.978566  168.620776\n",
      "4  Xdl7t  1.988431  0.155413  4.751769  154.036647 \n",
      "\n",
      "<class 'pandas.core.frame.DataFrame'>\n",
      "RangeIndex: 100000 entries, 0 to 99999\n",
      "Data columns (total 5 columns):\n",
      " #   Column   Non-Null Count   Dtype  \n",
      "---  ------   --------------   -----  \n",
      " 0   id       100000 non-null  object \n",
      " 1   f0       100000 non-null  float64\n",
      " 2   f1       100000 non-null  float64\n",
      " 3   f2       100000 non-null  float64\n",
      " 4   product  100000 non-null  float64\n",
      "dtypes: float64(4), object(1)\n",
      "memory usage: 3.8+ MB\n",
      "None \n",
      "\n",
      "geo data 1\n",
      "<class 'pandas.core.frame.DataFrame'>\n",
      "RangeIndex: 100000 entries, 0 to 99999\n",
      "Data columns (total 5 columns):\n",
      " #   Column   Non-Null Count   Dtype  \n",
      "---  ------   --------------   -----  \n",
      " 0   id       100000 non-null  object \n",
      " 1   f0       100000 non-null  float64\n",
      " 2   f1       100000 non-null  float64\n",
      " 3   f2       100000 non-null  float64\n",
      " 4   product  100000 non-null  float64\n",
      "dtypes: float64(4), object(1)\n",
      "memory usage: 3.8+ MB\n",
      "None \n",
      "\n",
      "geo data 2\n",
      "<class 'pandas.core.frame.DataFrame'>\n",
      "RangeIndex: 100000 entries, 0 to 99999\n",
      "Data columns (total 5 columns):\n",
      " #   Column   Non-Null Count   Dtype  \n",
      "---  ------   --------------   -----  \n",
      " 0   id       100000 non-null  object \n",
      " 1   f0       100000 non-null  float64\n",
      " 2   f1       100000 non-null  float64\n",
      " 3   f2       100000 non-null  float64\n",
      " 4   product  100000 non-null  float64\n",
      "dtypes: float64(4), object(1)\n",
      "memory usage: 3.8+ MB\n",
      "None \n",
      "\n"
     ]
    }
   ],
   "source": [
    "print('geo data 0')\n",
    "print(df0.head(), '\\n')\n",
    "print(df0.info(), '\\n')\n",
    "\n",
    "print('geo data 1')\n",
    "print(df1.info(), '\\n')\n",
    "\n",
    "print('geo data 2')\n",
    "print(df2.info(), '\\n')"
   ]
  },
  {
   "cell_type": "markdown",
   "metadata": {},
   "source": [
    "Se pudo observar que los tres dataframes constan de las columnas id, f0, f1, f2 y product. No se presentan datos ausentes y los tipos de datos son los correctos en todas las columnas."
   ]
  },
  {
   "cell_type": "markdown",
   "metadata": {},
   "source": [
    "## 5. Entrenar el modelo"
   ]
  },
  {
   "cell_type": "code",
   "execution_count": 5,
   "metadata": {},
   "outputs": [],
   "source": [
    "def entrenar_modelo(df):\n",
    "    #seleccionar los features y target\n",
    "    features = df.drop(['id', 'product'], axis=1)\n",
    "    target = df['product']\n",
    "\n",
    "    #dividir los datos en un conjunto de entrenamiento y uno de validación\n",
    "    features_train, features_valid, target_train, target_valid = train_test_split(features, target, test_size=0.25, random_state=12345)\n",
    "\n",
    "    #entrenar el modelo\n",
    "    model = LinearRegression()\n",
    "    model.fit(features_train, target_train)\n",
    "    predictions = model.predict(features_valid)\n",
    "\n",
    "    rmse = np.sqrt(mean_squared_error(target_valid, predictions))\n",
    "    mean_vol = predictions.mean()\n",
    "    \n",
    "    return model, predictions, target_valid, rmse, mean_vol\n",
    "\n"
   ]
  },
  {
   "cell_type": "markdown",
   "metadata": {},
   "source": [
    "La función entrenar_modelo tiene como argumento un dataframe para poder entrenar y analizar cada zona geográfica. Esta función tiene como datos de salida el modelo, las predicciones, el target_valid, el error cuadratico medio y el volumen medio de reservas predicho."
   ]
  },
  {
   "cell_type": "markdown",
   "metadata": {},
   "source": [
    "## 6. Analizar los resultados"
   ]
  },
  {
   "cell_type": "code",
   "execution_count": 6,
   "metadata": {},
   "outputs": [
    {
     "name": "stdout",
     "output_type": "stream",
     "text": [
      "RMSE zona 0: 37.5794217150813\n",
      "Volumen medio predicho zona 0: 92.59256778438035\n",
      "\n",
      "\n",
      "RMSE zona 1: 0.893099286775617\n",
      "Volumen medio predicho zona 1: 68.728546895446\n",
      "\n",
      "\n",
      "RMSE zona 2: 40.02970873393434\n",
      "Volumen medio predicho zona 2: 94.96504596800489\n"
     ]
    }
   ],
   "source": [
    "model_0, pred_0, valid_0, rmse_0, mean_vol_0 = entrenar_modelo(df0)\n",
    "model_1, pred_1, valid_1, rmse_1, mean_vol_1 = entrenar_modelo(df1)\n",
    "model_2, pred_2, valid_2, rmse_2, mean_vol_2 = entrenar_modelo(df2)\n",
    "\n",
    "print('RMSE zona 0:', rmse_0)\n",
    "print('Volumen medio predicho zona 0:', mean_vol_0)\n",
    "print('\\n')\n",
    "print('RMSE zona 1:', rmse_1)\n",
    "print('Volumen medio predicho zona 1:', mean_vol_1)\n",
    "print('\\n')\n",
    "print('RMSE zona 2:', rmse_2)\n",
    "print('Volumen medio predicho zona 2:', mean_vol_2)"
   ]
  },
  {
   "cell_type": "markdown",
   "metadata": {},
   "source": [
    "Según las predicciones, es evidente que la región con mayor volumen medio de reservas corresponde a la zona 2, sin embargo también es la región con mayor diferencia entre los valores reales y los predichos. \n",
    "La zona 1 es la segunda región de mayores reservas predichas pero con un RMSE bastante elevado."
   ]
  },
  {
   "cell_type": "markdown",
   "metadata": {},
   "source": [
    "## 7. Calcular ganancias"
   ]
  },
  {
   "cell_type": "code",
   "execution_count": 7,
   "metadata": {},
   "outputs": [
    {
     "name": "stdout",
     "output_type": "stream",
     "text": [
      "Ganancia zona 0: 33208260.43139851\n",
      "Ganancia zona 1: 24150866.966815114\n",
      "Ganancia zona 2: 27103499.635998324\n"
     ]
    }
   ],
   "source": [
    "precio = 4500\n",
    "inversion = 100e6\n",
    "pozos = 200\n",
    "\n",
    "def calcular_ganancia(pred, valid):\n",
    "    valid = valid.reset_index(drop=True)\n",
    "    pred_sorted = pred.sort_values(ascending=False).index[:pozos]\n",
    "    ganancia = valid[pred_sorted].sum() * precio - inversion\n",
    "    return ganancia\n",
    "\n",
    "ganancia_0 = calcular_ganancia(pd.Series(pred_0), valid_0)\n",
    "ganancia_1 = calcular_ganancia(pd.Series(pred_1), valid_1)\n",
    "ganancia_2 = calcular_ganancia(pd.Series(pred_2), valid_2)\n",
    "\n",
    "print('Ganancia zona 0:', ganancia_0)\n",
    "print('Ganancia zona 1:', ganancia_1)\n",
    "print('Ganancia zona 2:', ganancia_2)"
   ]
  },
  {
   "cell_type": "markdown",
   "metadata": {},
   "source": [
    "Se eligieron los 200 pozos con mayores reservas para encontrar las ganancias en las distintas regiones. En este sentido, la zona más conveniente par el desarrollo de pozos petroleros corresponde a la zona 0. Sin embargo, es necesario calcular los riesgos y evidenciar la distribución de las ganancias según el riesgo aceptado del 2.5%, para esto empleamos bootstrapping."
   ]
  },
  {
   "cell_type": "markdown",
   "metadata": {},
   "source": [
    "## 8. Bootstrapping"
   ]
  },
  {
   "cell_type": "code",
   "execution_count": 9,
   "metadata": {},
   "outputs": [
    {
     "name": "stdout",
     "output_type": "stream",
     "text": [
      "Zona 0: Ganancia promedio:3910617.3336281776, intervalo de confianza 95%:[-1392446.39885888  8932963.95923113], riesgo de pérdida:6.2%\n",
      "\n",
      "\n",
      "Zona 1: Ganancia promedio:4532940.071664492, intervalo de confianza 95%:[ 838027.4032226  8345267.36514308], riesgo de pérdida:0.8999999999999999%\n",
      "\n",
      "\n",
      "Zona 2: Ganancia promedio:3818065.672154088, intervalo de confianza 95%:[-1670081.11658792  9051925.27980405], riesgo de pérdida:9.2%\n"
     ]
    }
   ],
   "source": [
    "def bootstrapping(pred, valid):\n",
    "\n",
    "    ganancias = []\n",
    "    for _ in range(1000):\n",
    "        \n",
    "        sampled_index = pd.Series(range(len(pred))).sample(n=500, replace=True)\n",
    "        pred_subsample = pd.Series(pred).iloc[sampled_index].reset_index(drop=True)\n",
    "        valid_subsample = pd.Series(valid).iloc[sampled_index].reset_index(drop=True)\n",
    "\n",
    "        top_index = pred_subsample.nlargest(200).index\n",
    "        ganancias.append(valid_subsample[top_index].sum() * precio - inversion)  \n",
    "        \n",
    "    return ganancias\n",
    "        \n",
    "\n",
    "def riesgos(ganancias):\n",
    "    g = pd.Series(ganancias)\n",
    "    media = g.mean()\n",
    "    intervalo = g.quantile([0.025, 0.975])\n",
    "    riesgo = (g<0).mean()*100\n",
    "    return media, intervalo, riesgo\n",
    "\n",
    "gan_0 = bootstrapping(pred_0, valid_0)\n",
    "gan_1 = bootstrapping(pred_1, valid_1)\n",
    "gan_2 = bootstrapping(pred_2, valid_2)\n",
    "\n",
    "media_0, intervalo_0, riesgo_0 = riesgos(gan_0)\n",
    "media_1, intervalo_1, riesgo_1 = riesgos(gan_1)\n",
    "media_2, intervalo_2, riesgo_2 = riesgos(gan_2)\n",
    "\n",
    "print(f\"Zona 0: Ganancia promedio:{media_0}, intervalo de confianza 95%:{intervalo_0.values}, riesgo de pérdida:{riesgo_0}%\")\n",
    "print('\\n')\n",
    "print(f\"Zona 1: Ganancia promedio:{media_1}, intervalo de confianza 95%:{intervalo_1.values}, riesgo de pérdida:{riesgo_1}%\")\n",
    "print('\\n')\n",
    "print(f\"Zona 2: Ganancia promedio:{media_2}, intervalo de confianza 95%:{intervalo_2.values}, riesgo de pérdida:{riesgo_2}%\")"
   ]
  },
  {
   "cell_type": "markdown",
   "metadata": {},
   "source": [
    "## 9. Conclusiones"
   ]
  },
  {
   "cell_type": "markdown",
   "metadata": {},
   "source": [
    "- La región más rentable es la zona 1, con una ganancia de $us. 4.4 millones, un intérvalo de confianza completamente positivo y el menor riesgo de pérdida (1.6%). Esta elección no coincide con la respuesta previa de la zona 0.\n",
    "- La peor zona en términos de rentabilidad es la zona 0, sin embargo, la zona 2 tiene mayor riesgo de pérdida."
   ]
  }
 ],
 "metadata": {
  "kernelspec": {
   "display_name": "Python 3 (ipykernel)",
   "language": "python",
   "name": "python3"
  },
  "language_info": {
   "codemirror_mode": {
    "name": "ipython",
    "version": 3
   },
   "file_extension": ".py",
   "mimetype": "text/x-python",
   "name": "python",
   "nbconvert_exporter": "python",
   "pygments_lexer": "ipython3",
   "version": "3.9.23"
  }
 },
 "nbformat": 4,
 "nbformat_minor": 4
}
