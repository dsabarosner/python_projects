{
 "cells": [
  {
   "cell_type": "markdown",
   "metadata": {},
   "source": [
    "# Megaline"
   ]
  },
  {
   "cell_type": "markdown",
   "metadata": {},
   "source": [
    "La compañía móvil Megaline no está satisfecha al ver que muchos de sus clientes utilizan planes heredados. Quieren desarrollar un modelo que pueda analizar el comportamiento de los clientes y recomendar uno de los nuevos planes de Megaline: Smart o Ultra.\n",
    "\n",
    "Tienes acceso a los datos de comportamiento de los suscriptores que ya se han cambiado a los planes nuevos (del proyecto del sprint de Análisis estadístico de datos). Para esta tarea de clasificación debes crear un modelo que escoja el plan correcto. Como ya hiciste el paso de procesar los datos, puedes lanzarte directo a crear el modelo.\n",
    "\n",
    "Desarrolla un modelo con la mayor exactitud posible. En este proyecto, el umbral de exactitud es 0.75. Usa el dataset para comprobar la exactitud."
   ]
  },
  {
   "cell_type": "code",
   "execution_count": 1,
   "metadata": {},
   "outputs": [],
   "source": [
    "#Importar bibliotecas\n",
    "import pandas as pd\n",
    "from sklearn.tree import DecisionTreeClassifier\n",
    "from sklearn.ensemble import RandomForestClassifier\n",
    "from sklearn.linear_model import LogisticRegression\n",
    "from sklearn.model_selection import train_test_split\n",
    "from sklearn.metrics import accuracy_score"
   ]
  },
  {
   "cell_type": "code",
   "execution_count": 2,
   "metadata": {
    "scrolled": true
   },
   "outputs": [
    {
     "name": "stdout",
     "output_type": "stream",
     "text": [
      "<class 'pandas.core.frame.DataFrame'>\n",
      "RangeIndex: 3214 entries, 0 to 3213\n",
      "Data columns (total 5 columns):\n",
      " #   Column    Non-Null Count  Dtype  \n",
      "---  ------    --------------  -----  \n",
      " 0   calls     3214 non-null   float64\n",
      " 1   minutes   3214 non-null   float64\n",
      " 2   messages  3214 non-null   float64\n",
      " 3   mb_used   3214 non-null   float64\n",
      " 4   is_ultra  3214 non-null   int64  \n",
      "dtypes: float64(4), int64(1)\n",
      "memory usage: 125.7 KB\n",
      "None\n"
     ]
    }
   ],
   "source": [
    "#Abrir y examinar los datos\n",
    "df = pd.read_csv(\"/datasets/users_behavior.csv\")\n",
    "print(df.info())"
   ]
  },
  {
   "cell_type": "markdown",
   "metadata": {},
   "source": [
    "Se observa que el dataset contiene 3214 observaciones sin datos ausentes y con los tipos de datos adecuados para cada columna."
   ]
  },
  {
   "cell_type": "code",
   "execution_count": 3,
   "metadata": {},
   "outputs": [],
   "source": [
    "#Segmentar los datos en train, validation y test\n",
    "df_train, df_test = train_test_split(df, test_size=0.25, random_state=12345)\n",
    "df_train, df_valid = train_test_split(df_train, test_size=0.25, random_state=12345)"
   ]
  },
  {
   "cell_type": "code",
   "execution_count": 4,
   "metadata": {},
   "outputs": [
    {
     "name": "stdout",
     "output_type": "stream",
     "text": [
      "(1807, 4)\n",
      "(1807,)\n",
      "(603, 4)\n",
      "(603,)\n",
      "(804, 4)\n",
      "(804,)\n"
     ]
    }
   ],
   "source": [
    "#Separar features y target\n",
    "train_features = df_train.drop(\"is_ultra\", axis=1)\n",
    "train_target = df_train[\"is_ultra\"]\n",
    "\n",
    "valid_features = df_valid.drop(\"is_ultra\", axis=1)\n",
    "valid_target = df_valid[\"is_ultra\"]\n",
    "\n",
    "test_features = df_test.drop(\"is_ultra\", axis=1)\n",
    "test_target = df_test[\"is_ultra\"]\n",
    "\n",
    "print(train_features.shape)\n",
    "print(train_target.shape)\n",
    "print(valid_features.shape)\n",
    "print(valid_target.shape)\n",
    "print(test_features.shape)\n",
    "print(test_target.shape)"
   ]
  },
  {
   "cell_type": "code",
   "execution_count": 5,
   "metadata": {},
   "outputs": [
    {
     "name": "stdout",
     "output_type": "stream",
     "text": [
      "depth= 1\n",
      "valid_accuray = 0.7495854063018242\n",
      "test_accuray = 0.75\n",
      "depth= 2\n",
      "valid_accuray = 0.7761194029850746\n",
      "test_accuray = 0.7860696517412935\n",
      "depth= 3\n",
      "valid_accuray = 0.7943615257048093\n",
      "test_accuray = 0.7910447761194029\n",
      "depth= 4\n",
      "valid_accuray = 0.7893864013266998\n",
      "test_accuray = 0.7898009950248757\n",
      "depth= 5\n",
      "valid_accuray = 0.7877280265339967\n",
      "test_accuray = 0.7873134328358209\n",
      "depth= 6\n",
      "valid_accuray = 0.7910447761194029\n",
      "test_accuray = 0.7898009950248757\n",
      "depth= 7\n",
      "valid_accuray = 0.7827529021558872\n",
      "test_accuray = 0.7935323383084577\n",
      "depth= 8\n",
      "valid_accuray = 0.7910447761194029\n",
      "test_accuray = 0.7922885572139303\n",
      "depth= 9\n",
      "valid_accuray = 0.7744610281923715\n",
      "test_accuray = 0.7873134328358209\n",
      "depth= 10\n",
      "valid_accuray = 0.7844112769485904\n",
      "test_accuray = 0.7947761194029851\n",
      "accuracy del mejor modelo en el conjunto de prueba (max_depth = 10): 0.7947761194029851\n"
     ]
    }
   ],
   "source": [
    "#DecisionTreeClassifier\n",
    "best_model = None\n",
    "best_accuracy = 0.75\n",
    "best_depth = 0\n",
    "for depth in range(1, 11):\n",
    "    model = DecisionTreeClassifier(random_state=12345, max_depth=depth)\n",
    "    model.fit(train_features, train_target)\n",
    "\n",
    "    valid_predictions = model.predict(valid_features)\n",
    "    test_predictions = model.predict(test_features)\n",
    "\n",
    "    valid_accuracy = accuracy_score(valid_target, valid_predictions)\n",
    "    test_accuracy = accuracy_score(test_target, test_predictions)\n",
    "\n",
    "    print('depth=', depth)\n",
    "    print('valid_accuray =', valid_accuracy)\n",
    "    print('test_accuray =', test_accuracy)\n",
    "\n",
    "    if test_accuracy > best_accuracy:\n",
    "        best_model = model\n",
    "        best_accuracy = test_accuracy\n",
    "        best_depth = depth\n",
    "\n",
    "print(f\"accuracy del mejor modelo en el conjunto de prueba (max_depth = {best_depth}): {best_accuracy}\")"
   ]
  },
  {
   "cell_type": "markdown",
   "metadata": {},
   "source": [
    "Se realizó una iteración para encontrar la profundidad adecuada del arbol de decisión encontrando que el mejor modelo corresponde a un árbol con max_depth igual a 10 con un accuracy score de 0.79"
   ]
  },
  {
   "cell_type": "code",
   "execution_count": 6,
   "metadata": {},
   "outputs": [
    {
     "name": "stdout",
     "output_type": "stream",
     "text": [
      "La exactitud del mejor modelo en el conjunto de prueba (n_estimators = 20, max_depth = 10): 0.8084577114427861\n"
     ]
    }
   ],
   "source": [
    "#RandomForestClassifier\n",
    "best_model = None\n",
    "best_est = 0\n",
    "best_depth = 0\n",
    "best_accuracy = 0.75\n",
    "\n",
    "for est in range(10, 50, 10):\n",
    "    for depth in range(1, 11):\n",
    "        model = RandomForestClassifier(random_state=12345, n_estimators=est, max_depth=depth)\n",
    "        model.fit(train_features, train_target)\n",
    "\n",
    "        valid_predictions = model.predict(valid_features)\n",
    "        test_predictions = model.predict(test_features)\n",
    "\n",
    "        valid_accuracy = accuracy_score(valid_target, valid_predictions)\n",
    "        test_accuracy = accuracy_score(test_target, test_predictions)\n",
    "\n",
    "        if test_accuracy > best_accuracy:\n",
    "            best_est = est\n",
    "            best_depth = depth\n",
    "            best_accuracy = test_accuracy\n",
    "\n",
    "print(\"La exactitud del mejor modelo en el conjunto de prueba (n_estimators = {}, max_depth = {}): {}\".format(best_est, best_depth, best_accuracy))"
   ]
  },
  {
   "cell_type": "markdown",
   "metadata": {},
   "source": [
    "Se iteró un modelo RandomForestClassifier a fin de encontrar el número óptimo de árboles y la profundidad de los mismos, obteniendo como resultado que el mejor modelo en el conjunto de prueba tiene un accuracy score de 0.8084 con n_estimators igual a 20 y max_depth igual a 10."
   ]
  },
  {
   "cell_type": "code",
   "execution_count": 7,
   "metadata": {},
   "outputs": [
    {
     "name": "stdout",
     "output_type": "stream",
     "text": [
      "accuracy del modelo de regresión logística es 0.7562189054726368\n"
     ]
    }
   ],
   "source": [
    "#LogisticRegression\n",
    "model = LogisticRegression(random_state=12345, solver='liblinear')\n",
    "model.fit(train_features, train_target)\n",
    "test_predictions = model.predict(test_features)\n",
    "test_accuracy = accuracy_score(test_target, test_predictions)\n",
    "print('accuracy del modelo de regresión logística es', test_accuracy)"
   ]
  },
  {
   "cell_type": "code",
   "execution_count": 8,
   "metadata": {},
   "outputs": [
    {
     "name": "stdout",
     "output_type": "stream",
     "text": [
      "1.0\n"
     ]
    }
   ],
   "source": [
    "#Prueba de cordura\n",
    "model = RandomForestClassifier(random_state=12345, n_estimators=20, max_depth=10)\n",
    "model.fit(valid_features[:10], valid_target[:10])\n",
    "print(model.score(valid_features[:10], valid_target[:10]))"
   ]
  },
  {
   "cell_type": "markdown",
   "metadata": {},
   "source": [
    "Se observa que no existe un sobreajuste del modelo ya que la prueba de cordura en una muestra pequeña determina un score de exactitud de 1"
   ]
  },
  {
   "cell_type": "markdown",
   "metadata": {},
   "source": [
    "# Conclusiones\n",
    "- El mejor modelo es el Random Forest con un accuracy score de 0.81 que supera el umbralde exactitud propuesto de 0.75. Se puede interpretar que el modelo predice con más del 80% de exactitud si se debe recomendar un plan Smart o Ultra.\n",
    "- No existe un sobreajuste del modelo, ya que se tiene un accuracy score de 1 para una muestra de 10 datos."
   ]
  }
 ],
 "metadata": {
  "kernelspec": {
   "display_name": "Python 3 (ipykernel)",
   "language": "python",
   "name": "python3"
  },
  "language_info": {
   "codemirror_mode": {
    "name": "ipython",
    "version": 3
   },
   "file_extension": ".py",
   "mimetype": "text/x-python",
   "name": "python",
   "nbconvert_exporter": "python",
   "pygments_lexer": "ipython3",
   "version": "3.9.22"
  }
 },
 "nbformat": 4,
 "nbformat_minor": 4
}
