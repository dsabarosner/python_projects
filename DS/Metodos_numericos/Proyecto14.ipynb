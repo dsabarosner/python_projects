{
 "cells": [
  {
   "cell_type": "markdown",
   "metadata": {},
   "source": [
    "# Rusty Bargain"
   ]
  },
  {
   "cell_type": "markdown",
   "metadata": {},
   "source": [
    "El servicio de venta de autos usados Rusty Bargain está desarrollando una aplicación para atraer nuevos clientes. Gracias a esa app, puedes averiguar rápidamente el valor de mercado de tu coche. Tienes acceso al historial: especificaciones técnicas, versiones de equipamiento y precios. Tienes que crear un modelo que determine el valor de mercado.\n",
    "A Rusty Bargain le interesa:\n",
    "- la calidad de la predicción;\n",
    "- la velocidad de la predicción;\n",
    "- el tiempo requerido para el entrenamiento\n",
    "\n",
    "Características:\n",
    "\n",
    "- DateCrawled — fecha en la que se descargó el perfil de la base de datos\n",
    "- VehicleType — tipo de carrocería del vehículo\n",
    "- RegistrationYear — año de matriculación del vehículo\n",
    "- Gearbox — tipo de caja de cambios\n",
    "- Power — potencia (CV)\n",
    "- Model — modelo del vehículo\n",
    "- Mileage — kilometraje (medido en km de acuerdo con las especificidades regionales del conjunto de datos)\n",
    "- RegistrationMonth — mes de matriculación del vehículo\n",
    "- FuelType — tipo de combustible\n",
    "- Brand — marca del vehículo\n",
    "- NotRepaired — vehículo con o sin reparación\n",
    "- DateCreated — fecha de creación del perfil\n",
    "- NumberOfPictures — número de fotos del vehículo\n",
    "- PostalCode — código postal del propietario del perfil (usuario)\n",
    "- LastSeen — fecha de la última vez que el usuario estuvo activo\n",
    "\n",
    "Objetivo\n",
    "\n",
    "- Price — precio (en euros)"
   ]
  },
  {
   "cell_type": "markdown",
   "metadata": {},
   "source": [
    "## Preparación de datos"
   ]
  },
  {
   "cell_type": "markdown",
   "metadata": {},
   "source": [
    "## 1. Librerías"
   ]
  },
  {
   "cell_type": "code",
   "execution_count": 1,
   "metadata": {},
   "outputs": [],
   "source": [
    "import pandas as pd\n",
    "import numpy as np\n",
    "import seaborn as sns\n",
    "import matplotlib.pyplot as plt\n",
    "from time import time\n",
    "\n",
    "from sklearn.model_selection import train_test_split\n",
    "from sklearn.metrics import mean_squared_error\n",
    "from sklearn.compose import ColumnTransformer\n",
    "from sklearn.preprocessing import StandardScaler, OneHotEncoder\n",
    "from sklearn.pipeline import Pipeline\n",
    "from sklearn.model_selection import GridSearchCV\n",
    "\n",
    "from sklearn.linear_model import LinearRegression\n",
    "from sklearn.ensemble import RandomForestRegressor\n",
    "from sklearn.tree import DecisionTreeRegressor\n",
    "from lightgbm import LGBMRegressor\n",
    "from xgboost import XGBRegressor\n",
    "from catboost import CatBoostRegressor"
   ]
  },
  {
   "cell_type": "markdown",
   "metadata": {},
   "source": [
    "## 2. Cargar datos"
   ]
  },
  {
   "cell_type": "code",
   "execution_count": 2,
   "metadata": {},
   "outputs": [
    {
     "name": "stdout",
     "output_type": "stream",
     "text": [
      "<class 'pandas.core.frame.DataFrame'>\n",
      "RangeIndex: 354369 entries, 0 to 354368\n",
      "Data columns (total 16 columns):\n",
      " #   Column             Non-Null Count   Dtype \n",
      "---  ------             --------------   ----- \n",
      " 0   DateCrawled        354369 non-null  object\n",
      " 1   Price              354369 non-null  int64 \n",
      " 2   VehicleType        316879 non-null  object\n",
      " 3   RegistrationYear   354369 non-null  int64 \n",
      " 4   Gearbox            334536 non-null  object\n",
      " 5   Power              354369 non-null  int64 \n",
      " 6   Model              334664 non-null  object\n",
      " 7   Mileage            354369 non-null  int64 \n",
      " 8   RegistrationMonth  354369 non-null  int64 \n",
      " 9   FuelType           321474 non-null  object\n",
      " 10  Brand              354369 non-null  object\n",
      " 11  NotRepaired        283215 non-null  object\n",
      " 12  DateCreated        354369 non-null  object\n",
      " 13  NumberOfPictures   354369 non-null  int64 \n",
      " 14  PostalCode         354369 non-null  int64 \n",
      " 15  LastSeen           354369 non-null  object\n",
      "dtypes: int64(7), object(9)\n",
      "memory usage: 43.3+ MB\n",
      "\n",
      "        DateCrawled  Price VehicleType  RegistrationYear Gearbox  Power  \\\n",
      "0  24/03/2016 11:52    480         NaN              1993  manual      0   \n",
      "1  24/03/2016 10:58  18300       coupe              2011  manual    190   \n",
      "2  14/03/2016 12:52   9800         suv              2004    auto    163   \n",
      "3  17/03/2016 16:54   1500       small              2001  manual     75   \n",
      "4  31/03/2016 17:25   3600       small              2008  manual     69   \n",
      "\n",
      "   Model  Mileage  RegistrationMonth  FuelType       Brand NotRepaired  \\\n",
      "0   golf   150000                  0    petrol  volkswagen         NaN   \n",
      "1    NaN   125000                  5  gasoline        audi         yes   \n",
      "2  grand   125000                  8  gasoline        jeep         NaN   \n",
      "3   golf   150000                  6    petrol  volkswagen          no   \n",
      "4  fabia    90000                  7  gasoline       skoda          no   \n",
      "\n",
      "        DateCreated  NumberOfPictures  PostalCode          LastSeen  \n",
      "0  24/03/2016 00:00                 0       70435  07/04/2016 03:16  \n",
      "1  24/03/2016 00:00                 0       66954  07/04/2016 01:46  \n",
      "2  14/03/2016 00:00                 0       90480  05/04/2016 12:47  \n",
      "3  17/03/2016 00:00                 0       91074  17/03/2016 17:40  \n",
      "4  31/03/2016 00:00                 0       60437  06/04/2016 10:17  \n"
     ]
    }
   ],
   "source": [
    "df = pd.read_csv('/datasets/car_data.csv')\n",
    "\n",
    "#Tipo de datos y columnas del dataframe\n",
    "df.info()\n",
    "print('')\n",
    "print(df.head())"
   ]
  },
  {
   "cell_type": "markdown",
   "metadata": {},
   "source": [
    "## 3. Limpieza de datos"
   ]
  },
  {
   "cell_type": "code",
   "execution_count": 3,
   "metadata": {},
   "outputs": [
    {
     "name": "stdout",
     "output_type": "stream",
     "text": [
      "\n",
      "             Valores_nulos  pct_total\n",
      "VehicleType          37490   0.105794\n",
      "Gearbox              19833   0.055967\n",
      "Model                19705   0.055606\n",
      "FuelType             32895   0.092827\n",
      "NotRepaired          71154   0.200791\n"
     ]
    }
   ],
   "source": [
    "#Valores nulos\n",
    "dfx = df.isna().sum()\n",
    "dfx = dfx[dfx>0]\n",
    "dfx = pd.DataFrame(dfx, columns=['Valores_nulos'])\n",
    "dfx['pct_total'] = dfx['Valores_nulos']/len(df)\n",
    "print('')\n",
    "print(dfx)"
   ]
  },
  {
   "cell_type": "markdown",
   "metadata": {},
   "source": [
    "Se observan datos ausentes en las columnas VehicleType, Gearbox, Model, FuelType y NotRepaired. Estos datos se completarán creando una nueva categoría \"Unknown\" ya que son columnas importantes para definir el precio de un vehículo y por lo que no se pueden eliminar."
   ]
  },
  {
   "cell_type": "code",
   "execution_count": 4,
   "metadata": {},
   "outputs": [
    {
     "name": "stdout",
     "output_type": "stream",
     "text": [
      "DateCrawled          0\n",
      "Price                0\n",
      "VehicleType          0\n",
      "RegistrationYear     0\n",
      "Gearbox              0\n",
      "Power                0\n",
      "Model                0\n",
      "Mileage              0\n",
      "RegistrationMonth    0\n",
      "FuelType             0\n",
      "Brand                0\n",
      "NotRepaired          0\n",
      "DateCreated          0\n",
      "NumberOfPictures     0\n",
      "PostalCode           0\n",
      "LastSeen             0\n",
      "dtype: int64\n"
     ]
    }
   ],
   "source": [
    "#Procesamiento de valores nulos\n",
    "df = df.fillna('Unknown')\n",
    "print(df.isnull().sum())"
   ]
  },
  {
   "cell_type": "code",
   "execution_count": 5,
   "metadata": {},
   "outputs": [],
   "source": [
    "#Eliminar columnas irrelevantes\n",
    "df = df.drop(['DateCrawled', 'DateCreated', 'NumberOfPictures', 'PostalCode', 'LastSeen'], axis=1)"
   ]
  },
  {
   "cell_type": "code",
   "execution_count": 6,
   "metadata": {},
   "outputs": [
    {
     "data": {
      "text/html": [
       "<div>\n",
       "<style scoped>\n",
       "    .dataframe tbody tr th:only-of-type {\n",
       "        vertical-align: middle;\n",
       "    }\n",
       "\n",
       "    .dataframe tbody tr th {\n",
       "        vertical-align: top;\n",
       "    }\n",
       "\n",
       "    .dataframe thead th {\n",
       "        text-align: right;\n",
       "    }\n",
       "</style>\n",
       "<table border=\"1\" class=\"dataframe\">\n",
       "  <thead>\n",
       "    <tr style=\"text-align: right;\">\n",
       "      <th></th>\n",
       "      <th>Price</th>\n",
       "      <th>RegistrationYear</th>\n",
       "      <th>Power</th>\n",
       "      <th>Mileage</th>\n",
       "      <th>RegistrationMonth</th>\n",
       "    </tr>\n",
       "  </thead>\n",
       "  <tbody>\n",
       "    <tr>\n",
       "      <th>count</th>\n",
       "      <td>354369.000000</td>\n",
       "      <td>354369.000000</td>\n",
       "      <td>354369.000000</td>\n",
       "      <td>354369.000000</td>\n",
       "      <td>354369.000000</td>\n",
       "    </tr>\n",
       "    <tr>\n",
       "      <th>mean</th>\n",
       "      <td>4416.656776</td>\n",
       "      <td>2004.234448</td>\n",
       "      <td>110.094337</td>\n",
       "      <td>128211.172535</td>\n",
       "      <td>5.714645</td>\n",
       "    </tr>\n",
       "    <tr>\n",
       "      <th>std</th>\n",
       "      <td>4514.158514</td>\n",
       "      <td>90.227958</td>\n",
       "      <td>189.850405</td>\n",
       "      <td>37905.341530</td>\n",
       "      <td>3.726421</td>\n",
       "    </tr>\n",
       "    <tr>\n",
       "      <th>min</th>\n",
       "      <td>0.000000</td>\n",
       "      <td>1000.000000</td>\n",
       "      <td>0.000000</td>\n",
       "      <td>5000.000000</td>\n",
       "      <td>0.000000</td>\n",
       "    </tr>\n",
       "    <tr>\n",
       "      <th>25%</th>\n",
       "      <td>1050.000000</td>\n",
       "      <td>1999.000000</td>\n",
       "      <td>69.000000</td>\n",
       "      <td>125000.000000</td>\n",
       "      <td>3.000000</td>\n",
       "    </tr>\n",
       "    <tr>\n",
       "      <th>50%</th>\n",
       "      <td>2700.000000</td>\n",
       "      <td>2003.000000</td>\n",
       "      <td>105.000000</td>\n",
       "      <td>150000.000000</td>\n",
       "      <td>6.000000</td>\n",
       "    </tr>\n",
       "    <tr>\n",
       "      <th>75%</th>\n",
       "      <td>6400.000000</td>\n",
       "      <td>2008.000000</td>\n",
       "      <td>143.000000</td>\n",
       "      <td>150000.000000</td>\n",
       "      <td>9.000000</td>\n",
       "    </tr>\n",
       "    <tr>\n",
       "      <th>max</th>\n",
       "      <td>20000.000000</td>\n",
       "      <td>9999.000000</td>\n",
       "      <td>20000.000000</td>\n",
       "      <td>150000.000000</td>\n",
       "      <td>12.000000</td>\n",
       "    </tr>\n",
       "  </tbody>\n",
       "</table>\n",
       "</div>"
      ],
      "text/plain": [
       "               Price  RegistrationYear          Power        Mileage  \\\n",
       "count  354369.000000     354369.000000  354369.000000  354369.000000   \n",
       "mean     4416.656776       2004.234448     110.094337  128211.172535   \n",
       "std      4514.158514         90.227958     189.850405   37905.341530   \n",
       "min         0.000000       1000.000000       0.000000    5000.000000   \n",
       "25%      1050.000000       1999.000000      69.000000  125000.000000   \n",
       "50%      2700.000000       2003.000000     105.000000  150000.000000   \n",
       "75%      6400.000000       2008.000000     143.000000  150000.000000   \n",
       "max     20000.000000       9999.000000   20000.000000  150000.000000   \n",
       "\n",
       "       RegistrationMonth  \n",
       "count      354369.000000  \n",
       "mean            5.714645  \n",
       "std             3.726421  \n",
       "min             0.000000  \n",
       "25%             3.000000  \n",
       "50%             6.000000  \n",
       "75%             9.000000  \n",
       "max            12.000000  "
      ]
     },
     "execution_count": 6,
     "metadata": {},
     "output_type": "execute_result"
    }
   ],
   "source": [
    "#estadísticas descriptivas\n",
    "df.describe()"
   ]
  },
  {
   "cell_type": "code",
   "execution_count": 7,
   "metadata": {},
   "outputs": [
    {
     "data": {
      "image/png": "[encoded data removed]",
      "text/plain": [
       "<Figure size 1500x1000 with 6 Axes>"
      ]
     },
     "metadata": {},
     "output_type": "display_data"
    }
   ],
   "source": [
    "# Boxplots para analizar posibles valores atípicos\n",
    "cols = ['Price','RegistrationYear','Power','Mileage','RegistrationMonth']\n",
    "\n",
    "fig, axes = plt.subplots(nrows=2, ncols=3, figsize=(15, 10))\n",
    "col_index = 0\n",
    "\n",
    "for row in axes:\n",
    "    for ax in row:\n",
    "        if col_index < len(cols):\n",
    "            col_name = cols[col_index]\n",
    "            sns.boxplot(df[col_name], ax=ax)\n",
    "            ax.set_title(f'{col_name}')\n",
    "\n",
    "            col_index += 1   \n",
    "              "
   ]
  },
  {
   "cell_type": "markdown",
   "metadata": {},
   "source": [
    "Se pueden observar valores atípicos en las columnas Price, RegistrationYear, Power y Mileage. Los valores atípicos de Price y Mileage pueden deberse a mejores autos. Sin embargo, los valores de RegistrationYear y Power deben filtrarse para quedarse únicamente con registros validos."
   ]
  },
  {
   "cell_type": "code",
   "execution_count": 8,
   "metadata": {},
   "outputs": [],
   "source": [
    "#Depurar datos atípicos\n",
    "##Filtrar RegistrationYear\n",
    "df = df[(df['RegistrationYear'] >= 1950) & (df['RegistrationYear'] <= 2025)]\n",
    "\n",
    "#Filtrar Power\n",
    "df = df[(df['Power'] >= 10) & (df['Power'] <= 500)]"
   ]
  },
  {
   "cell_type": "markdown",
   "metadata": {},
   "source": [
    "## 4. Preparar datos"
   ]
  },
  {
   "cell_type": "code",
   "execution_count": 9,
   "metadata": {},
   "outputs": [],
   "source": [
    "#Separar features y target\n",
    "X = df.drop('Price', axis=1)\n",
    "y = df['Price']\n",
    "\n",
    "#Dividir en train y test\n",
    "X_train, X_test, y_train, y_test = train_test_split(X, y, test_size=0.25, random_state=12345)\n",
    "\n",
    "#Variables categóricas y numéricas\n",
    "categorical_cols = X.select_dtypes('object').columns\n",
    "numeric_cols = X.select_dtypes('int64').columns\n",
    "\n",
    "#StandardScaler y one hot encoding\n",
    "preprocessor = ColumnTransformer(transformers=[('num', StandardScaler(), numeric_cols), \n",
    "    ('cat', OneHotEncoder(handle_unknown='ignore'), categorical_cols)\n",
    "])"
   ]
  },
  {
   "cell_type": "markdown",
   "metadata": {},
   "source": [
    "Se realizó la división de datos en los grupos train y test. Por otra parte, se generó un preprocesador para estandarizar las columnas numéricas y aplicar OHE a las columnas categóricas para los modelos que lo requieran."
   ]
  },
  {
   "cell_type": "markdown",
   "metadata": {},
   "source": [
    "## Entrenamiento del modelo "
   ]
  },
  {
   "cell_type": "markdown",
   "metadata": {},
   "source": [
    "## 1. Regresión lineal"
   ]
  },
  {
   "cell_type": "code",
   "execution_count": 10,
   "metadata": {},
   "outputs": [
    {
     "name": "stdout",
     "output_type": "stream",
     "text": [
      "RMSE Regresión Lineal: 2646.714286718587\n",
      "Tiempo entranamiento Regresión lineal: 12.993515253067017\n",
      "Tiempo predicción Regresión lineal: 0.16614913940429688\n"
     ]
    }
   ],
   "source": [
    "#Entrenar modelo\n",
    "lr_pipeline = Pipeline(steps=[('preprocess', preprocessor),\n",
    "                             ('regressor', LinearRegression())])\n",
    "\n",
    "inicio = time()\n",
    "lr_pipeline.fit(X_train, y_train)\n",
    "fin_fit_lr = time() - inicio\n",
    "\n",
    "inicio_pred =time()\n",
    "y_pred = lr_pipeline.predict(X_test)\n",
    "fin_pred_lr = time() - inicio_pred\n",
    "\n",
    "#Evaluación del modelo con RMSE\n",
    "rmse_lr = np.sqrt(mean_squared_error(y_test, y_pred))\n",
    "\n",
    "print('RMSE Regresión Lineal:', rmse_lr)\n",
    "\n",
    "print('Tiempo entranamiento Regresión lineal:', fin_fit_lr)\n",
    "print('Tiempo predicción Regresión lineal:', fin_pred_lr)"
   ]
  },
  {
   "cell_type": "markdown",
   "metadata": {},
   "source": [
    "## 2. Árbol de decisión"
   ]
  },
  {
   "cell_type": "code",
   "execution_count": 11,
   "metadata": {},
   "outputs": [
    {
     "name": "stdout",
     "output_type": "stream",
     "text": [
      "Fitting 3 folds for each of 4 candidates, totalling 12 fits\n",
      "Mejores parámetros: {'regressor__max_depth': 15, 'regressor__min_samples_leaf': 10}\n",
      "RMSE Decision Tree: 1914.4037481838839\n",
      "Tiempo entranamiento Decision Tree: 30.51494336128235\n",
      "Tiempo predicción Decision Tree: 0.0983734130859375\n"
     ]
    }
   ],
   "source": [
    "dt_pipeline = Pipeline(steps=[('preprocessor', preprocessor),\n",
    "                             ('regressor', DecisionTreeRegressor(random_state=12345))])\n",
    "\n",
    "#Optimizar hiperparámetros\n",
    "param_grid = {'regressor__max_depth': [5, 15],\n",
    "             'regressor__min_samples_leaf': [1, 10]}\n",
    "\n",
    "grid_tree = GridSearchCV(dt_pipeline, param_grid, cv=3, scoring='neg_root_mean_squared_error',  n_jobs=-1, verbose=1)\n",
    "\n",
    "#Entrenar el modelo\n",
    "inicio = time()\n",
    "grid_tree.fit(X_train, y_train)\n",
    "print(\"Mejores parámetros:\", grid_tree.best_params_)\n",
    "fin_fit_dt = time() - inicio\n",
    "\n",
    "inicio_pred =time()\n",
    "y_pred = grid_tree.predict(X_test)\n",
    "fin_pred_dt = time() - inicio_pred\n",
    "\n",
    "#Evaluación del modelo con RMSE\n",
    "rmse_dt = np.sqrt(mean_squared_error(y_test, y_pred))\n",
    "\n",
    "print('RMSE Decision Tree:', rmse_dt)\n",
    "print('Tiempo entranamiento Decision Tree:', fin_fit_dt)\n",
    "print('Tiempo predicción Decision Tree:', fin_pred_dt)"
   ]
  },
  {
   "cell_type": "markdown",
   "metadata": {},
   "source": [
    "## 3. Random Forest"
   ]
  },
  {
   "cell_type": "code",
   "execution_count": 12,
   "metadata": {},
   "outputs": [
    {
     "name": "stdout",
     "output_type": "stream",
     "text": [
      "Fitting 3 folds for each of 4 candidates, totalling 12 fits\n",
      "Mejores parámetros: {'regressor__max_depth': 10, 'regressor__min_samples_leaf': 5, 'regressor__n_estimators': 50}\n",
      "RMSE RandomForest: 1982.059198387921\n",
      "Tiempo Entrenamiento RandomForest: 430.0952434539795\n",
      "Tiempo predicción RandomForest: 0.3325202465057373\n"
     ]
    }
   ],
   "source": [
    "rf_pipeline = Pipeline(steps=[('preprocessor', preprocessor),\n",
    "                             ('regressor', RandomForestRegressor(random_state=12345))])\n",
    "\n",
    "#Optimizar parámetros\n",
    "param_grid ={'regressor__n_estimators': [50],\n",
    "    'regressor__max_depth': [5, 10],\n",
    "    'regressor__min_samples_leaf': [5, 10]}\n",
    "\n",
    "grid_rf = GridSearchCV(rf_pipeline, param_grid, cv=3, scoring='neg_root_mean_squared_error',  n_jobs=-1, verbose=1)\n",
    "\n",
    "#Entrenar el modelo\n",
    "inicio= time()\n",
    "grid_rf.fit(X_train, y_train)\n",
    "print(\"Mejores parámetros:\", grid_rf.best_params_)\n",
    "fin_fit_rf = time() - inicio\n",
    "\n",
    "inicio_pred =time()\n",
    "y_pred = grid_rf.predict(X_test)\n",
    "fin_pred_rf = time() - inicio_pred\n",
    "\n",
    "#Evaluación del modelo con RMSE\n",
    "rmse_rf = np.sqrt(mean_squared_error(y_test, y_pred))\n",
    "\n",
    "print('RMSE RandomForest:', rmse_rf)\n",
    "print('Tiempo Entrenamiento RandomForest:', fin_fit_rf)\n",
    "print('Tiempo predicción RandomForest:', fin_pred_rf)"
   ]
  },
  {
   "cell_type": "markdown",
   "metadata": {},
   "source": [
    "## 4. LightGBM"
   ]
  },
  {
   "cell_type": "code",
   "execution_count": 13,
   "metadata": {},
   "outputs": [
    {
     "name": "stdout",
     "output_type": "stream",
     "text": [
      "Fitting 3 folds for each of 8 candidates, totalling 24 fits\n",
      "Mejores parámetros: {'regressor__max_depth': 10, 'regressor__min_samples_leaf': 5, 'regressor__n_estimators': 50}\n",
      "RMSE LightGBM: 1692.7622761730759\n",
      "Tiempo Entrenamiento LightGBM: 31.258216381072998\n",
      "Tiempo predicción LightGBM: 0.6225769519805908\n"
     ]
    }
   ],
   "source": [
    "# Convertir columnas categóricas a tipo category\n",
    "X_train_lgbm = X_train.copy()\n",
    "X_test_lgbm = X_test.copy()\n",
    "\n",
    "for col in categorical_cols:\n",
    "    X_train_lgbm[col] = X_train_lgbm[col].astype('category')\n",
    "    X_test_lgbm[col] = X_test_lgbm[col].astype('category')\n",
    "\n",
    "\n",
    "#Optimizar hiperparámetros\n",
    "param_grid_lgbm = {'n_estimators': [100, 200],\n",
    "    'max_depth': [10, 15],\n",
    "    'learning_rate': [0.05, 0.1]}\n",
    "\n",
    "lgbm_model = LGBMRegressor(random_state=12345)\n",
    "\n",
    "grid_lgbm = GridSearchCV(lgbm_model, param_grid_lgbm, cv=3, scoring='neg_root_mean_squared_error', n_jobs=-1, verbose=1)\n",
    "\n",
    "#Entrenar el modelo\n",
    "inicio = time()\n",
    "grid_lgbm.fit(X_train_lgbm, y_train)\n",
    "print(\"Mejores parámetros:\", grid_rf.best_params_)\n",
    "fin_fit_lgbm = time() - inicio\n",
    "\n",
    "inicio_pred =time()\n",
    "y_pred = grid_lgbm.predict(X_test_lgbm)\n",
    "fin_pred_lgbm = time() - inicio_pred\n",
    "\n",
    "#Evaluación del modelo con RMSE\n",
    "rmse_lgbm = np.sqrt(mean_squared_error(y_test, y_pred))\n",
    "\n",
    "print('RMSE LightGBM:', rmse_lgbm)\n",
    "print('Tiempo Entrenamiento LightGBM:', fin_fit_lgbm)\n",
    "print('Tiempo predicción LightGBM:', fin_pred_lgbm)"
   ]
  },
  {
   "cell_type": "markdown",
   "metadata": {},
   "source": [
    "## 5. CatBoost"
   ]
  },
  {
   "cell_type": "code",
   "execution_count": 14,
   "metadata": {},
   "outputs": [
    {
     "name": "stdout",
     "output_type": "stream",
     "text": [
      "Fitting 3 folds for each of 4 candidates, totalling 12 fits\n",
      "Mejores parámetros: {'depth': 10, 'learning_rate': 0.1, 'n_estimators': 100}\n",
      "RMSE CatBoost: 1773.9901358975974\n",
      "Tiempo Entrenamiento CatBoost: 53.22817516326904\n",
      "Tiempo predicción CatBoost: 0.04707503318786621\n"
     ]
    }
   ],
   "source": [
    "# Convertir columnas categóricas a tipo category\n",
    "X_train_cb = X_train.copy()\n",
    "X_test_cb = X_test.copy()\n",
    "\n",
    "for col in categorical_cols:\n",
    "    X_train_cb[col] = X_train_cb[col].astype('category')\n",
    "    X_test_cb[col] = X_test_cb[col].astype('category')\n",
    "\n",
    "cat_features = list(X_train_cb.select_dtypes('category').columns)\n",
    "\n",
    "#Optimizar hiperparámetros    \n",
    "param_grid_cb = {'n_estimators': [100],\n",
    "    'depth': [6, 10],\n",
    "    'learning_rate': [0.05, 0.1]}\n",
    "\n",
    "cb_model = CatBoostRegressor(random_state=12345, verbose=0)\n",
    "\n",
    "grid_cb = GridSearchCV(cb_model, param_grid_cb, cv=3, scoring='neg_root_mean_squared_error', n_jobs=-1, verbose=1)\n",
    "\n",
    "#Entrenar modelo\n",
    "inicio = time()\n",
    "grid_cb.fit(X_train_cb, y_train, cat_features=cat_features)\n",
    "\n",
    "print(\"Mejores parámetros:\", grid_cb.best_params_)\n",
    "fin_fit_cb = time() - inicio\n",
    "\n",
    "inicio_pred =time()\n",
    "y_pred = grid_cb.predict(X_test_cb)\n",
    "fin_pred_cb = time() - inicio_pred\n",
    "\n",
    "#Evaluación del modelo con RMSE\n",
    "rmse_cb = np.sqrt(mean_squared_error(y_test, y_pred))\n",
    "\n",
    "print('RMSE CatBoost:', rmse_cb)\n",
    "print('Tiempo Entrenamiento CatBoost:', fin_fit_cb)\n",
    "print('Tiempo predicción CatBoost:', fin_pred_cb)"
   ]
  },
  {
   "cell_type": "markdown",
   "metadata": {},
   "source": [
    "## 6. XGBoost"
   ]
  },
  {
   "cell_type": "code",
   "execution_count": 15,
   "metadata": {},
   "outputs": [
    {
     "name": "stdout",
     "output_type": "stream",
     "text": [
      "Fitting 3 folds for each of 8 candidates, totalling 24 fits\n",
      "Mejores parámetros: {'regressor__learning_rate': 0.1, 'regressor__max_depth': 6, 'regressor__n_estimators': 60}\n",
      "RMSE XGBoost: 1841.6182810349858\n",
      "Tiempo Entrenamiento XGBoost: 629.8063097000122\n",
      "Tiempo predicción XGBoost: 0.19740700721740723\n"
     ]
    }
   ],
   "source": [
    "xgb_pipeline = Pipeline(steps=[('preprocessor', preprocessor),\n",
    "                              ('regressor', XGBRegressor(random_state=12345))])\n",
    "\n",
    "param_grid_xgb = {'regressor__n_estimators': [20, 60],\n",
    "    'regressor__max_depth': [2, 6],\n",
    "    'regressor__learning_rate': [0.05, 0.1]}\n",
    "\n",
    "grid_xgb = GridSearchCV(xgb_pipeline, param_grid_xgb, cv=3, scoring='neg_root_mean_squared_error', n_jobs=-1, verbose=1)\n",
    "\n",
    "#Entrenar modelo\n",
    "inicio = time()\n",
    "grid_xgb.fit(X_train, y_train)\n",
    "\n",
    "print(\"Mejores parámetros:\", grid_xgb.best_params_)\n",
    "fin_fit_xgb = time() - inicio\n",
    "\n",
    "inicio_pred =time()\n",
    "y_pred = grid_xgb.predict(X_test)\n",
    "fin_pred_xgb = time() - inicio_pred\n",
    "\n",
    "#Evaluación del modelo con RMSE\n",
    "rmse_xgb = np.sqrt(mean_squared_error(y_test, y_pred))\n",
    "\n",
    "print('RMSE XGBoost:', rmse_xgb)\n",
    "print('Tiempo Entrenamiento XGBoost:', fin_fit_xgb)\n",
    "print('Tiempo predicción XGBoost:', fin_pred_xgb)"
   ]
  },
  {
   "cell_type": "markdown",
   "metadata": {},
   "source": [
    "## Análisis del modelo"
   ]
  },
  {
   "cell_type": "code",
   "execution_count": 16,
   "metadata": {},
   "outputs": [
    {
     "name": "stdout",
     "output_type": "stream",
     "text": [
      "              Modelo         RMSE  Tiempo de entrenamiento  \\\n",
      "0   Regresion lineal  2646.714287                12.993515   \n",
      "1  Arbol de decisión  1914.403748                30.514943   \n",
      "2      Random Forest  1982.059198               430.095243   \n",
      "3           LightGBM  1692.762276                31.258216   \n",
      "4           CatBoost  1773.990136                53.228175   \n",
      "5            XGBoost  1841.618281               629.806310   \n",
      "\n",
      "   Tiempo de predicción  \n",
      "0              0.166149  \n",
      "1              0.098373  \n",
      "2              0.332520  \n",
      "3              0.622577  \n",
      "4              0.047075  \n",
      "5              0.197407  \n"
     ]
    }
   ],
   "source": [
    "#Comparación de resultados\n",
    "\n",
    "df_all = pd.DataFrame({'Modelo': ['Regresion lineal', 'Arbol de decisión', 'Random Forest', 'LightGBM', 'CatBoost', 'XGBoost'],\n",
    "                       'RMSE':[rmse_lr, rmse_dt, rmse_rf, rmse_lgbm, rmse_cb, rmse_xgb],\n",
    "                      'Tiempo de entrenamiento': [fin_fit_lr, fin_fit_dt, fin_fit_rf, fin_fit_lgbm, fin_fit_cb, fin_fit_xgb],\n",
    "                      'Tiempo de predicción': [fin_pred_lr, fin_pred_dt, fin_pred_rf, fin_pred_lgbm, fin_pred_cb, fin_pred_xgb]})\n",
    "\n",
    "print(df_all)"
   ]
  },
  {
   "cell_type": "markdown",
   "metadata": {},
   "source": [
    "## Conclusiones"
   ]
  },
  {
   "cell_type": "markdown",
   "metadata": {},
   "source": [
    "- Es evidente que la prueba de cordura con la regresión lineal funcionó correctamente ya que todos los demás modelos superaron su rendimiento.\n",
    "- El modelo con mayor precisión corresponde al LightGBM que presenta el menor RMSE y tiene el menor tiempo de entrenamiento despues de la regresión lineal. Si bien tiene el tiempo más lento entre los modelos de potenciación de gradiente, sigue siendo un tiempo relativamente aceptable para una app.\n",
    "- Una segunda opción podría ser el modelo CatBoost que presenta el segundo mejor RMSE y el menor tiempo de predicción."
   ]
  }
 ],
 "metadata": {
  "kernelspec": {
   "display_name": "Python 3 (ipykernel)",
   "language": "python",
   "name": "python3"
  },
  "language_info": {
   "codemirror_mode": {
    "name": "ipython",
    "version": 3
   },
   "file_extension": ".py",
   "mimetype": "text/x-python",
   "name": "python",
   "nbconvert_exporter": "python",
   "pygments_lexer": "ipython3",
   "version": "3.9.23"
  }
 },
 "nbformat": 4,
 "nbformat_minor": 4
}
