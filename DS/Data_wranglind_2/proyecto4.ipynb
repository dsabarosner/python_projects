{
 "cells": [
  {
   "cell_type": "markdown",
   "id": "3Xg_RQfnafXz",
   "metadata": {
    "id": "3Xg_RQfnafXz"
   },
   "source": [
    "# ¡Llena ese carrito!"
   ]
  },
  {
   "cell_type": "markdown",
   "id": "mhIvmmkW414q",
   "metadata": {
    "id": "mhIvmmkW414q"
   },
   "source": [
    "# Introducción\n",
    "\n",
    "Instacart es una plataforma de entregas de comestibles donde la clientela puede registrar un pedido y hacer que se lo entreguen, similar a Uber Eats y Door Dash.\n",
    "El conjunto de datos que te hemos proporcionado tiene modificaciones del original. Redujimos el tamaño del conjunto para que tus cálculos se hicieran más rápido e introdujimos valores ausentes y duplicados. Tuvimos cuidado de conservar las distribuciones de los datos originales cuando hicimos los cambios.\n",
    "\n",
    "Debes completar tres pasos. Para cada uno de ellos, escribe una breve introducción que refleje con claridad cómo pretendes resolver cada paso, y escribe párrafos explicatorios que justifiquen tus decisiones al tiempo que avanzas en tu solución.  También escribe una conclusión que resuma tus hallazgos y elecciones.\n"
   ]
  },
  {
   "cell_type": "markdown",
   "id": "3MbyzpOQZ5Or",
   "metadata": {
    "id": "3MbyzpOQZ5Or"
   },
   "source": [
    "## Diccionario de datos\n",
    "\n",
    "Hay cinco tablas en el conjunto de datos, y tendrás que usarlas todas para hacer el preprocesamiento de datos y el análisis exploratorio de datos. A continuación se muestra un diccionario de datos que enumera las columnas de cada tabla y describe los datos que contienen.\n",
    "\n",
    "- `instacart_orders.csv`: cada fila corresponde a un pedido en la aplicación Instacart.\n",
    "    - `'order_id'`: número de ID que identifica de manera única cada pedido.\n",
    "    - `'user_id'`: número de ID que identifica de manera única la cuenta de cada cliente.\n",
    "    - `'order_number'`: el número de veces que este cliente ha hecho un pedido.\n",
    "    - `'order_dow'`: día de la semana en que se hizo el pedido (0 si es domingo).\n",
    "    - `'order_hour_of_day'`: hora del día en que se hizo el pedido.\n",
    "    - `'days_since_prior_order'`: número de días transcurridos desde que este cliente hizo su pedido anterior.\n",
    "- `products.csv`: cada fila corresponde a un producto único que pueden comprar los clientes.\n",
    "    - `'product_id'`: número ID que identifica de manera única cada producto.\n",
    "    - `'product_name'`: nombre del producto.\n",
    "    - `'aisle_id'`: número ID que identifica de manera única cada categoría de pasillo de víveres.\n",
    "    - `'department_id'`: número ID que identifica de manera única cada departamento de víveres.\n",
    "- `order_products.csv`: cada fila corresponde a un artículo pedido en un pedido.\n",
    "    - `'order_id'`: número de ID que identifica de manera única cada pedido.\n",
    "    - `'product_id'`: número ID que identifica de manera única cada producto.\n",
    "    - `'add_to_cart_order'`: el orden secuencial en el que se añadió cada artículo en el carrito.\n",
    "    - `'reordered'`: 0 si el cliente nunca ha pedido este producto antes, 1 si lo ha pedido.\n",
    "- `aisles.csv`\n",
    "    - `'aisle_id'`: número ID que identifica de manera única cada categoría de pasillo de víveres.\n",
    "    - `'aisle'`: nombre del pasillo.\n",
    "- `departments.csv`\n",
    "    - `'department_id'`: número ID que identifica de manera única cada departamento de víveres.\n",
    "    - `'department'`: nombre del departamento."
   ]
  },
  {
   "cell_type": "markdown",
   "id": "n3Ha_cNSZ8lK",
   "metadata": {
    "id": "n3Ha_cNSZ8lK"
   },
   "source": [
    "# Paso 1. Descripción de los datos\n",
    "\n",
    "Lee los archivos de datos (`/datasets/instacart_orders.csv`, `/datasets/products.csv`, `/datasets/aisles.csv`, `/datasets/departments.csv` y `/datasets/order_products.csv`) con `pd.read_csv()` usando los parámetros adecuados para leer los datos correctamente. Verifica la información para cada DataFrame creado.\n"
   ]
  },
  {
   "cell_type": "markdown",
   "id": "OmlQPLlyaAfR",
   "metadata": {
    "id": "OmlQPLlyaAfR"
   },
   "source": [
    "## Plan de solución\n",
    "\n",
    "El plan de solución para la descripción de los datos consiste en los siguientes pasos:\n",
    "- Importar las librerías necesarias, para este paso importar Pandas.\n",
    "- Leer los archivos CSV utilizando pd.read_csv() asegurandosé de que el separador sea el correcto.\n",
    "- Utilizar head() para comprobar la lectura correcta de las primeras filas de cada archivo.\n",
    "- Emplear info() para contar con un resumen detallado de cada archivo, contando con el número de filas y columnas, el tipo de datos y la existencia de valores ausentes.\n",
    "- Usar describe() para contar con las principales estadísticas de las columnas numéricas.\n",
    "\n",
    "De esta manera se contará con la información adecuada para entender la estructura de los datos para proceder posteriormente con su procesamiento y transformación.\n",
    "\n"
   ]
  },
  {
   "cell_type": "code",
   "execution_count": 1,
   "id": "fbf1adab",
   "metadata": {
    "id": "fbf1adab",
    "trusted": false
   },
   "outputs": [],
   "source": [
    "# importar librerías\n",
    "import pandas as pd"
   ]
  },
  {
   "cell_type": "code",
   "execution_count": 2,
   "id": "ad36396d",
   "metadata": {
    "id": "ad36396d",
    "trusted": false
   },
   "outputs": [],
   "source": [
    "# leer conjuntos de datos en los DataFrames\n",
    "df_instacart_orders = pd.read_csv('/datasets/instacart_orders.csv', sep=';')\n",
    "df_products = pd.read_csv('/datasets/products.csv', sep=';')\n",
    "df_aisles = pd.read_csv('/datasets/aisles.csv', sep=';')\n",
    "df_departments = pd.read_csv('/datasets/departments.csv', sep=';')\n",
    "df_order_products = pd.read_csv('/datasets/order_products.csv', sep=';')"
   ]
  },
  {
   "cell_type": "code",
   "execution_count": 3,
   "id": "ad6a1efa",
   "metadata": {
    "id": "ad6a1efa",
    "trusted": false
   },
   "outputs": [
    {
     "name": "stdout",
     "output_type": "stream",
     "text": [
      "   order_id  user_id  order_number  order_dow  order_hour_of_day  \\\n",
      "0   1515936   183418            11          6                 13   \n",
      "1   1690866   163593             5          5                 12   \n",
      "2   1454967    39980             4          5                 19   \n",
      "3   1768857    82516            56          0                 20   \n",
      "4   3007858   196724             2          4                 12   \n",
      "\n",
      "   days_since_prior_order  \n",
      "0                    30.0  \n",
      "1                     9.0  \n",
      "2                     2.0  \n",
      "3                    10.0  \n",
      "4                    17.0  \n",
      "<class 'pandas.core.frame.DataFrame'>\n",
      "RangeIndex: 478967 entries, 0 to 478966\n",
      "Data columns (total 6 columns):\n",
      " #   Column                  Non-Null Count   Dtype  \n",
      "---  ------                  --------------   -----  \n",
      " 0   order_id                478967 non-null  int64  \n",
      " 1   user_id                 478967 non-null  int64  \n",
      " 2   order_number            478967 non-null  int64  \n",
      " 3   order_dow               478967 non-null  int64  \n",
      " 4   order_hour_of_day       478967 non-null  int64  \n",
      " 5   days_since_prior_order  450148 non-null  float64\n",
      "dtypes: float64(1), int64(5)\n",
      "memory usage: 21.9 MB\n",
      "           order_id        user_id   order_number      order_dow  \\\n",
      "count  4.789670e+05  478967.000000  478967.000000  478967.000000   \n",
      "mean   1.709947e+06  102966.537475      17.157808       2.775058   \n",
      "std    9.869480e+05   59525.328991      17.704688       2.045869   \n",
      "min    4.000000e+00       2.000000       1.000000       0.000000   \n",
      "25%    8.564685e+05   51414.000000       5.000000       1.000000   \n",
      "50%    1.709522e+06  102633.000000      11.000000       3.000000   \n",
      "75%    2.562990e+06  154419.000000      23.000000       5.000000   \n",
      "max    3.421079e+06  206209.000000     100.000000       6.000000   \n",
      "\n",
      "       order_hour_of_day  days_since_prior_order  \n",
      "count      478967.000000           450148.000000  \n",
      "mean           13.446676               11.101751  \n",
      "std             4.224986                9.189975  \n",
      "min             0.000000                0.000000  \n",
      "25%            10.000000                4.000000  \n",
      "50%            13.000000                7.000000  \n",
      "75%            16.000000               15.000000  \n",
      "max            23.000000               30.000000  \n"
     ]
    }
   ],
   "source": [
    "# mostrar información del DataFrame\n",
    "print(df_instacart_orders.head())\n",
    "df_instacart_orders.info()\n",
    "print(df_instacart_orders.describe())"
   ]
  },
  {
   "cell_type": "code",
   "execution_count": 4,
   "id": "5130e05e",
   "metadata": {
    "id": "5130e05e",
    "trusted": false
   },
   "outputs": [
    {
     "name": "stdout",
     "output_type": "stream",
     "text": [
      "   product_id                                       product_name  aisle_id  \\\n",
      "0           1                         Chocolate Sandwich Cookies        61   \n",
      "1           2                                   All-Seasons Salt       104   \n",
      "2           3               Robust Golden Unsweetened Oolong Tea        94   \n",
      "3           4  Smart Ones Classic Favorites Mini Rigatoni Wit...        38   \n",
      "4           5                          Green Chile Anytime Sauce         5   \n",
      "\n",
      "   department_id  \n",
      "0             19  \n",
      "1             13  \n",
      "2              7  \n",
      "3              1  \n",
      "4             13  \n",
      "<class 'pandas.core.frame.DataFrame'>\n",
      "RangeIndex: 49694 entries, 0 to 49693\n",
      "Data columns (total 4 columns):\n",
      " #   Column         Non-Null Count  Dtype \n",
      "---  ------         --------------  ----- \n",
      " 0   product_id     49694 non-null  int64 \n",
      " 1   product_name   48436 non-null  object\n",
      " 2   aisle_id       49694 non-null  int64 \n",
      " 3   department_id  49694 non-null  int64 \n",
      "dtypes: int64(3), object(1)\n",
      "memory usage: 1.5+ MB\n"
     ]
    }
   ],
   "source": [
    "# mostrar información del DataFrame\n",
    "print(df_products.head())\n",
    "df_products.info()"
   ]
  },
  {
   "cell_type": "code",
   "execution_count": 5,
   "id": "d8370c05",
   "metadata": {
    "id": "d8370c05",
    "trusted": false
   },
   "outputs": [
    {
     "name": "stdout",
     "output_type": "stream",
     "text": [
      "   aisle_id                       aisle\n",
      "0         1       prepared soups salads\n",
      "1         2           specialty cheeses\n",
      "2         3         energy granola bars\n",
      "3         4               instant foods\n",
      "4         5  marinades meat preparation\n",
      "<class 'pandas.core.frame.DataFrame'>\n",
      "RangeIndex: 134 entries, 0 to 133\n",
      "Data columns (total 2 columns):\n",
      " #   Column    Non-Null Count  Dtype \n",
      "---  ------    --------------  ----- \n",
      " 0   aisle_id  134 non-null    int64 \n",
      " 1   aisle     134 non-null    object\n",
      "dtypes: int64(1), object(1)\n",
      "memory usage: 2.2+ KB\n"
     ]
    }
   ],
   "source": [
    "# mostrar información del DataFrame\n",
    "print(df_aisles.head())\n",
    "df_aisles.info()"
   ]
  },
  {
   "cell_type": "code",
   "execution_count": 6,
   "id": "59e2090f",
   "metadata": {
    "id": "59e2090f",
    "trusted": false
   },
   "outputs": [
    {
     "name": "stdout",
     "output_type": "stream",
     "text": [
      "   department_id department\n",
      "0              1     frozen\n",
      "1              2      other\n",
      "2              3     bakery\n",
      "3              4    produce\n",
      "4              5    alcohol\n",
      "<class 'pandas.core.frame.DataFrame'>\n",
      "RangeIndex: 21 entries, 0 to 20\n",
      "Data columns (total 2 columns):\n",
      " #   Column         Non-Null Count  Dtype \n",
      "---  ------         --------------  ----- \n",
      " 0   department_id  21 non-null     int64 \n",
      " 1   department     21 non-null     object\n",
      "dtypes: int64(1), object(1)\n",
      "memory usage: 464.0+ bytes\n"
     ]
    }
   ],
   "source": [
    "# mostrar información del DataFrame\n",
    "print(df_departments.head())\n",
    "df_departments.info()"
   ]
  },
  {
   "cell_type": "code",
   "execution_count": 7,
   "id": "6fc81694",
   "metadata": {
    "id": "6fc81694",
    "trusted": false
   },
   "outputs": [
    {
     "name": "stdout",
     "output_type": "stream",
     "text": [
      "   order_id  product_id  add_to_cart_order  reordered\n",
      "0   2141543       11440               17.0          0\n",
      "1    567889        1560                1.0          1\n",
      "2   2261212       26683                1.0          1\n",
      "3    491251        8670               35.0          1\n",
      "4   2571142        1940                5.0          1\n",
      "<class 'pandas.core.frame.DataFrame'>\n",
      "RangeIndex: 4545007 entries, 0 to 4545006\n",
      "Data columns (total 4 columns):\n",
      " #   Column             Dtype  \n",
      "---  ------             -----  \n",
      " 0   order_id           int64  \n",
      " 1   product_id         int64  \n",
      " 2   add_to_cart_order  float64\n",
      " 3   reordered          int64  \n",
      "dtypes: float64(1), int64(3)\n",
      "memory usage: 138.7 MB\n"
     ]
    }
   ],
   "source": [
    "# mostrar información del DataFrame\n",
    "print(df_order_products.head())\n",
    "df_order_products.info()"
   ]
  },
  {
   "cell_type": "markdown",
   "id": "t75BD19oaR5f",
   "metadata": {
    "id": "t75BD19oaR5f"
   },
   "source": [
    "## Conclusiones\n",
    "\n",
    "- Con la lectura de los archivos se observó que el separador empleado corresponde a \";\", es necesario especificar este parámetro para evitar errores en la lectura y el procesamiento.\n",
    "- El archivo de órdenes de instacart contiene 478967 filas y presenta valores ausentes en la columna \"days_since_prior_order\", que es de tipo float.\n",
    "- El archivo df_products contiene 49694 filas y presenta valores ausentes en la columna \"product_name\"\n",
    "- El resto de archivos no tiene valores ausentes.\n",
    "- Existen relaciones entre los dataframes que permitirán uniones más adelante para análisis más profundos. El DataFrame df_products contiene la columna aisle_id y department_id al igual que los DataFrames df_aisle y df_departments. Por otra parte, el DataFrame df_order_products cuenta con la columna order_id al igual que el DataFrame df_instacart_orders.\n",
    "\n",
    "\n"
   ]
  },
  {
   "cell_type": "markdown",
   "id": "8RJHqxVmaVsF",
   "metadata": {
    "id": "8RJHqxVmaVsF"
   },
   "source": [
    "# Paso 2. Preprocesamiento de los datos\n",
    "\n",
    "Preprocesa los datos de la siguiente manera:\n",
    "\n",
    "- Verifica y corrige los tipos de datos (por ejemplo, asegúrate de que las columnas de ID sean números enteros).\n",
    "- Identifica y completa los valores ausentes.\n",
    "- Identifica y elimina los valores duplicados.\n",
    "\n",
    "Asegúrate de explicar qué tipos de valores ausentes y duplicados encontraste, cómo los completaste o eliminaste y por qué usaste esos métodos. ¿Por qué crees que estos valores ausentes y duplicados pueden haber estado presentes en el conjunto de datos?"
   ]
  },
  {
   "cell_type": "markdown",
   "id": "p6poABZQaZYb",
   "metadata": {
    "id": "p6poABZQaZYb"
   },
   "source": [
    "## Plan de solución\n",
    "\n",
    "El preprocesamiento de los datos es fundamental para el análisis posterior, permitiendo garantizar la consistencia de los datos y variables. Las acciones a seguir son las siguientes:\n",
    "1. Verificación del tipo de datos\n",
    "    - Comprobar con el método info() utilizado previamente el tipo de datos para asegurarnos que las columnas ID sean números enteros, en caso de que no cumplan con esta característica usar to_numeric()\n",
    "    - Verificar que las columnas categóricas sean de tipo string, si es necesario usar astype()\n",
    "    - Verificar que las columnas de fechas sean de tipo datetime, caso contrario emplear to_datetime()\n",
    "    \n",
    "    \n",
    "2. Identificar y completar los valores ausentes para que no interfieran con el análisis\n",
    "    - para completar los valores ausentes utilizar fillna()\n",
    "    \n",
    "    \n",
    "3. Identificar y eliminar los valores duplicados\n",
    "    - Comprobar la existencia de valores duplicados usando duplicated()\n",
    "    - Eliminar las filas repetidas utilizando drop_duplicates()\n",
    "    - Emplear duplicated().sum() para comprobar el manejo de los duplicados."
   ]
  },
  {
   "cell_type": "markdown",
   "id": "07357848-dc64-4156-9cc3-01ff4365226d",
   "metadata": {
    "id": "07357848-dc64-4156-9cc3-01ff4365226d"
   },
   "source": [
    "## Encuentra y elimina los valores duplicados (y describe cómo tomaste tus decisiones)."
   ]
  },
  {
   "cell_type": "markdown",
   "id": "f179f0a9",
   "metadata": {
    "id": "f179f0a9"
   },
   "source": [
    "### `orders` data frame"
   ]
  },
  {
   "cell_type": "code",
   "execution_count": 8,
   "id": "b99297a5-405a-463d-8535-9adc3da4ad74",
   "metadata": {
    "id": "b99297a5-405a-463d-8535-9adc3da4ad74",
    "trusted": false
   },
   "outputs": [
    {
     "name": "stdout",
     "output_type": "stream",
     "text": [
      "15\n",
      "        order_id  user_id  order_number  order_dow  order_hour_of_day  \\\n",
      "145574    794638    50898            24          3                  2   \n",
      "223105   2160484   107525            16          3                  2   \n",
      "230807   1918001   188546            14          3                  2   \n",
      "266232   1782114   106752             1          3                  2   \n",
      "273805   1112182   202304            84          3                  2   \n",
      "284038   2845099    31189            11          3                  2   \n",
      "311713   1021560    53767             3          3                  2   \n",
      "321100    408114    68324             4          3                  2   \n",
      "323900   1919531   191501            32          3                  2   \n",
      "345917   2232988    82565             1          3                  2   \n",
      "371905    391768    57671            19          3                  2   \n",
      "394347    467134    63189            21          3                  2   \n",
      "411408   1286742   183220            48          3                  2   \n",
      "415163   2282673    86751            49          3                  2   \n",
      "441599   2125197    14050            48          3                  2   \n",
      "\n",
      "        days_since_prior_order  \n",
      "145574                     2.0  \n",
      "223105                    30.0  \n",
      "230807                    16.0  \n",
      "266232                     NaN  \n",
      "273805                     6.0  \n",
      "284038                     7.0  \n",
      "311713                     9.0  \n",
      "321100                    18.0  \n",
      "323900                     7.0  \n",
      "345917                     NaN  \n",
      "371905                    10.0  \n",
      "394347                     2.0  \n",
      "411408                     4.0  \n",
      "415163                     2.0  \n",
      "441599                     3.0  \n"
     ]
    }
   ],
   "source": [
    "# Revisa si hay pedidos duplicados\n",
    "print(df_instacart_orders.duplicated().sum())\n",
    "duplicados = df_instacart_orders[df_instacart_orders.duplicated()]\n",
    "print(duplicados)"
   ]
  },
  {
   "cell_type": "markdown",
   "id": "PEkwUX_gvt5A",
   "metadata": {
    "id": "PEkwUX_gvt5A"
   },
   "source": [
    "¿Tienes líneas duplicadas? Si sí, ¿qué tienen en común?\n",
    "\n",
    "Si, el DataFrame tiene 15 filas duplicadas. Las filas duplicadas tienen los mismos valores en todas las columnas, por lo que se puede intuir que es un error de carga de datos. Estos duplicados tienen en común el día y la hora de pedido (miércoles a las 2am)"
   ]
  },
  {
   "cell_type": "code",
   "execution_count": 9,
   "id": "0d44de5d",
   "metadata": {
    "id": "0d44de5d",
    "trusted": false
   },
   "outputs": [
    {
     "name": "stdout",
     "output_type": "stream",
     "text": [
      "        order_id  user_id  order_number  order_dow  order_hour_of_day  \\\n",
      "328609    494201     3510            23          3                  2   \n",
      "255538    577527     5253            96          3                  2   \n",
      "260453   1211189     7300             5          3                  2   \n",
      "262212   2625221     8394            19          3                  2   \n",
      "307518    736983    11556             4          3                  2   \n",
      "...          ...      ...           ...        ...                ...   \n",
      "155154    449909   198005            19          3                  2   \n",
      "359625    332561   201301             1          3                  2   \n",
      "273805   1112182   202304            84          3                  2   \n",
      "164581   1112182   202304            84          3                  2   \n",
      "417106    248760   204961            25          3                  2   \n",
      "\n",
      "        days_since_prior_order  \n",
      "328609                    16.0  \n",
      "255538                     2.0  \n",
      "260453                    13.0  \n",
      "262212                     5.0  \n",
      "307518                    16.0  \n",
      "...                        ...  \n",
      "155154                    30.0  \n",
      "359625                     NaN  \n",
      "273805                     6.0  \n",
      "164581                     6.0  \n",
      "417106                    15.0  \n",
      "\n",
      "[121 rows x 6 columns]\n"
     ]
    }
   ],
   "source": [
    "# Basándote en tus hallazgos,\n",
    "# Verifica todos los pedidos que se hicieron el miércoles a las 2:00 a.m.\n",
    "pedidos = df_instacart_orders.loc[(df_instacart_orders['order_dow']==3) & (df_instacart_orders['order_hour_of_day']==2)].sort_values('user_id')\n",
    "print(pedidos)"
   ]
  },
  {
   "cell_type": "markdown",
   "id": "vu2OWyoqwOx5",
   "metadata": {
    "id": "vu2OWyoqwOx5"
   },
   "source": [
    "¿Qué sugiere este resultado?\n",
    "\n",
    "Al evaluar los pedidos que se realizaron los miércoles a las 2 am, es evidente que los valores duplicados son un error de carga en los datos porque se tienen 121 pedidos, sin embargo únicamente 15 duplicados."
   ]
  },
  {
   "cell_type": "code",
   "execution_count": 10,
   "id": "480563c7",
   "metadata": {
    "id": "480563c7",
    "trusted": false
   },
   "outputs": [],
   "source": [
    "# Elimina los pedidos duplicados\n",
    "df_instacart_orders = df_instacart_orders.drop_duplicates().reset_index(drop=True)"
   ]
  },
  {
   "cell_type": "code",
   "execution_count": 11,
   "id": "0b2396a2",
   "metadata": {
    "id": "0b2396a2",
    "trusted": false
   },
   "outputs": [
    {
     "name": "stdout",
     "output_type": "stream",
     "text": [
      "0\n"
     ]
    }
   ],
   "source": [
    "# Vuelve a verificar si hay filas duplicadas\n",
    "print(df_instacart_orders.duplicated().sum())"
   ]
  },
  {
   "cell_type": "code",
   "execution_count": 12,
   "id": "f6113ef1",
   "metadata": {
    "id": "f6113ef1",
    "trusted": false
   },
   "outputs": [
    {
     "name": "stdout",
     "output_type": "stream",
     "text": [
      "0\n"
     ]
    }
   ],
   "source": [
    "# Vuelve a verificar únicamente si hay IDs duplicados de pedidos\n",
    "print(df_instacart_orders['order_id'].duplicated().sum())"
   ]
  },
  {
   "cell_type": "markdown",
   "id": "5e8905ae",
   "metadata": {
    "id": "5e8905ae"
   },
   "source": [
    "Se evidenció la existencia de 15 filas duplicadas en el DataFrame de orders que casualmente tienen en común el día y la hora del pedido. Por lo tanto, se asumió que se trataba de un error de carga y se eliminaron los duplicados, verificando posteriormente el correcto procesamiento tanto para el DataFrame completo como para la columna de order_id, comprobando que ya no se tienen duplicados."
   ]
  },
  {
   "cell_type": "markdown",
   "id": "45e6bc46",
   "metadata": {
    "id": "45e6bc46"
   },
   "source": [
    "### `products` data frame"
   ]
  },
  {
   "cell_type": "code",
   "execution_count": 13,
   "id": "5f526b5b-8175-46fa-a0fd-441767d50e64",
   "metadata": {
    "id": "5f526b5b-8175-46fa-a0fd-441767d50e64",
    "trusted": false
   },
   "outputs": [
    {
     "name": "stdout",
     "output_type": "stream",
     "text": [
      "0\n"
     ]
    }
   ],
   "source": [
    "# Verifica si hay filas totalmente duplicadas\n",
    "print(df_products.duplicated().sum())"
   ]
  },
  {
   "cell_type": "code",
   "execution_count": 14,
   "id": "88daa4f4",
   "metadata": {
    "id": "88daa4f4",
    "trusted": false
   },
   "outputs": [
    {
     "name": "stdout",
     "output_type": "stream",
     "text": [
      "49673\n"
     ]
    }
   ],
   "source": [
    "# Revisa únicamente si hay ID de departamentos duplicados\n",
    "print(df_products['department_id'].duplicated().sum())"
   ]
  },
  {
   "cell_type": "code",
   "execution_count": 15,
   "id": "c773f0bf",
   "metadata": {
    "id": "c773f0bf",
    "trusted": false
   },
   "outputs": [
    {
     "name": "stdout",
     "output_type": "stream",
     "text": [
      "   product_id                                       product_name  aisle_id  \\\n",
      "0           1                         CHOCOLATE SANDWICH COOKIES        61   \n",
      "1           2                                   ALL-SEASONS SALT       104   \n",
      "2           3               ROBUST GOLDEN UNSWEETENED OOLONG TEA        94   \n",
      "3           4  SMART ONES CLASSIC FAVORITES MINI RIGATONI WIT...        38   \n",
      "4           5                          GREEN CHILE ANYTIME SAUCE         5   \n",
      "\n",
      "   department_id  \n",
      "0             19  \n",
      "1             13  \n",
      "2              7  \n",
      "3              1  \n",
      "4             13  \n",
      "1361\n"
     ]
    }
   ],
   "source": [
    "# Revisa únicamente si hay nombres duplicados de productos (convierte los nombres a letras mayúsculas para compararlos mejor)\n",
    "df_products['product_name'] = df_products['product_name'].str.upper()\n",
    "print(df_products.head())\n",
    "print(df_products['product_name'].duplicated().sum())"
   ]
  },
  {
   "cell_type": "code",
   "execution_count": 16,
   "id": "01efd02e",
   "metadata": {
    "id": "01efd02e",
    "trusted": false
   },
   "outputs": [
    {
     "name": "stdout",
     "output_type": "stream",
     "text": [
      "104\n"
     ]
    }
   ],
   "source": [
    "# Revisa si hay nombres duplicados de productos no faltantes\n",
    "no_missing_products = df_products[~df_products['product_name'].isna()]\n",
    "print(no_missing_products['product_name'].duplicated().sum())"
   ]
  },
  {
   "cell_type": "markdown",
   "id": "9da8d293",
   "metadata": {
    "id": "9da8d293"
   },
   "source": [
    "Se pudo observar que el DataFrame de productos no presenta valores duplicados, es decir, no tiene filas duplicadas con los mismos valores en todas las columnas. Por otra parte, la columnas department_id tiene valores duplicados, sin embargo, esto no implica un problema ya que es comprensible que se repitan los departamentos, ya que se pueden encontrar diversos productos en un mismo departamento. De igual manera, existen 104 duplicados en la columna product_name además de los nombres ausentes."
   ]
  },
  {
   "cell_type": "markdown",
   "id": "60f30db1",
   "metadata": {
    "id": "60f30db1"
   },
   "source": [
    "### `departments` data frame"
   ]
  },
  {
   "cell_type": "code",
   "execution_count": 17,
   "id": "fb410ad4-0fbf-4b80-bb09-23fdea79afe3",
   "metadata": {
    "id": "fb410ad4-0fbf-4b80-bb09-23fdea79afe3",
    "trusted": false
   },
   "outputs": [
    {
     "name": "stdout",
     "output_type": "stream",
     "text": [
      "0\n"
     ]
    }
   ],
   "source": [
    "# Revisa si hay filas totalmente duplicadas\n",
    "print(df_departments.duplicated().sum())"
   ]
  },
  {
   "cell_type": "code",
   "execution_count": 18,
   "id": "332b12bb",
   "metadata": {
    "id": "332b12bb",
    "trusted": false
   },
   "outputs": [
    {
     "name": "stdout",
     "output_type": "stream",
     "text": [
      "0\n"
     ]
    }
   ],
   "source": [
    "# Revisa únicamente si hay IDs duplicadas de departamentos\n",
    "print(df_departments['department_id'].duplicated().sum())"
   ]
  },
  {
   "cell_type": "markdown",
   "id": "bd30d78e",
   "metadata": {
    "id": "bd30d78e"
   },
   "source": [
    "Se analizó en DataFrame df_departments evidenciando que no presenta filas duplicadas ni duplicados en la columna department_id."
   ]
  },
  {
   "cell_type": "markdown",
   "id": "889349c1",
   "metadata": {
    "id": "889349c1"
   },
   "source": [
    "### `aisles` data frame"
   ]
  },
  {
   "cell_type": "code",
   "execution_count": 19,
   "id": "9da89fb9-4679-40f5-ad0d-c34df753a3f8",
   "metadata": {
    "id": "9da89fb9-4679-40f5-ad0d-c34df753a3f8",
    "trusted": false
   },
   "outputs": [
    {
     "name": "stdout",
     "output_type": "stream",
     "text": [
      "0\n"
     ]
    }
   ],
   "source": [
    "# Revisa si hay filas totalmente duplicadas\n",
    "print(df_aisles.duplicated().sum())"
   ]
  },
  {
   "cell_type": "code",
   "execution_count": 20,
   "id": "da7c2822",
   "metadata": {
    "id": "da7c2822",
    "trusted": false
   },
   "outputs": [
    {
     "name": "stdout",
     "output_type": "stream",
     "text": [
      "0\n"
     ]
    }
   ],
   "source": [
    "# Revisa únicamente si hay IDs duplicadas de pasillos\n",
    "print(df_aisles['aisle_id'].duplicated().sum())"
   ]
  },
  {
   "cell_type": "markdown",
   "id": "ac63826f",
   "metadata": {
    "id": "ac63826f"
   },
   "source": [
    "Se analizó el DataFrame df_aisles y se comprobó que no presenta duplicados tanto en filas completas como en la columna aisle_id"
   ]
  },
  {
   "cell_type": "markdown",
   "id": "274cd06a",
   "metadata": {
    "id": "274cd06a"
   },
   "source": [
    "### `order_products` data frame"
   ]
  },
  {
   "cell_type": "code",
   "execution_count": 21,
   "id": "52326689-84a8-4b8f-a881-7c68780f62c9",
   "metadata": {
    "id": "52326689-84a8-4b8f-a881-7c68780f62c9",
    "trusted": false
   },
   "outputs": [
    {
     "name": "stdout",
     "output_type": "stream",
     "text": [
      "0\n"
     ]
    }
   ],
   "source": [
    "# Revisa si hay filas totalmente duplicadas\n",
    "print(df_order_products.duplicated().sum())"
   ]
  },
  {
   "cell_type": "code",
   "execution_count": 22,
   "id": "7b861391",
   "metadata": {
    "id": "7b861391",
    "trusted": false
   },
   "outputs": [
    {
     "name": "stdout",
     "output_type": "stream",
     "text": [
      "4094961\n",
      "4499434\n"
     ]
    }
   ],
   "source": [
    "# Vuelve a verificar si hay cualquier otro duplicado engañoso\n",
    "print(df_order_products['order_id'].duplicated().sum())\n",
    "print(df_order_products['product_id'].duplicated().sum())"
   ]
  },
  {
   "cell_type": "markdown",
   "id": "0b890492",
   "metadata": {
    "id": "0b890492"
   },
   "source": [
    "Analizando el DataFrame df_order_products, se observa que no existen filas totalmente duplicadas, sin embargo se presentan valores duplicados en las columnas order_id y product_id. Los duplicados encontrados guardan relación con el sentido del DataFrame, ya que cada fila representa un artículo pedido en una orden de compra, por lo tanto es comprensible que se repita order_id para pedidos con varios artículos y product_id porque existen distintos pedidos que incluyen el mismo artículo."
   ]
  },
  {
   "cell_type": "markdown",
   "id": "1e46de76",
   "metadata": {
    "id": "1e46de76"
   },
   "source": [
    "## Encuentra y elimina los valores ausentes\n",
    "\n",
    "Al trabajar con valores duplicados, pudimos observar que también nos falta investigar valores ausentes:\n",
    "\n",
    "* La columna `'product_name'` de la tabla products.\n",
    "* La columna `'days_since_prior_order'` de la tabla orders.\n",
    "* La columna `'add_to_cart_order'` de la tabla order_productos."
   ]
  },
  {
   "cell_type": "markdown",
   "id": "c0aebd78",
   "metadata": {
    "id": "c0aebd78"
   },
   "source": [
    "### `products` data frame"
   ]
  },
  {
   "cell_type": "code",
   "execution_count": 23,
   "id": "fe4a8b0f",
   "metadata": {
    "id": "fe4a8b0f",
    "trusted": false
   },
   "outputs": [
    {
     "name": "stdout",
     "output_type": "stream",
     "text": [
      "1258\n"
     ]
    }
   ],
   "source": [
    "# Encuentra los valores ausentes en la columna 'product_name'\n",
    "print(df_products['product_name'].isna().sum())"
   ]
  },
  {
   "cell_type": "markdown",
   "id": "-A6x1AbJhjkp",
   "metadata": {
    "id": "-A6x1AbJhjkp"
   },
   "source": [
    "Empleando isna() podemos ver que existen 1258 valores ausentes en la columna \"product_name\"."
   ]
  },
  {
   "cell_type": "code",
   "execution_count": 24,
   "id": "e96167bc",
   "metadata": {
    "id": "e96167bc",
    "trusted": false
   },
   "outputs": [
    {
     "name": "stdout",
     "output_type": "stream",
     "text": [
      "[100]\n",
      "aisle_id\n",
      "100    1258\n",
      "Name: product_id, dtype: int64\n"
     ]
    }
   ],
   "source": [
    "#  ¿Todos los nombres de productos ausentes están relacionados con el pasillo con ID 100?\n",
    "na_products = df_products[df_products['product_name'].isna()]\n",
    "print(na_products['aisle_id'].unique())\n",
    "print(na_products.groupby('aisle_id')['product_id'].count())"
   ]
  },
  {
   "cell_type": "markdown",
   "id": "WRpIfXRphpSL",
   "metadata": {
    "id": "WRpIfXRphpSL"
   },
   "source": [
    "Se pudo determinar que todos los valores ausentes del nombre del producto corresponden al pasillo con id 100."
   ]
  },
  {
   "cell_type": "code",
   "execution_count": 25,
   "id": "8fd0a541",
   "metadata": {
    "id": "8fd0a541",
    "trusted": false
   },
   "outputs": [
    {
     "name": "stdout",
     "output_type": "stream",
     "text": [
      "[21]\n",
      "department_id\n",
      "21    1258\n",
      "Name: product_id, dtype: int64\n"
     ]
    }
   ],
   "source": [
    "# ¿Todos los nombres de productos ausentes están relacionados con el departamento con ID 21?\n",
    "print(na_products['department_id'].unique())\n",
    "print(na_products.groupby('department_id')['product_id'].count())"
   ]
  },
  {
   "cell_type": "markdown",
   "id": "qDpdYn1Fht_I",
   "metadata": {
    "id": "qDpdYn1Fht_I"
   },
   "source": [
    "Se evidenció que el DataFrame df_products cuenta con 1258 valores ausentes en la columna product_name. Estos valores corresponden al pasillo con id 100 y al departamento con id 21 en su totalidad."
   ]
  },
  {
   "cell_type": "code",
   "execution_count": 26,
   "id": "325c3464",
   "metadata": {
    "id": "325c3464",
    "trusted": false
   },
   "outputs": [
    {
     "name": "stdout",
     "output_type": "stream",
     "text": [
      "    aisle_id    aisle\n",
      "99       100  missing\n",
      "    department_id department\n",
      "20             21    missing\n",
      "0\n",
      "0\n"
     ]
    }
   ],
   "source": [
    "# Usa las tablas department y aisle para revisar los datos del pasillo con ID 100 y el departamento con ID 21.\n",
    "aisle_100 = df_aisles[df_aisles['aisle_id']==100]\n",
    "department_21 = df_departments[df_departments['department_id']==21]\n",
    "\n",
    "print(aisle_100.head())\n",
    "print(department_21.head())\n",
    "print(df_aisles['aisle_id'].isna().sum())\n",
    "print(df_departments['department_id'].isna().sum())"
   ]
  },
  {
   "cell_type": "markdown",
   "id": "nqhSTUPhhvEJ",
   "metadata": {
    "id": "nqhSTUPhhvEJ"
   },
   "source": [
    "Se pudo observar que tanto el pasillo con id 100 como el departamento con id 21 presentan como nombre \"missing\", es decir, que no tiene registro, sin embargo no presentan valores ausentes."
   ]
  },
  {
   "cell_type": "code",
   "execution_count": 27,
   "id": "6b295120",
   "metadata": {
    "id": "6b295120",
    "trusted": false
   },
   "outputs": [
    {
     "name": "stdout",
     "output_type": "stream",
     "text": [
      "0\n"
     ]
    }
   ],
   "source": [
    "# Completa los nombres de productos ausentes con 'Unknown'\n",
    "df_products['product_name'].fillna('Unknown', inplace=True)\n",
    "print(df_products['product_name'].isna().sum())"
   ]
  },
  {
   "cell_type": "markdown",
   "id": "fc70e5ad",
   "metadata": {
    "id": "fc70e5ad"
   },
   "source": [
    "Se completaron los valores ausentes de los nombres de productos con la descripción \"Unknown\" y se verificó nuevamente la existencia de valores ausentes con isna().sum()"
   ]
  },
  {
   "cell_type": "markdown",
   "id": "7eb45c86",
   "metadata": {
    "id": "7eb45c86"
   },
   "source": [
    "### `orders` data frame"
   ]
  },
  {
   "cell_type": "code",
   "execution_count": 28,
   "id": "93e41d96",
   "metadata": {
    "id": "93e41d96",
    "trusted": false
   },
   "outputs": [
    {
     "name": "stdout",
     "output_type": "stream",
     "text": [
      "order_id                      0\n",
      "user_id                       0\n",
      "order_number                  0\n",
      "order_dow                     0\n",
      "order_hour_of_day             0\n",
      "days_since_prior_order    28817\n",
      "dtype: int64\n"
     ]
    }
   ],
   "source": [
    "# Encuentra los valores ausentes\n",
    "print(df_instacart_orders.isna().sum())"
   ]
  },
  {
   "cell_type": "code",
   "execution_count": 29,
   "id": "166e5a86",
   "metadata": {
    "id": "166e5a86",
    "trusted": false
   },
   "outputs": [
    {
     "name": "stdout",
     "output_type": "stream",
     "text": [
      "[1]\n",
      "order_number\n",
      "1    28817\n",
      "Name: order_number, dtype: int64\n"
     ]
    }
   ],
   "source": [
    "# ¿Hay algún valor ausente que no sea el primer pedido del cliente?\n",
    "nan_orders = df_instacart_orders[df_instacart_orders['days_since_prior_order'].isna()]\n",
    "print(nan_orders['order_number'].unique())\n",
    "print(nan_orders.groupby('order_number')['order_number'].count())"
   ]
  },
  {
   "cell_type": "markdown",
   "id": "4e23d089",
   "metadata": {
    "id": "4e23d089"
   },
   "source": [
    "Tras filtrar el DataFrame df_instacart_orders para conservar sólo los valores ausentes en la columna \"days_since_prior_order\", se evidenció que todos los valores ausentes corresponden al primer pedido del cliente, esto se comprobó al agrupar por \"order_number\" y encontrando los valores únicos para \"order_number\". Este hallazgo tiene sentido ya que al ser el primer pedido del cliente no cuenta con ningún registro de días desde el último pedido."
   ]
  },
  {
   "cell_type": "markdown",
   "id": "69dc9ca4",
   "metadata": {
    "id": "69dc9ca4"
   },
   "source": [
    "### `order_products` data frame"
   ]
  },
  {
   "cell_type": "code",
   "execution_count": 30,
   "id": "b8240253",
   "metadata": {
    "id": "b8240253",
    "trusted": false
   },
   "outputs": [
    {
     "name": "stdout",
     "output_type": "stream",
     "text": [
      "order_id               0\n",
      "product_id             0\n",
      "add_to_cart_order    836\n",
      "reordered              0\n",
      "dtype: int64\n"
     ]
    }
   ],
   "source": [
    "# Encuentra los valores ausentes\n",
    "print(df_order_products.isna().sum())"
   ]
  },
  {
   "cell_type": "code",
   "execution_count": 31,
   "id": "9a78e5ee",
   "metadata": {
    "id": "9a78e5ee",
    "trusted": false
   },
   "outputs": [
    {
     "name": "stdout",
     "output_type": "stream",
     "text": [
      "Mínimo: 1.0 \n",
      " Máximo: 64.0\n"
     ]
    }
   ],
   "source": [
    "# ¿Cuáles son los valores mínimos y máximos en esta columna?\n",
    "print('Mínimo:', min(df_order_products['add_to_cart_order']),'\\n','Máximo:', max(df_order_products['add_to_cart_order']))"
   ]
  },
  {
   "cell_type": "markdown",
   "id": "-Z2Ja215jW78",
   "metadata": {
    "id": "-Z2Ja215jW78"
   },
   "source": [
    "Se pudo observar que los valores ausentes se encuentran en la columna \"add_to_cart_order\" que tiene como mínimo valor 1 y como máximo 64, es decir que existe algún producto que se añadió en el puesto 64 en el carrito."
   ]
  },
  {
   "cell_type": "code",
   "execution_count": 32,
   "id": "ab9d0c2b",
   "metadata": {
    "id": "ab9d0c2b",
    "trusted": false
   },
   "outputs": [
    {
     "name": "stdout",
     "output_type": "stream",
     "text": [
      "737      2449164\n",
      "9926     1968313\n",
      "14394    2926893\n",
      "16418    1717990\n",
      "30114    1959075\n",
      "Name: order_id, dtype: int64\n"
     ]
    }
   ],
   "source": [
    "# Guarda todas las IDs de pedidos que tengan un valor ausente en 'add_to_cart_order'\n",
    "nan_order_products = df_order_products[df_order_products['add_to_cart_order'].isna()]\n",
    "nan_order_id = nan_order_products['order_id']\n",
    "print(nan_order_id.head())"
   ]
  },
  {
   "cell_type": "code",
   "execution_count": null,
   "id": "54c31695",
   "metadata": {
    "id": "54c31695",
    "trusted": false
   },
   "outputs": [
    {
     "name": "stdout",
     "output_type": "stream",
     "text": [
      "order_id\n",
      "9310        1\n",
      "61355      63\n",
      "102236     31\n",
      "129627      5\n",
      "165801      6\n",
      "           ..\n",
      "2999801     6\n",
      "3125735    22\n",
      "3308010    51\n",
      "3347453     7\n",
      "3383594     5\n",
      "Name: product_id, Length: 70, dtype: int64\n",
      "Mínimo: 1\n"
     ]
    }
   ],
   "source": [
    "# ¿Todos los pedidos con valores ausentes tienen más de 64 productos?\n",
    "# Agrupa todos los pedidos con datos ausentes por su ID de pedido.\n",
    "# Cuenta el número de 'product_id' en cada pedido y revisa el valor mínimo del conteo.\n",
    "num_products = df_order_products[df_order_products['order_id'].isin(nan_order_id)].groupby('order_id')['product_id'].count().min()\n",
    "print('Mínimo:', min(num_products))"
   ]
  },
  {
   "cell_type": "markdown",
   "id": "p9V6pddtjglj",
   "metadata": {
    "id": "p9V6pddtjglj"
   },
   "source": [
    "El valor minimo para ordenes que tienen valores nulos es `65`"
   ]
  },
  {
   "cell_type": "code",
   "execution_count": 35,
   "id": "7a987d08",
   "metadata": {
    "id": "7a987d08",
    "trusted": false
   },
   "outputs": [
    {
     "name": "stdout",
     "output_type": "stream",
     "text": [
      "<class 'pandas.core.frame.DataFrame'>\n",
      "RangeIndex: 4545007 entries, 0 to 4545006\n",
      "Data columns (total 4 columns):\n",
      " #   Column             Dtype\n",
      "---  ------             -----\n",
      " 0   order_id           int64\n",
      " 1   product_id         int64\n",
      " 2   add_to_cart_order  int64\n",
      " 3   reordered          int64\n",
      "dtypes: int64(4)\n",
      "memory usage: 138.7 MB\n",
      "None\n",
      "0\n"
     ]
    }
   ],
   "source": [
    "# Remplaza los valores ausentes en la columna 'add_to_cart? con 999 y convierte la columna al tipo entero.\n",
    "df_order_products['add_to_cart_order'] = df_order_products['add_to_cart_order'].fillna(999)\n",
    "df_order_products['add_to_cart_order'] = df_order_products['add_to_cart_order'].astype('int')\n",
    "print(df_order_products.info())\n",
    "print(df_order_products['add_to_cart_order'].isna().sum())"
   ]
  },
  {
   "cell_type": "markdown",
   "id": "fea4bcc7",
   "metadata": {
    "id": "fea4bcc7"
   },
   "source": [
    "Se utilizó fillna() para remplazar los valores ausentes por 999 y astype(\"int\") para convertir la columna de float a tipo entero. Posteriormente se comprobaron los cambios con .info() para verificar el tipo de datos de las columnas y con .isna().sum() los valores ausentes que ya no se encuentran en la columna."
   ]
  },
  {
   "cell_type": "markdown",
   "id": "RnplPFY1gSrb",
   "metadata": {
    "id": "RnplPFY1gSrb"
   },
   "source": [
    "## Conclusiones\n",
    "\n",
    "- A partir del procesamiento de datos se evidenció la existencia de valores duplicados que fueron corregidos con drop_duplicates(). Estos datos duplicados pueden deberse en su mayoría a errores de carga de datos, sin embargo en algunos casos guardan relación con el sentido del DataFrame como los valores repetidos de departamentos o pasillos en los que se pueden encontrar diversos productos.\n",
    "- Los valores ausentes fueron identificados y remplazados para evitar distorciones en el análisis. En muchos casos es posible que los valores ausentes sean consecuencia de registros incompletos o datos no disponibles para todos los registros, en otros casos como en la columna \"days_since_prior_order\" corresponden al sentido del DataFrame y la columna ya que no existen registros para personas antes de su primer pedido.\n",
    "- Se cambió el tipo de datos para la columna \"add_to_cart_order\" a entero ya que se especifica la posición en la que se añade el producto al carrito, por lo que no puede tener decimales.\n",
    "- En conclusión el procesamiento de datos consite en la limpieza y transformación de datos para garantizar la calidad que permita posteriores análisis.\n"
   ]
  },
  {
   "cell_type": "markdown",
   "id": "UjrOIwTcz3ri",
   "metadata": {
    "id": "UjrOIwTcz3ri"
   },
   "source": [
    "# Paso 3. Análisis de los datos\n",
    "\n",
    "Una vez los datos estén procesados y listos, haz el siguiente análisis:"
   ]
  },
  {
   "cell_type": "markdown",
   "id": "turkish-kidney",
   "metadata": {
    "id": "turkish-kidney"
   },
   "source": [
    "# [A] Fácil (deben completarse todos para aprobar)\n",
    "\n",
    "1. Verifica que los valores en las columnas `'order_hour_of_day'` y `'order_dow'` en la tabla orders sean razonables (es decir, `'order_hour_of_day'` oscile entre 0 y 23 y `'order_dow'` oscile entre 0 y 6).\n",
    "2. Crea un gráfico que muestre el número de personas que hacen pedidos dependiendo de la hora del día.\n",
    "3. Crea un gráfico que muestre qué día de la semana la gente hace sus compras.\n",
    "4. Crea un gráfico que muestre el tiempo que la gente espera hasta hacer su siguiente pedido, y comenta sobre los valores mínimos y máximos."
   ]
  },
  {
   "cell_type": "markdown",
   "id": "short-capability",
   "metadata": {
    "id": "short-capability"
   },
   "source": [
    "### [A1] Verifica que los valores sean sensibles"
   ]
  },
  {
   "cell_type": "code",
   "execution_count": 36,
   "id": "growing-fruit",
   "metadata": {
    "id": "growing-fruit",
    "trusted": false
   },
   "outputs": [
    {
     "name": "stdout",
     "output_type": "stream",
     "text": [
      "order_hour_of_day\n",
      "0      3180\n",
      "1      1763\n",
      "2       989\n",
      "3       770\n",
      "4       765\n",
      "5      1371\n",
      "6      4215\n",
      "7     13043\n",
      "8     25024\n",
      "9     35896\n",
      "10    40578\n",
      "11    40032\n",
      "12    38034\n",
      "13    39007\n",
      "14    39631\n",
      "15    39789\n",
      "16    38112\n",
      "17    31930\n",
      "18    25510\n",
      "19    19547\n",
      "20    14624\n",
      "21    11019\n",
      "22     8512\n",
      "23     5611\n",
      "Name: order_hour_of_day, dtype: int64\n",
      "Mínimo: 0 \n",
      " Máximo: 23\n"
     ]
    }
   ],
   "source": [
    "print(df_instacart_orders.groupby('order_hour_of_day')['order_hour_of_day'].count())\n",
    "print('Mínimo:', min(df_instacart_orders['order_hour_of_day']), '\\n', 'Máximo:', max(df_instacart_orders['order_hour_of_day']))"
   ]
  },
  {
   "cell_type": "code",
   "execution_count": 37,
   "id": "accessory-malaysia",
   "metadata": {
    "id": "accessory-malaysia",
    "trusted": false
   },
   "outputs": [
    {
     "name": "stdout",
     "output_type": "stream",
     "text": [
      "order_dow\n",
      "0    84090\n",
      "1    82185\n",
      "2    65833\n",
      "3    60897\n",
      "4    59810\n",
      "5    63488\n",
      "6    62649\n",
      "Name: order_dow, dtype: int64\n",
      "Mínimo: 0 \n",
      " Máximo: 6\n"
     ]
    }
   ],
   "source": [
    "print(df_instacart_orders.groupby('order_dow')['order_dow'].count())\n",
    "print('Mínimo:', min(df_instacart_orders['order_dow']), '\\n', 'Máximo:', max(df_instacart_orders['order_dow']))"
   ]
  },
  {
   "cell_type": "markdown",
   "id": "hmR2GNQ6lCsX",
   "metadata": {
    "id": "hmR2GNQ6lCsX"
   },
   "source": [
    "Se verificó la calidad de las variables `'order_hour_of_day'` y `'order_dow'` confirmando que contienen valores correspondientes a las 24 horas del día (0-23) y 7 días de la semana (0-6)."
   ]
  },
  {
   "cell_type": "markdown",
   "id": "a6743a70",
   "metadata": {
    "id": "a6743a70"
   },
   "source": [
    "### [A2] Para cada hora del día, ¿cuántas personas hacen órdenes?"
   ]
  },
  {
   "cell_type": "code",
   "execution_count": 38,
   "id": "a36cca27",
   "metadata": {
    "id": "a36cca27",
    "trusted": false
   },
   "outputs": [
    {
     "name": "stdout",
     "output_type": "stream",
     "text": [
      "    order_hour_of_day  user_id\n",
      "0                   0     3180\n",
      "1                   1     1763\n",
      "2                   2      989\n",
      "3                   3      770\n",
      "4                   4      765\n",
      "5                   5     1371\n",
      "6                   6     4215\n",
      "7                   7    13043\n",
      "8                   8    25024\n",
      "9                   9    35896\n",
      "10                 10    40578\n",
      "11                 11    40032\n",
      "12                 12    38034\n",
      "13                 13    39007\n",
      "14                 14    39631\n",
      "15                 15    39789\n",
      "16                 16    38112\n",
      "17                 17    31930\n",
      "18                 18    25510\n",
      "19                 19    19547\n",
      "20                 20    14624\n",
      "21                 21    11019\n",
      "22                 22     8512\n",
      "23                 23     5611\n"
     ]
    },
    {
     "data": {
      "image/png": "[encoded data removed]",
      "text/plain": [
       "<Figure size 640x480 with 1 Axes>"
      ]
     },
     "metadata": {},
     "output_type": "display_data"
    }
   ],
   "source": [
    "from matplotlib import pyplot as plt\n",
    "users_per_hours = df_instacart_orders.groupby('order_hour_of_day')['user_id'].count().reset_index()\n",
    "print(users_per_hours)\n",
    "\n",
    "users_per_hours.plot(x='order_hour_of_day',\n",
    "                    y='user_id',\n",
    "                    kind='bar',\n",
    "                    title='Personas que hacen pedidos según la hora del día',\n",
    "                    xlabel='Hora del día',\n",
    "                    ylabel='Personas',\n",
    "                    legend=False)\n",
    "plt.show()"
   ]
  },
  {
   "cell_type": "markdown",
   "id": "11270eed",
   "metadata": {
    "id": "11270eed"
   },
   "source": [
    "Es evidente que entre las 10 a.m. y las 16 p.m. más personas realizan pedidos. La menor cantidad de personas que hacen pedidos en el día corresponde al horario de la madrugada entre 1 a.m. y 6 a.m."
   ]
  },
  {
   "cell_type": "markdown",
   "id": "documented-command",
   "metadata": {
    "id": "documented-command"
   },
   "source": [
    "### [A3] ¿Qué día de la semana compran víveres las personas?"
   ]
  },
  {
   "cell_type": "code",
   "execution_count": 39,
   "id": "chief-digit",
   "metadata": {
    "id": "chief-digit",
    "trusted": false
   },
   "outputs": [
    {
     "name": "stdout",
     "output_type": "stream",
     "text": [
      "   order_dow  user_id\n",
      "0          0    84090\n",
      "1          1    82185\n",
      "2          2    65833\n",
      "3          3    60897\n",
      "4          4    59810\n",
      "5          5    63488\n",
      "6          6    62649\n"
     ]
    },
    {
     "data": {
      "image/png": "[encoded data removed]",
      "text/plain": [
       "<Figure size 640x480 with 1 Axes>"
      ]
     },
     "metadata": {},
     "output_type": "display_data"
    }
   ],
   "source": [
    "users_per_day = df_instacart_orders.groupby('order_dow')['user_id'].count().reset_index()\n",
    "print(users_per_day)\n",
    "\n",
    "users_per_day.plot(x='order_dow',\n",
    "                  y='user_id',\n",
    "                  style='o',\n",
    "                  title='Día en que las personas compran víveres',\n",
    "                  xlabel='Día de la semana',\n",
    "                  ylabel='Personas',\n",
    "                  legend=False)\n",
    "plt.show()"
   ]
  },
  {
   "cell_type": "markdown",
   "id": "dominant-lightning",
   "metadata": {
    "id": "dominant-lightning"
   },
   "source": [
    "Se puede observar que el día que más personas realizan sus compras es el Domingo, seguido por el día Lunes. Por otra parte, el día con menor actividad de las personas realizando pedidos es el Jueves."
   ]
  },
  {
   "cell_type": "markdown",
   "id": "cutting-concert",
   "metadata": {
    "id": "cutting-concert"
   },
   "source": [
    "### [A4] ¿Cuánto tiempo esperan las personas hasta hacer otro pedido? Comenta sobre los valores mínimos y máximos."
   ]
  },
  {
   "cell_type": "code",
   "execution_count": 40,
   "id": "c231f523",
   "metadata": {
    "id": "c231f523",
    "trusted": false
   },
   "outputs": [
    {
     "name": "stdout",
     "output_type": "stream",
     "text": [
      "    days_since_prior_order  user_id\n",
      "0                      0.0     9589\n",
      "1                      1.0    20179\n",
      "2                      2.0    27138\n",
      "3                      3.0    30224\n",
      "4                      4.0    31006\n",
      "5                      5.0    30096\n",
      "6                      6.0    33930\n",
      "7                      7.0    44577\n",
      "8                      8.0    25361\n",
      "9                      9.0    16753\n",
      "10                    10.0    13309\n",
      "11                    11.0    11467\n",
      "12                    12.0    10658\n",
      "13                    13.0    11737\n",
      "14                    14.0    13992\n",
      "15                    15.0     9416\n",
      "16                    16.0     6587\n",
      "17                    17.0     5498\n",
      "18                    18.0     4971\n",
      "19                    19.0     4939\n",
      "20                    20.0     5302\n",
      "21                    21.0     6448\n",
      "22                    22.0     4514\n",
      "23                    23.0     3337\n",
      "24                    24.0     3015\n",
      "25                    25.0     2711\n",
      "26                    26.0     2640\n",
      "27                    27.0     2986\n",
      "28                    28.0     3745\n",
      "29                    29.0     2673\n",
      "30                    30.0    51337\n",
      "Mínimo:     days_since_prior_order  user_id\n",
      "26                    26.0     2640 \n",
      " Máximo:     days_since_prior_order  user_id\n",
      "30                    30.0    51337\n"
     ]
    },
    {
     "data": {
      "image/png": "[encoded data removed]",
      "text/plain": [
       "<Figure size 640x480 with 1 Axes>"
      ]
     },
     "metadata": {},
     "output_type": "display_data"
    }
   ],
   "source": [
    "period_time = df_instacart_orders.groupby('days_since_prior_order')['user_id'].count().reset_index()\n",
    "print(period_time)\n",
    "print('Mínimo:', period_time[period_time['user_id']==min(period_time['user_id'])], '\\n', 'Máximo:', period_time[period_time['user_id']==max(period_time['user_id'])])\n",
    "\n",
    "period_time.plot(x='days_since_prior_order',\n",
    "                y='user_id',\n",
    "                style='x',\n",
    "                title='Tiempo que espera una persona hasta hacer un nuevo pedido',\n",
    "                xlabel='Número de días',\n",
    "                ylabel='Personas',\n",
    "                legend=False)\n",
    "plt.show()"
   ]
  },
  {
   "cell_type": "markdown",
   "id": "discrete-vertex",
   "metadata": {
    "id": "discrete-vertex"
   },
   "source": [
    "Se pudo observar que la mayor cantidad de personas esperan 30 días hasta hacer otro pedido. Y la minoría espera 26 días para hacer otro pedido."
   ]
  },
  {
   "cell_type": "markdown",
   "id": "tight-staff",
   "metadata": {
    "id": "tight-staff"
   },
   "source": [
    "# [B] Intermedio (deben completarse todos para aprobar)\n",
    "\n",
    "1. ¿Existe alguna diferencia entre las distribuciones `'order_hour_of_day'` de los miércoles y los sábados? Traza gráficos de barra de `'order_hour_of_day'` para ambos días en la misma figura y describe las diferencias que observes.\n",
    "2. Grafica la distribución para el número de órdenes que hacen los clientes (es decir, cuántos clientes hicieron solo 1 pedido, cuántos hicieron 2, cuántos 3, y así sucesivamente...).\n",
    "3. ¿Cuáles son los 20 principales productos que se piden con más frecuencia (muestra su identificación y nombre)?"
   ]
  },
  {
   "cell_type": "markdown",
   "id": "packed-classic",
   "metadata": {
    "id": "packed-classic"
   },
   "source": [
    "### [B1] Diferencia entre miércoles y sábados para  `'order_hour_of_day'`. Traza gráficos de barra para los dos días y describe las diferencias que veas."
   ]
  },
  {
   "cell_type": "code",
   "execution_count": 41,
   "id": "d89b8403",
   "metadata": {
    "id": "d89b8403",
    "trusted": false
   },
   "outputs": [],
   "source": [
    "m_s = df_instacart_orders[(df_instacart_orders['order_dow']==3) | (df_instacart_orders['order_dow']==6)]"
   ]
  },
  {
   "cell_type": "code",
   "execution_count": 42,
   "id": "94e54e8a",
   "metadata": {
    "id": "94e54e8a",
    "trusted": false
   },
   "outputs": [
    {
     "data": {
      "image/png": "[encoded data removed]",
      "text/plain": [
       "<Figure size 640x480 with 1 Axes>"
      ]
     },
     "metadata": {},
     "output_type": "display_data"
    },
    {
     "data": {
      "image/png": "[encoded data removed]",
      "text/plain": [
       "<Figure size 640x480 with 1 Axes>"
      ]
     },
     "metadata": {},
     "output_type": "display_data"
    }
   ],
   "source": [
    "m_s_3 = m_s[m_s['order_dow']==3].groupby('order_hour_of_day')['order_id'].count().reset_index()\n",
    "m_s_6 = m_s[m_s['order_dow']==6].groupby('order_hour_of_day')['order_id'].count().reset_index()\n",
    "\n",
    "m_s_3.plot(x='order_hour_of_day',\n",
    "          y='order_id',\n",
    "          kind='bar',\n",
    "          title='Pedidos según la hora del día para miércoles',\n",
    "          xlabel='Hora del día',\n",
    "          ylabel='Pedidos')\n",
    "plt.show()\n",
    "\n",
    "m_s_6.plot(x='order_hour_of_day',\n",
    "          y='order_id',\n",
    "          kind='bar',\n",
    "          title='Pedidos según la hora del día para sábados',\n",
    "          xlabel='Hora del día',\n",
    "          ylabel='Pedidos')\n",
    "plt.show()"
   ]
  },
  {
   "cell_type": "code",
   "execution_count": 43,
   "id": "797c90a8",
   "metadata": {
    "id": "797c90a8",
    "trusted": false
   },
   "outputs": [],
   "source": [
    "wednesday = df_instacart_orders[df_instacart_orders['order_dow']==3]['order_hour_of_day']\n",
    "saturday = df_instacart_orders[df_instacart_orders['order_dow']==6]['order_hour_of_day']"
   ]
  },
  {
   "cell_type": "code",
   "execution_count": 44,
   "id": "35bcea30",
   "metadata": {
    "id": "35bcea30",
    "trusted": false
   },
   "outputs": [
    {
     "data": {
      "image/png": "[encoded data removed]",
      "text/plain": [
       "<Figure size 640x480 with 1 Axes>"
      ]
     },
     "metadata": {},
     "output_type": "display_data"
    }
   ],
   "source": [
    "wednesday.plot(kind='hist')\n",
    "saturday.plot(kind='hist', alpha=0.8)\n",
    "plt.title('Distribución de la hora de pedido para miércoles y sabados')\n",
    "plt.xlabel('Hora del día')\n",
    "plt.legend(['Miércoles', 'Sábados'])\n",
    "\n",
    "plt.show()"
   ]
  },
  {
   "cell_type": "markdown",
   "id": "charitable-congo",
   "metadata": {
    "id": "charitable-congo"
   },
   "source": [
    "Si bien, las distribuciones para la frecuencia de actividad según la hora para miércoles y sábados es similar, se puede evidenciar que existen pequeñas diferencias para los horarios de 12 a 14 p.m. donde se ven más pedidos los días sábados siendo su pico de actividad, en cambio los miércoles presentan una disminución despues de las 11 a.m. hasta las 14 p.m. para volver a mayor actividad y tener el pico máximo de pedidos a las 15 p.m."
   ]
  },
  {
   "cell_type": "markdown",
   "id": "e3891143",
   "metadata": {
    "id": "e3891143"
   },
   "source": [
    "### [B2] ¿Cuál es la distribución para el número de pedidos por cliente?"
   ]
  },
  {
   "cell_type": "code",
   "execution_count": 45,
   "id": "d8c26c23",
   "metadata": {
    "id": "d8c26c23",
    "trusted": false
   },
   "outputs": [
    {
     "name": "stdout",
     "output_type": "stream",
     "text": [
      "        user_id  order_number\n",
      "0             2             5\n",
      "1             4             8\n",
      "2             5             4\n",
      "3             6             5\n",
      "4             7            32\n",
      "...         ...           ...\n",
      "157432   206203             2\n",
      "157433   206206           246\n",
      "157434   206207            40\n",
      "157435   206208           212\n",
      "157436   206209            17\n",
      "\n",
      "[157437 rows x 2 columns]\n"
     ]
    }
   ],
   "source": [
    "order_user = df_instacart_orders.groupby('user_id')['order_number'].sum().reset_index()\n",
    "print(order_user)"
   ]
  },
  {
   "cell_type": "code",
   "execution_count": 46,
   "id": "00e69a66",
   "metadata": {
    "id": "00e69a66",
    "trusted": false
   },
   "outputs": [
    {
     "data": {
      "image/png": "[encoded data removed]",
      "text/plain": [
       "<Figure size 640x480 with 1 Axes>"
      ]
     },
     "metadata": {},
     "output_type": "display_data"
    }
   ],
   "source": [
    "order_user['order_number'].hist(bins=30)\n",
    "plt.title('Número de pedidos por cliente')\n",
    "plt.xlabel('Número de pedidos')\n",
    "\n",
    "plt.xlim([0, 800])\n",
    "\n",
    "plt.show()"
   ]
  },
  {
   "cell_type": "markdown",
   "id": "d2eff7d5",
   "metadata": {
    "id": "d2eff7d5"
   },
   "source": [
    "Se puede observar que existe mayor frecuencia en clientes que realizan menos de 100 pedidos."
   ]
  },
  {
   "cell_type": "markdown",
   "id": "54a0319c",
   "metadata": {
    "id": "54a0319c"
   },
   "source": [
    "### [B3] ¿Cuáles son los 20 productos más populares (muestra su ID y nombre)?"
   ]
  },
  {
   "cell_type": "code",
   "execution_count": 47,
   "id": "exterior-arizona",
   "metadata": {
    "id": "exterior-arizona",
    "scrolled": true,
    "trusted": false
   },
   "outputs": [
    {
     "name": "stdout",
     "output_type": "stream",
     "text": [
      "   order_id  product_id                                       product_name\n",
      "0   2141543       11440                     CHICKEN BREAST TENDERS BREADED\n",
      "1    567889        1560                                         BAG OF ICE\n",
      "2   2261212       26683  CAFE LATTE PURE LIGHTLY SWEETENED ICED COFFEE ...\n",
      "3    491251        8670                                     DICED TOMATOES\n",
      "4   2571142        1940                        ORGANIC 2% REDUCED FAT MILK\n"
     ]
    }
   ],
   "source": [
    "products = df_products[['product_id', 'product_name']]\n",
    "order_products = df_order_products[['order_id', 'product_id']]\n",
    "df = order_products.merge(products, on='product_id', how='left')\n",
    "print(df.head())"
   ]
  },
  {
   "cell_type": "code",
   "execution_count": 48,
   "id": "universal-facial",
   "metadata": {
    "id": "universal-facial",
    "trusted": false
   },
   "outputs": [
    {
     "name": "stdout",
     "output_type": "stream",
     "text": [
      "product_id  product_name                                          \n",
      "24852       BANANA                                                    66050\n",
      "13176       BAG OF ORGANIC BANANAS                                    53297\n",
      "21137       ORGANIC STRAWBERRIES                                      37039\n",
      "21903       ORGANIC BABY SPINACH                                      33971\n",
      "47209       ORGANIC HASS AVOCADO                                      29773\n",
      "                                                                      ...  \n",
      "5836        ARCTIC D COD LIVER OIL LEMON                                  1\n",
      "43573       WHISK- 10 INCH                                                1\n",
      "43570       QUESO COTIJA                                                  1\n",
      "36174       WHOLE PINTO BEANS                                             1\n",
      "41403       EXTRA RICH & THICK SPAGHETTI SAUCE SPICES & SEASONINGS        1\n",
      "Name: order_id, Length: 45573, dtype: int64\n"
     ]
    }
   ],
   "source": [
    "df2 = df.groupby(['product_id', 'product_name'])['order_id'].count().sort_values(ascending=False)\n",
    "print(df2)"
   ]
  },
  {
   "cell_type": "code",
   "execution_count": 49,
   "id": "bbcdd20b",
   "metadata": {
    "id": "bbcdd20b",
    "trusted": false
   },
   "outputs": [
    {
     "name": "stdout",
     "output_type": "stream",
     "text": [
      "product_id  product_name            \n",
      "24852       BANANA                      66050\n",
      "13176       BAG OF ORGANIC BANANAS      53297\n",
      "21137       ORGANIC STRAWBERRIES        37039\n",
      "21903       ORGANIC BABY SPINACH        33971\n",
      "47209       ORGANIC HASS AVOCADO        29773\n",
      "47766       ORGANIC AVOCADO             24689\n",
      "47626       LARGE LEMON                 21495\n",
      "16797       STRAWBERRIES                20018\n",
      "26209       LIMES                       19690\n",
      "27845       ORGANIC WHOLE MILK          19600\n",
      "27966       ORGANIC RASPBERRIES         19197\n",
      "22935       ORGANIC YELLOW ONION        15898\n",
      "24964       ORGANIC GARLIC              15292\n",
      "45007       ORGANIC ZUCCHINI            14584\n",
      "39275       ORGANIC BLUEBERRIES         13879\n",
      "49683       CUCUMBER KIRBY              13675\n",
      "28204       ORGANIC FUJI APPLE          12544\n",
      "5876        ORGANIC LEMON               12232\n",
      "8277        APPLE HONEYCRISP ORGANIC    11993\n",
      "40706       ORGANIC GRAPE TOMATOES      11781\n",
      "Name: order_id, dtype: int64\n"
     ]
    }
   ],
   "source": [
    "print(df2.head(20))"
   ]
  },
  {
   "cell_type": "markdown",
   "id": "7df00f47",
   "metadata": {
    "id": "7df00f47"
   },
   "source": [
    "Se puede obser var que los productos más pedidos corresponden a frutas y verduras a excepción de la leche orgánica."
   ]
  },
  {
   "cell_type": "markdown",
   "id": "gross-theme",
   "metadata": {
    "id": "gross-theme"
   },
   "source": [
    "# [C] Difícil (deben completarse todos para aprobar)\n",
    "\n",
    "1. ¿Cuántos artículos suelen comprar las personas en un pedido? ¿Cómo es la distribución?\n",
    "2. ¿Cuáles son los 20 principales artículos que vuelven a pedirse con mayor frecuencia (muestra sus nombres e IDs de los productos)?\n",
    "3. Para cada producto, ¿cuál es la tasa de repetición del pedido (número de repeticiones de pedido/total de pedidos?\n",
    "4. Para cada cliente, ¿qué proporción de los productos que pidió ya los había pedido? Calcula la tasa de repetición de pedido para cada usuario en lugar de para cada producto.\n",
    "5. ¿Cuáles son los 20 principales artículos que la gente pone primero en sus carritos (muestra las IDs de los productos, sus nombres, y el número de veces en que fueron el primer artículo en añadirse al carrito)?"
   ]
  },
  {
   "cell_type": "markdown",
   "id": "romantic-deposit",
   "metadata": {
    "id": "romantic-deposit"
   },
   "source": [
    "### [C1] ¿Cuántos artículos compran normalmente las personas en un pedido? ¿Cómo es la distribución?"
   ]
  },
  {
   "cell_type": "code",
   "execution_count": 50,
   "id": "virtual-punch",
   "metadata": {
    "id": "virtual-punch",
    "trusted": false
   },
   "outputs": [
    {
     "name": "stdout",
     "output_type": "stream",
     "text": [
      "   order_id  product_id\n",
      "0         4          13\n",
      "1         9          15\n",
      "2        11           5\n",
      "3        19           3\n",
      "4        20           8\n",
      "(450046, 2)\n"
     ]
    }
   ],
   "source": [
    "items_per_order = df_order_products.groupby('order_id')['product_id'].count().reset_index()\n",
    "print(items_per_order.head())\n",
    "print(items_per_order.shape)\n",
    "\n",
    "user_orders = df_instacart_orders[['order_id', 'user_id']]"
   ]
  },
  {
   "cell_type": "code",
   "execution_count": 51,
   "id": "sensitive-breathing",
   "metadata": {
    "id": "sensitive-breathing",
    "trusted": false
   },
   "outputs": [
    {
     "name": "stdout",
     "output_type": "stream",
     "text": [
      "           order_id        user_id     product_id\n",
      "count  4.789520e+05  478952.000000  450046.000000\n",
      "mean   1.709953e+06  102966.654911      10.098983\n",
      "std    9.869537e+05   59525.292863       7.540206\n",
      "min    4.000000e+00       2.000000       1.000000\n",
      "25%    8.564698e+05   51413.750000       5.000000\n",
      "50%    1.709521e+06  102633.000000       8.000000\n",
      "75%    2.563002e+06  154419.000000      14.000000\n",
      "max    3.421079e+06  206209.000000     127.000000\n",
      "<class 'pandas.core.frame.DataFrame'>\n",
      "Int64Index: 478952 entries, 0 to 478951\n",
      "Data columns (total 3 columns):\n",
      " #   Column      Non-Null Count   Dtype  \n",
      "---  ------      --------------   -----  \n",
      " 0   order_id    478952 non-null  int64  \n",
      " 1   user_id     478952 non-null  int64  \n",
      " 2   product_id  450046 non-null  float64\n",
      "dtypes: float64(1), int64(2)\n",
      "memory usage: 14.6 MB\n",
      "None\n",
      "10.098983215049127\n",
      "<class 'pandas.core.frame.DataFrame'>\n",
      "Int64Index: 478952 entries, 0 to 478951\n",
      "Data columns (total 3 columns):\n",
      " #   Column      Non-Null Count   Dtype  \n",
      "---  ------      --------------   -----  \n",
      " 0   order_id    478952 non-null  int64  \n",
      " 1   user_id     478952 non-null  int64  \n",
      " 2   product_id  478952 non-null  float64\n",
      "dtypes: float64(1), int64(2)\n",
      "memory usage: 14.6 MB\n",
      "None\n"
     ]
    }
   ],
   "source": [
    "df_items_orders = user_orders.merge(items_per_order, on='order_id', how='left')\n",
    "print(df_items_orders.describe())\n",
    "print(df_items_orders.info())\n",
    "print(df_items_orders['product_id'].mean())\n",
    "\n",
    "df_items_orders.fillna(df_items_orders['product_id'].mean().astype('int'), inplace=True)\n",
    "print(df_items_orders.info())"
   ]
  },
  {
   "cell_type": "code",
   "execution_count": 52,
   "id": "completed-frank",
   "metadata": {
    "id": "completed-frank",
    "trusted": false
   },
   "outputs": [
    {
     "data": {
      "image/png": "[encoded data removed]",
      "text/plain": [
       "<Figure size 640x480 with 1 Axes>"
      ]
     },
     "metadata": {},
     "output_type": "display_data"
    }
   ],
   "source": [
    "df_items_orders['product_id'].hist(bins=30)\n",
    "plt.title('Distribución de la cantidad de artículos por pedido')\n",
    "plt.xlabel('Número de artículos por pedido')\n",
    "plt.ylabel('Frecuencia')\n",
    "\n",
    "plt.show()"
   ]
  },
  {
   "cell_type": "markdown",
   "id": "designed-mortality",
   "metadata": {
    "id": "designed-mortality"
   },
   "source": [
    "Al combinar DataFrames es posible quedarse con valores ausentes. En este caso el DataFrame df_instacart_orders tenía más filas correspondientes a `'order_id'` que el DataFrame df_order_products no tenía, es por esto que en el nuevo DataFrame se registraron valores ausentes que fueron remplazados por la media de artículos por pedido. La media de artículos por pedido es de 10 artículos. Se observa que la distribución presenta mayor frecuencia en pedidos con menos de 20 artículos."
   ]
  },
  {
   "cell_type": "markdown",
   "id": "5e6b5537",
   "metadata": {
    "id": "5e6b5537"
   },
   "source": [
    "### [C2] ¿Cuáles son los 20 principales artículos que vuelven a pedirse con mayor frecuencia (muestra sus nombres e IDs de los productos)?"
   ]
  },
  {
   "cell_type": "code",
   "execution_count": 53,
   "id": "9374e55a",
   "metadata": {
    "id": "9374e55a",
    "trusted": false
   },
   "outputs": [
    {
     "name": "stdout",
     "output_type": "stream",
     "text": [
      "   reordered  product_id\n",
      "1          1        1560\n",
      "2          1       26683\n",
      "3          1        8670\n",
      "4          1        1940\n",
      "5          1       21616\n",
      "   product_id                                       product_name\n",
      "0           1                         CHOCOLATE SANDWICH COOKIES\n",
      "1           2                                   ALL-SEASONS SALT\n",
      "2           3               ROBUST GOLDEN UNSWEETENED OOLONG TEA\n",
      "3           4  SMART ONES CLASSIC FAVORITES MINI RIGATONI WIT...\n",
      "4           5                          GREEN CHILE ANYTIME SAUCE\n"
     ]
    }
   ],
   "source": [
    "reordered_products = df_order_products[df_order_products['reordered']==1][['reordered', 'product_id']]\n",
    "print(reordered_products.head())\n",
    "\n",
    "products = df_products[['product_id', 'product_name']]\n",
    "print(products.head())"
   ]
  },
  {
   "cell_type": "code",
   "execution_count": 54,
   "id": "possible-change",
   "metadata": {
    "id": "possible-change",
    "scrolled": true,
    "trusted": false
   },
   "outputs": [
    {
     "name": "stdout",
     "output_type": "stream",
     "text": [
      "   reordered  product_id                                       product_name\n",
      "0          1        1560                                         BAG OF ICE\n",
      "1          1       26683  CAFE LATTE PURE LIGHTLY SWEETENED ICED COFFEE ...\n",
      "2          1        8670                                     DICED TOMATOES\n",
      "3          1        1940                        ORGANIC 2% REDUCED FAT MILK\n",
      "4          1       21616                               ORGANIC BABY ARUGULA\n"
     ]
    }
   ],
   "source": [
    "df_reordered = reordered_products.merge(products, on='product_id', how='left')\n",
    "print(df_reordered.head())"
   ]
  },
  {
   "cell_type": "code",
   "execution_count": 55,
   "id": "professional-surfing",
   "metadata": {
    "id": "professional-surfing",
    "scrolled": true,
    "trusted": false
   },
   "outputs": [],
   "source": [
    "top20_reordered = df_reordered.groupby(['product_id', 'product_name'])['reordered'].count().sort_values(ascending=False)"
   ]
  },
  {
   "cell_type": "code",
   "execution_count": 56,
   "id": "48dd3658",
   "metadata": {
    "id": "48dd3658",
    "trusted": false
   },
   "outputs": [
    {
     "name": "stdout",
     "output_type": "stream",
     "text": [
      "product_id  product_name            \n",
      "24852       BANANA                      55763\n",
      "13176       BAG OF ORGANIC BANANAS      44450\n",
      "21137       ORGANIC STRAWBERRIES        28639\n",
      "21903       ORGANIC BABY SPINACH        26233\n",
      "47209       ORGANIC HASS AVOCADO        23629\n",
      "47766       ORGANIC AVOCADO             18743\n",
      "27845       ORGANIC WHOLE MILK          16251\n",
      "47626       LARGE LEMON                 15044\n",
      "27966       ORGANIC RASPBERRIES         14748\n",
      "16797       STRAWBERRIES                13945\n",
      "26209       LIMES                       13327\n",
      "22935       ORGANIC YELLOW ONION        11145\n",
      "24964       ORGANIC GARLIC              10411\n",
      "45007       ORGANIC ZUCCHINI            10076\n",
      "49683       CUCUMBER KIRBY               9538\n",
      "28204       ORGANIC FUJI APPLE           8989\n",
      "8277        APPLE HONEYCRISP ORGANIC     8836\n",
      "39275       ORGANIC BLUEBERRIES          8799\n",
      "5876        ORGANIC LEMON                8412\n",
      "49235       ORGANIC HALF & HALF          8389\n",
      "Name: reordered, dtype: int64\n"
     ]
    }
   ],
   "source": [
    "print(top20_reordered.head(20))"
   ]
  },
  {
   "cell_type": "markdown",
   "id": "80e70c74",
   "metadata": {
    "id": "80e70c74"
   },
   "source": [
    "Se puede observar que los principales productos que vuelven a pedirse con frecuencia corresponden a frutas y verduras en su mayoría orgánicas. "
   ]
  },
  {
   "cell_type": "markdown",
   "id": "9d312b14",
   "metadata": {
    "id": "9d312b14"
   },
   "source": [
    "### [C3] Para cada producto, ¿cuál es la proporción de las veces que se pide y que se vuelve a pedir?"
   ]
  },
  {
   "cell_type": "code",
   "execution_count": 57,
   "id": "8ae9f4b1",
   "metadata": {
    "id": "8ae9f4b1",
    "trusted": false
   },
   "outputs": [
    {
     "name": "stdout",
     "output_type": "stream",
     "text": [
      "   product_id  order_id\n",
      "0           1       280\n",
      "1           2        11\n",
      "2           3        42\n",
      "3           4        49\n",
      "4           7         2\n",
      "   product_id  order_id\n",
      "0           1       158\n",
      "1           3        31\n",
      "2           4        25\n",
      "3           7         1\n",
      "4           8         6\n"
     ]
    }
   ],
   "source": [
    "df_total_orders = df_order_products.groupby('product_id')['order_id'].count().reset_index()\n",
    "print(df_total_orders.head())\n",
    "\n",
    "df_reordered_orders = df_order_products[df_order_products['reordered']==1].groupby('product_id')['order_id'].count().reset_index()\n",
    "print(df_reordered_orders.head())"
   ]
  },
  {
   "cell_type": "code",
   "execution_count": 58,
   "id": "103e7fe1",
   "metadata": {
    "id": "103e7fe1",
    "trusted": false
   },
   "outputs": [
    {
     "name": "stdout",
     "output_type": "stream",
     "text": [
      "   product_id  order_id_total  order_id_reordered\n",
      "0           1             280               158.0\n",
      "1           2              11                 NaN\n",
      "2           3              42                31.0\n",
      "3           4              49                25.0\n",
      "4           7               2                 1.0\n",
      "   product_id  order_id_total  order_id_reordered\n",
      "0           1             280               158.0\n",
      "2           3              42                31.0\n",
      "3           4              49                25.0\n",
      "4           7               2                 1.0\n",
      "5           8              19                 6.0\n"
     ]
    }
   ],
   "source": [
    "df_reorder_rate = df_total_orders.merge(df_reordered_orders, on='product_id', how='left', suffixes=['_total', '_reordered'])\n",
    "print(df_reorder_rate.head())\n",
    "\n",
    "df_reorder_rate = df_reorder_rate.dropna(subset=['order_id_reordered'])\n",
    "print(df_reorder_rate.head())"
   ]
  },
  {
   "cell_type": "code",
   "execution_count": 59,
   "id": "social-individual",
   "metadata": {
    "id": "social-individual",
    "trusted": false
   },
   "outputs": [
    {
     "name": "stdout",
     "output_type": "stream",
     "text": [
      "       product_id  order_id_total  order_id_reordered  reorder_rate  \\\n",
      "8682        12038               1                 1.0      1.000000   \n",
      "1283         1809               2                 2.0      1.000000   \n",
      "26334       36122               2                 2.0      1.000000   \n",
      "2306         3205               3                 3.0      1.000000   \n",
      "30526       41901               6                 6.0      1.000000   \n",
      "...           ...             ...                 ...           ...   \n",
      "34536       47385              48                 1.0      0.020833   \n",
      "27061       37120             109                 2.0      0.018349   \n",
      "10643       14688              55                 1.0      0.018182   \n",
      "20937       28741              55                 1.0      0.018182   \n",
      "32506       44626              91                 1.0      0.010989   \n",
      "\n",
      "                                            product_name  \n",
      "8682            FOR WOMEN MAXIMUM ABSORBENCY L UNDERWEAR  \n",
      "1283   SLOW KETTLE STYLE SANTA FE CHICKEN ENCHILADA S...  \n",
      "26334                                  SPICY CHILI BEANS  \n",
      "2306             ORIGINAL PURE CHOCOLATE WHIPPET COOKIES  \n",
      "30526   MOISTURIZING LOTIONIZED SHAVE GEL WITH VITAMIN E  \n",
      "...                                                  ...  \n",
      "34536                                     GROUND MUSTARD  \n",
      "27061                                          DILL WEED  \n",
      "10643                                     BAMBOO SKEWERS  \n",
      "20937                              ORGANIC GROUND CLOVES  \n",
      "32506                                    GROUND ALLSPICE  \n",
      "\n",
      "[36228 rows x 5 columns]\n",
      "         product_id  order_id_total  order_id_reordered  reorder_rate\n",
      "count  36228.000000     36228.00000        36228.000000  36228.000000\n",
      "mean   24882.575632       124.80493           74.081870      0.486458\n",
      "std    14326.481012       783.56866          590.059481      0.211266\n",
      "min        1.000000         1.00000            1.000000      0.010989\n",
      "25%    12556.750000         6.00000            2.000000      0.333333\n",
      "50%    24863.000000        17.00000            7.000000      0.500000\n",
      "75%    37285.250000        61.00000           29.000000      0.616071\n",
      "max    49694.000000     66050.00000        55763.000000      1.000000\n"
     ]
    }
   ],
   "source": [
    "df_reorder_rate['reorder_rate'] = df_reorder_rate['order_id_reordered']/df_reorder_rate['order_id_total']\n",
    "df_reorder_rate = df_reorder_rate.merge(df_products[['product_id', 'product_name']], on='product_id', how='left')\n",
    "print(df_reorder_rate.sort_values('reorder_rate', ascending=False))\n",
    "print(df_reorder_rate.describe())"
   ]
  },
  {
   "cell_type": "markdown",
   "id": "I10dEIAyldcO",
   "metadata": {
    "id": "I10dEIAyldcO"
   },
   "source": [
    "Se puede observar que en promedio la proporción de veces que se vuelve a pedir es del 48.64%."
   ]
  },
  {
   "cell_type": "markdown",
   "id": "subject-boxing",
   "metadata": {
    "id": "subject-boxing"
   },
   "source": [
    "### [C4] Para cada cliente, ¿qué proporción de sus productos ya los había pedido?"
   ]
  },
  {
   "cell_type": "code",
   "execution_count": 60,
   "id": "medical-couple",
   "metadata": {
    "id": "medical-couple",
    "scrolled": true,
    "trusted": false
   },
   "outputs": [
    {
     "name": "stdout",
     "output_type": "stream",
     "text": [
      "   user_id  product_id\n",
      "0        2          26\n",
      "1        4           2\n",
      "2        5          12\n",
      "3        6           4\n",
      "4        7          14\n",
      "   user_id  product_id\n",
      "0        2           1\n",
      "1        5           8\n",
      "2        7          13\n",
      "3       11           3\n",
      "4       12           3\n",
      "   user_id  product_id_total  product_id_reordered\n",
      "0        2                26                   1.0\n",
      "1        4                 2                   NaN\n",
      "2        5                12                   8.0\n",
      "3        6                 4                   NaN\n",
      "4        7                14                  13.0\n",
      "   user_id  product_id_total  product_id_reordered\n",
      "0        2                26                   1.0\n",
      "2        5                12                   8.0\n",
      "4        7                14                  13.0\n",
      "6       11                15                   3.0\n",
      "7       12                12                   3.0\n"
     ]
    }
   ],
   "source": [
    "df_total = df_instacart_orders[['order_id', 'user_id']].merge(df_order_products[['order_id', 'product_id', 'reordered']], on='order_id', how='left')\n",
    "df_total_products_per_user = df_total.groupby('user_id')['product_id'].count().reset_index()\n",
    "print(df_total_products_per_user.head())\n",
    "\n",
    "df_reorder_products_per_user = df_total[df_total['reordered']==1].groupby('user_id')['product_id'].count().reset_index()\n",
    "print(df_reorder_products_per_user.head())\n",
    "\n",
    "df_reorder_rate_user = df_total_products_per_user.merge(df_reorder_products_per_user, on='user_id', how='left', suffixes=['_total', '_reordered'])\n",
    "print(df_reorder_rate_user.head())\n",
    "\n",
    "df_reorder_rate_user = df_reorder_rate_user.dropna(subset=['product_id_reordered'])\n",
    "print(df_reorder_rate_user.head())"
   ]
  },
  {
   "cell_type": "code",
   "execution_count": 61,
   "id": "8892e4b4",
   "metadata": {
    "id": "8892e4b4",
    "trusted": false
   },
   "outputs": [
    {
     "name": "stdout",
     "output_type": "stream",
     "text": [
      "   user_id  product_id_total  product_id_reordered  reorder_rate\n",
      "0        2                26                   1.0      0.038462\n",
      "2        5                12                   8.0      0.666667\n",
      "4        7                14                  13.0      0.928571\n",
      "6       11                15                   3.0      0.200000\n",
      "7       12                12                   3.0      0.250000\n",
      "             user_id  product_id_total  product_id_reordered   reorder_rate\n",
      "count  132991.000000     132991.000000         132991.000000  132991.000000\n",
      "mean   103179.252340         33.144980             20.180599       0.556751\n",
      "std     59541.029953         37.054519             28.702502       0.248833\n",
      "min         2.000000          1.000000              1.000000       0.014925\n",
      "25%     51633.500000         10.000000              4.000000       0.363636\n",
      "50%    103115.000000         21.000000             10.000000       0.562500\n",
      "75%    154775.500000         42.000000             24.000000       0.750000\n",
      "max    206209.000000        580.000000            477.000000       1.000000\n"
     ]
    }
   ],
   "source": [
    "df_reorder_rate_user['reorder_rate'] = df_reorder_rate_user['product_id_reordered']/df_reorder_rate_user['product_id_total']\n",
    "print(df_reorder_rate_user.head())\n",
    "print(df_reorder_rate_user.describe())"
   ]
  },
  {
   "cell_type": "markdown",
   "id": "BgJSvXDsleXz",
   "metadata": {
    "id": "BgJSvXDsleXz"
   },
   "source": [
    "Se pudo evidenciar que la media de la proporción de productos reordenados por usuario es 55.67%"
   ]
  },
  {
   "cell_type": "markdown",
   "id": "92d35137",
   "metadata": {
    "id": "92d35137"
   },
   "source": [
    "### [C5] ¿Cuáles son los 20 principales artículos que las personas ponen primero en sus carritos?"
   ]
  },
  {
   "cell_type": "code",
   "execution_count": 62,
   "id": "0ae57274",
   "metadata": {
    "id": "0ae57274",
    "scrolled": true,
    "trusted": false
   },
   "outputs": [],
   "source": [
    "df_prod = df_order_products[['order_id', 'product_id', 'add_to_cart_order']]"
   ]
  },
  {
   "cell_type": "code",
   "execution_count": 63,
   "id": "forty-netherlands",
   "metadata": {
    "id": "forty-netherlands",
    "scrolled": true,
    "trusted": false
   },
   "outputs": [
    {
     "name": "stdout",
     "output_type": "stream",
     "text": [
      "   product_id  order_id\n",
      "0           1        47\n",
      "1           2         2\n",
      "2           3         5\n",
      "3           4         1\n",
      "4           8         4\n"
     ]
    }
   ],
   "source": [
    "df_prod_2 = df_prod[df_prod['add_to_cart_order']==1].groupby('product_id')['order_id'].count().reset_index()\n",
    "print(df_prod_2.head())"
   ]
  },
  {
   "cell_type": "code",
   "execution_count": 64,
   "id": "08e41ec2",
   "metadata": {
    "id": "08e41ec2",
    "trusted": false
   },
   "outputs": [
    {
     "name": "stdout",
     "output_type": "stream",
     "text": [
      "       product_id  count_first_prod                 product_name\n",
      "13414       24852             15562                       BANANA\n",
      "7127        13176             11026       BAG OF ORGANIC BANANAS\n",
      "15028       27845              4363           ORGANIC WHOLE MILK\n",
      "11384       21137              3946         ORGANIC STRAWBERRIES\n",
      "25439       47209              3390         ORGANIC HASS AVOCADO\n",
      "11786       21903              3336         ORGANIC BABY SPINACH\n",
      "25732       47766              3044              ORGANIC AVOCADO\n",
      "10622       19660              2336                 SPRING WATER\n",
      "9050        16797              2308                 STRAWBERRIES\n",
      "15102       27966              2024          ORGANIC RASPBERRIES\n",
      "24024       44632              1914   SPARKLING WATER GRAPEFRUIT\n",
      "26519       49235              1797          ORGANIC HALF & HALF\n",
      "25658       47626              1737                  LARGE LEMON\n",
      "115           196              1733                         SODA\n",
      "20853       38689              1397     ORGANIC REDUCED FAT MILK\n",
      "14158       26209              1370                        LIMES\n",
      "6660        12341              1340                HASS AVOCADOS\n",
      "3153         5785              1310  ORGANIC REDUCED FAT 2% MILK\n",
      "14639       27086              1309                  HALF & HALF\n",
      "23335       43352              1246                  RASPBERRIES\n"
     ]
    }
   ],
   "source": [
    "df_prod_3 = df_prod_2.merge(df_products[['product_id', 'product_name']], on='product_id', how='left')\n",
    "df_prod_3.rename(columns={'order_id':'count_first_prod'}, inplace=True)\n",
    "\n",
    "print(df_prod_3.sort_values('count_first_prod', ascending=False).head(20))\n"
   ]
  },
  {
   "cell_type": "markdown",
   "id": "28ce9872",
   "metadata": {
    "id": "28ce9872"
   },
   "source": [
    "Se puede observar que el principal artículo añadido en primer lugar al carrito es la banana."
   ]
  },
  {
   "cell_type": "markdown",
   "id": "uITbFCEoDosC",
   "metadata": {
    "id": "uITbFCEoDosC"
   },
   "source": [
    "### Conclusion general del proyecto:"
   ]
  },
  {
   "cell_type": "markdown",
   "id": "fa1b12ec",
   "metadata": {
    "id": "28ce9872"
   },
   "source": [
    "El proyecto permitió conocer el comportamiento de compra de los usuarios y las tendencias en los productos seleccionados. \n",
    "- Se pudo identificar el patrón de preferencia en los horarios de compras, observando que a las 9 a.m. se tiene mayor actividad. Del mismo modo, se evidenció que el Domingo y Lunes son los días en que más personas realizan sus compras. Y las personas generalmente esperan 30 días antes de hacer otro pedido.\n",
    "- Se observó que la banana es el producto más pedido y más repetido en nuevos pedidos, así como también es el primer producto en ser seleccionado para el carrito.\n",
    "- Se identificó la tasa promedio de repetición en productos pedidos que está por encima del 50%. Con esta información se puede segmentar a los clientes y productos, estableciendo ciertas prioridades en las campañas de promoción para estos productos.\n",
    "- El preprocesamiento de datos fue primordial para garantizar la calidad de los datos y permitir los análisis posteriores."
   ]
  }
 ],
 "metadata": {
  "ExecuteTimeLog": [
   {
    "duration": 336,
    "start_time": "2025-02-24T19:12:05.755Z"
   },
   {
    "duration": 2180,
    "start_time": "2025-02-24T19:12:08.316Z"
   },
   {
    "duration": 372,
    "start_time": "2025-02-24T19:12:10.499Z"
   },
   {
    "duration": 1942,
    "start_time": "2025-02-24T19:12:48.030Z"
   },
   {
    "duration": 78,
    "start_time": "2025-02-24T19:12:51.567Z"
   },
   {
    "duration": 28,
    "start_time": "2025-02-24T19:13:13.766Z"
   },
   {
    "duration": 1899,
    "start_time": "2025-02-24T19:13:25.984Z"
   },
   {
    "duration": 20,
    "start_time": "2025-02-24T19:13:30.896Z"
   },
   {
    "duration": 12,
    "start_time": "2025-02-24T19:13:35.124Z"
   },
   {
    "duration": 14,
    "start_time": "2025-02-24T19:13:40.890Z"
   },
   {
    "duration": 4099,
    "start_time": "2025-02-24T19:13:44.453Z"
   },
   {
    "duration": 870,
    "start_time": "2025-02-24T19:14:01.584Z"
   },
   {
    "duration": 77,
    "start_time": "2025-02-24T19:14:05.261Z"
   },
   {
    "duration": 20,
    "start_time": "2025-02-24T19:14:11.890Z"
   },
   {
    "duration": 13,
    "start_time": "2025-02-24T19:14:16.195Z"
   },
   {
    "duration": 14,
    "start_time": "2025-02-24T19:14:24.631Z"
   },
   {
    "duration": 508,
    "start_time": "2025-02-24T19:14:29.388Z"
   },
   {
    "duration": 11,
    "start_time": "2025-02-24T19:32:18.555Z"
   },
   {
    "duration": 10,
    "start_time": "2025-02-24T19:32:31.451Z"
   },
   {
    "duration": 9,
    "start_time": "2025-02-24T19:33:02.606Z"
   },
   {
    "duration": 9,
    "start_time": "2025-02-24T19:34:23.551Z"
   },
   {
    "duration": 73,
    "start_time": "2025-02-25T14:35:08.798Z"
   },
   {
    "duration": 140,
    "start_time": "2025-02-25T14:37:26.725Z"
   },
   {
    "duration": 120,
    "start_time": "2025-02-25T14:41:21.917Z"
   },
   {
    "duration": 145,
    "start_time": "2025-02-25T14:43:22.970Z"
   },
   {
    "duration": 136,
    "start_time": "2025-02-25T14:44:04.442Z"
   },
   {
    "duration": 129,
    "start_time": "2025-02-25T14:44:46.722Z"
   },
   {
    "duration": 68,
    "start_time": "2025-02-25T14:45:32.070Z"
   },
   {
    "duration": 138,
    "start_time": "2025-02-25T14:47:30.535Z"
   },
   {
    "duration": 130,
    "start_time": "2025-02-25T14:48:51.477Z"
   },
   {
    "duration": 136,
    "start_time": "2025-02-25T14:51:08.768Z"
   },
   {
    "duration": 147,
    "start_time": "2025-02-25T14:52:41.321Z"
   },
   {
    "duration": 67,
    "start_time": "2025-02-25T14:53:43.922Z"
   },
   {
    "duration": 131,
    "start_time": "2025-02-25T15:00:20.951Z"
   },
   {
    "duration": 175,
    "start_time": "2025-02-25T15:13:07.102Z"
   },
   {
    "duration": 14,
    "start_time": "2025-02-25T15:13:13.771Z"
   },
   {
    "duration": 12,
    "start_time": "2025-02-25T15:13:26.580Z"
   },
   {
    "duration": 14,
    "start_time": "2025-02-25T15:13:44.080Z"
   },
   {
    "duration": 173,
    "start_time": "2025-02-25T15:13:53.490Z"
   },
   {
    "duration": 8,
    "start_time": "2025-02-25T15:15:53.618Z"
   },
   {
    "duration": 8,
    "start_time": "2025-02-25T15:16:28.990Z"
   },
   {
    "duration": 87,
    "start_time": "2025-02-25T15:25:11.072Z"
   },
   {
    "duration": 78,
    "start_time": "2025-02-25T15:25:45.418Z"
   },
   {
    "duration": 73,
    "start_time": "2025-02-25T15:26:18.224Z"
   },
   {
    "duration": 21,
    "start_time": "2025-02-25T15:28:07.324Z"
   },
   {
    "duration": 14,
    "start_time": "2025-02-25T15:37:49.367Z"
   },
   {
    "duration": 3,
    "start_time": "2025-02-25T15:38:55.378Z"
   },
   {
    "duration": 11,
    "start_time": "2025-02-25T15:40:47.429Z"
   },
   {
    "duration": 15,
    "start_time": "2025-02-25T15:41:04.773Z"
   },
   {
    "duration": 13,
    "start_time": "2025-02-25T15:42:50.453Z"
   },
   {
    "duration": 21,
    "start_time": "2025-02-25T15:43:37.820Z"
   },
   {
    "duration": 8,
    "start_time": "2025-02-25T15:48:04.778Z"
   },
   {
    "duration": 8,
    "start_time": "2025-02-25T15:49:47.007Z"
   },
   {
    "duration": 9,
    "start_time": "2025-02-25T15:49:54.178Z"
   },
   {
    "duration": 13,
    "start_time": "2025-02-25T15:50:48.842Z"
   },
   {
    "duration": 15,
    "start_time": "2025-02-25T15:51:01.888Z"
   },
   {
    "duration": 9,
    "start_time": "2025-02-25T15:51:24.425Z"
   },
   {
    "duration": 15,
    "start_time": "2025-02-25T16:01:55.413Z"
   },
   {
    "duration": 14,
    "start_time": "2025-02-25T16:03:00.155Z"
   },
   {
    "duration": 15,
    "start_time": "2025-02-25T16:05:39.666Z"
   },
   {
    "duration": 14,
    "start_time": "2025-02-25T16:06:34.491Z"
   },
   {
    "duration": 16,
    "start_time": "2025-02-25T16:06:48.852Z"
   },
   {
    "duration": 14,
    "start_time": "2025-02-25T16:07:05.956Z"
   },
   {
    "duration": 14,
    "start_time": "2025-02-25T16:07:37.245Z"
   },
   {
    "duration": 9,
    "start_time": "2025-02-25T16:09:53.811Z"
   },
   {
    "duration": 5,
    "start_time": "2025-02-25T16:15:35.437Z"
   },
   {
    "duration": 7,
    "start_time": "2025-02-25T16:20:10.123Z"
   },
   {
    "duration": 4,
    "start_time": "2025-02-25T16:20:15.629Z"
   },
   {
    "duration": 4,
    "start_time": "2025-02-25T16:23:14.345Z"
   },
   {
    "duration": 4,
    "start_time": "2025-02-25T16:24:10.850Z"
   },
   {
    "duration": 660,
    "start_time": "2025-02-25T18:42:09.574Z"
   },
   {
    "duration": 76,
    "start_time": "2025-02-25T18:44:17.341Z"
   },
   {
    "duration": 5,
    "start_time": "2025-02-25T19:47:44.527Z"
   },
   {
    "duration": 10,
    "start_time": "2025-02-25T19:49:38.964Z"
   },
   {
    "duration": 5,
    "start_time": "2025-02-25T19:50:53.157Z"
   },
   {
    "duration": 5,
    "start_time": "2025-02-25T19:52:13.667Z"
   },
   {
    "duration": 12,
    "start_time": "2025-02-25T19:58:19.320Z"
   },
   {
    "duration": 3,
    "start_time": "2025-02-25T19:59:36.764Z"
   },
   {
    "duration": 12,
    "start_time": "2025-02-25T20:00:30.900Z"
   },
   {
    "duration": 11,
    "start_time": "2025-02-25T20:01:43.238Z"
   },
   {
    "duration": 3,
    "start_time": "2025-02-25T20:01:58.536Z"
   },
   {
    "duration": 158,
    "start_time": "2025-02-26T13:16:01.971Z"
   },
   {
    "duration": 319,
    "start_time": "2025-02-26T13:16:23.540Z"
   },
   {
    "duration": 1042,
    "start_time": "2025-02-26T13:16:24.361Z"
   },
   {
    "duration": 87,
    "start_time": "2025-02-26T13:16:25.405Z"
   },
   {
    "duration": 11,
    "start_time": "2025-02-26T13:16:26.571Z"
   },
   {
    "duration": 9,
    "start_time": "2025-02-26T13:16:27.781Z"
   },
   {
    "duration": 10,
    "start_time": "2025-02-26T13:16:28.897Z"
   },
   {
    "duration": 8,
    "start_time": "2025-02-26T13:16:30.008Z"
   },
   {
    "duration": 166,
    "start_time": "2025-02-26T13:16:35.530Z"
   },
   {
    "duration": 8,
    "start_time": "2025-02-26T13:16:38.235Z"
   },
   {
    "duration": 99,
    "start_time": "2025-02-26T13:16:40.257Z"
   },
   {
    "duration": 78,
    "start_time": "2025-02-26T13:16:41.854Z"
   },
   {
    "duration": 22,
    "start_time": "2025-02-26T13:16:42.944Z"
   },
   {
    "duration": 13,
    "start_time": "2025-02-26T13:16:46.362Z"
   },
   {
    "duration": 4,
    "start_time": "2025-02-26T13:16:47.321Z"
   },
   {
    "duration": 21,
    "start_time": "2025-02-26T13:16:51.359Z"
   },
   {
    "duration": 9,
    "start_time": "2025-02-26T13:16:52.433Z"
   },
   {
    "duration": 4,
    "start_time": "2025-02-26T13:16:54.888Z"
   },
   {
    "duration": 3,
    "start_time": "2025-02-26T13:16:55.537Z"
   },
   {
    "duration": 3,
    "start_time": "2025-02-26T13:16:57.896Z"
   },
   {
    "duration": 3,
    "start_time": "2025-02-26T13:16:58.504Z"
   },
   {
    "duration": 702,
    "start_time": "2025-02-26T13:17:01.064Z"
   },
   {
    "duration": 84,
    "start_time": "2025-02-26T13:17:01.768Z"
   },
   {
    "duration": 5,
    "start_time": "2025-02-26T13:17:05.860Z"
   },
   {
    "duration": 6,
    "start_time": "2025-02-26T13:17:07.771Z"
   },
   {
    "duration": 4,
    "start_time": "2025-02-26T13:17:13.340Z"
   },
   {
    "duration": 5,
    "start_time": "2025-02-26T13:25:36.996Z"
   },
   {
    "duration": 6,
    "start_time": "2025-02-26T13:25:44.422Z"
   },
   {
    "duration": 7,
    "start_time": "2025-02-26T13:26:06.011Z"
   },
   {
    "duration": 36,
    "start_time": "2025-02-26T13:44:39.301Z"
   },
   {
    "duration": 16,
    "start_time": "2025-02-26T13:45:06.570Z"
   },
   {
    "duration": 7,
    "start_time": "2025-02-26T13:45:15.699Z"
   },
   {
    "duration": 7,
    "start_time": "2025-02-26T13:51:21.667Z"
   },
   {
    "duration": 20,
    "start_time": "2025-02-26T13:51:46.627Z"
   },
   {
    "duration": 8,
    "start_time": "2025-02-26T13:52:22.067Z"
   },
   {
    "duration": 6,
    "start_time": "2025-02-26T14:08:36.096Z"
   },
   {
    "duration": 7,
    "start_time": "2025-02-26T14:19:56.794Z"
   },
   {
    "duration": 140,
    "start_time": "2025-02-26T14:27:02.520Z"
   },
   {
    "duration": 57,
    "start_time": "2025-02-26T14:27:27.089Z"
   },
   {
    "duration": 846,
    "start_time": "2025-02-26T14:28:17.163Z"
   },
   {
    "duration": 7,
    "start_time": "2025-02-26T14:28:23.320Z"
   },
   {
    "duration": 7,
    "start_time": "2025-02-26T14:40:11.996Z"
   },
   {
    "duration": 6,
    "start_time": "2025-02-26T14:40:34.506Z"
   },
   {
    "duration": 10,
    "start_time": "2025-02-26T14:42:58.274Z"
   },
   {
    "duration": 8,
    "start_time": "2025-02-26T14:51:49.345Z"
   },
   {
    "duration": 14,
    "start_time": "2025-02-26T14:59:45.084Z"
   },
   {
    "duration": 7,
    "start_time": "2025-02-26T15:02:55.240Z"
   },
   {
    "duration": 448,
    "start_time": "2025-02-26T15:03:07.906Z"
   },
   {
    "duration": 439,
    "start_time": "2025-02-26T15:03:14.268Z"
   },
   {
    "duration": 451,
    "start_time": "2025-02-26T15:03:23.494Z"
   },
   {
    "duration": 455,
    "start_time": "2025-02-26T15:03:34.593Z"
   },
   {
    "duration": 446,
    "start_time": "2025-02-26T15:03:58.596Z"
   },
   {
    "duration": 3,
    "start_time": "2025-02-26T15:04:11.426Z"
   },
   {
    "duration": 444,
    "start_time": "2025-02-26T15:04:16.259Z"
   },
   {
    "duration": 13,
    "start_time": "2025-02-26T15:24:07.891Z"
   },
   {
    "duration": 4,
    "start_time": "2025-02-26T15:35:31.579Z"
   },
   {
    "duration": 5,
    "start_time": "2025-02-26T15:42:45.554Z"
   },
   {
    "duration": 5,
    "start_time": "2025-02-26T15:42:52.781Z"
   },
   {
    "duration": 32,
    "start_time": "2025-02-26T15:48:48.312Z"
   },
   {
    "duration": 32,
    "start_time": "2025-02-26T15:49:03.957Z"
   },
   {
    "duration": 38,
    "start_time": "2025-02-26T15:49:40.614Z"
   },
   {
    "duration": 27,
    "start_time": "2025-02-26T15:50:14.158Z"
   },
   {
    "duration": 48,
    "start_time": "2025-02-26T16:31:52.638Z"
   },
   {
    "duration": 49,
    "start_time": "2025-02-26T16:33:01.641Z"
   },
   {
    "duration": 10,
    "start_time": "2025-02-26T18:12:27.828Z"
   },
   {
    "duration": 1896,
    "start_time": "2025-02-26T18:17:46.252Z"
   },
   {
    "duration": 345,
    "start_time": "2025-02-26T18:18:28.486Z"
   },
   {
    "duration": 189,
    "start_time": "2025-02-26T18:19:25.627Z"
   },
   {
    "duration": 182,
    "start_time": "2025-02-26T18:20:49.278Z"
   },
   {
    "duration": 179,
    "start_time": "2025-02-26T18:21:14.429Z"
   },
   {
    "duration": 120,
    "start_time": "2025-02-26T18:34:32.401Z"
   },
   {
    "duration": 107,
    "start_time": "2025-02-26T18:34:55.456Z"
   },
   {
    "duration": 403,
    "start_time": "2025-02-26T18:48:38.994Z"
   },
   {
    "duration": 113,
    "start_time": "2025-02-26T18:50:20.736Z"
   },
   {
    "duration": 4,
    "start_time": "2025-02-26T19:02:42.469Z"
   },
   {
    "duration": 5,
    "start_time": "2025-02-26T19:05:02.075Z"
   },
   {
    "duration": 6,
    "start_time": "2025-02-26T19:05:13.337Z"
   },
   {
    "duration": 6,
    "start_time": "2025-02-26T19:06:57.618Z"
   },
   {
    "duration": 10,
    "start_time": "2025-02-26T19:07:08.739Z"
   },
   {
    "duration": 8,
    "start_time": "2025-02-26T19:07:18.231Z"
   },
   {
    "duration": 9,
    "start_time": "2025-02-26T19:07:21.753Z"
   },
   {
    "duration": 451,
    "start_time": "2025-02-26T19:14:45.102Z"
   },
   {
    "duration": 3,
    "start_time": "2025-02-26T19:14:48.794Z"
   },
   {
    "duration": 3,
    "start_time": "2025-02-26T19:16:57.665Z"
   },
   {
    "duration": 2,
    "start_time": "2025-02-26T19:17:03.224Z"
   },
   {
    "duration": 354,
    "start_time": "2025-02-26T19:17:10.427Z"
   },
   {
    "duration": 258,
    "start_time": "2025-02-26T19:19:17.700Z"
   },
   {
    "duration": 355,
    "start_time": "2025-02-26T19:19:27.381Z"
   },
   {
    "duration": 159,
    "start_time": "2025-02-26T19:44:33.710Z"
   },
   {
    "duration": 204,
    "start_time": "2025-02-26T19:44:37.223Z"
   },
   {
    "duration": 148,
    "start_time": "2025-02-26T19:45:43.789Z"
   },
   {
    "duration": 249,
    "start_time": "2025-02-26T19:46:09.414Z"
   },
   {
    "duration": 230,
    "start_time": "2025-02-26T19:48:53.159Z"
   },
   {
    "duration": 225,
    "start_time": "2025-02-26T19:49:14.920Z"
   },
   {
    "duration": 213,
    "start_time": "2025-02-26T19:49:57.756Z"
   },
   {
    "duration": 6,
    "start_time": "2025-02-26T19:50:47.179Z"
   },
   {
    "duration": 171,
    "start_time": "2025-02-26T19:50:55.930Z"
   },
   {
    "duration": 406,
    "start_time": "2025-02-26T19:51:24.710Z"
   },
   {
    "duration": 179,
    "start_time": "2025-02-26T19:52:58.625Z"
   },
   {
    "duration": 181,
    "start_time": "2025-02-26T19:53:31.993Z"
   },
   {
    "duration": 186,
    "start_time": "2025-02-26T19:53:44.145Z"
   },
   {
    "duration": 179,
    "start_time": "2025-02-26T19:53:56.732Z"
   },
   {
    "duration": 181,
    "start_time": "2025-02-26T19:55:04.024Z"
   },
   {
    "duration": 10,
    "start_time": "2025-02-27T13:59:46.300Z"
   },
   {
    "duration": 9,
    "start_time": "2025-02-27T14:00:06.247Z"
   },
   {
    "duration": 942,
    "start_time": "2025-02-27T14:06:56.045Z"
   },
   {
    "duration": 151,
    "start_time": "2025-02-27T14:07:14.297Z"
   },
   {
    "duration": 153,
    "start_time": "2025-02-27T14:07:43.090Z"
   },
   {
    "duration": 376,
    "start_time": "2025-02-27T14:14:57.263Z"
   },
   {
    "duration": 8,
    "start_time": "2025-02-27T14:16:34.664Z"
   },
   {
    "duration": 355,
    "start_time": "2025-02-27T14:16:56.266Z"
   },
   {
    "duration": 109,
    "start_time": "2025-02-27T14:33:04.428Z"
   },
   {
    "duration": 36,
    "start_time": "2025-02-27T14:33:20.578Z"
   },
   {
    "duration": 36,
    "start_time": "2025-02-27T14:33:42.345Z"
   },
   {
    "duration": 34,
    "start_time": "2025-02-27T14:34:45.112Z"
   },
   {
    "duration": 35,
    "start_time": "2025-02-27T14:35:28.065Z"
   },
   {
    "duration": 35,
    "start_time": "2025-02-27T14:35:41.584Z"
   },
   {
    "duration": 48,
    "start_time": "2025-02-27T14:36:06.885Z"
   },
   {
    "duration": 40,
    "start_time": "2025-02-27T14:36:28.239Z"
   },
   {
    "duration": 41,
    "start_time": "2025-02-27T14:36:46.900Z"
   },
   {
    "duration": 43,
    "start_time": "2025-02-27T14:37:05.953Z"
   },
   {
    "duration": 43,
    "start_time": "2025-02-27T14:37:24.387Z"
   },
   {
    "duration": 41,
    "start_time": "2025-02-27T14:37:49.906Z"
   },
   {
    "duration": 123,
    "start_time": "2025-02-27T14:41:13.879Z"
   },
   {
    "duration": 121,
    "start_time": "2025-02-27T14:42:00.872Z"
   },
   {
    "duration": 10,
    "start_time": "2025-02-27T14:43:50.671Z"
   },
   {
    "duration": 10,
    "start_time": "2025-02-27T14:44:19.974Z"
   },
   {
    "duration": 19,
    "start_time": "2025-02-27T14:44:50.671Z"
   },
   {
    "duration": 7,
    "start_time": "2025-02-27T14:45:00.423Z"
   },
   {
    "duration": 109,
    "start_time": "2025-02-27T14:45:29.080Z"
   },
   {
    "duration": 38,
    "start_time": "2025-02-27T14:49:05.429Z"
   },
   {
    "duration": 10,
    "start_time": "2025-02-27T14:49:18.812Z"
   },
   {
    "duration": 99,
    "start_time": "2025-02-27T14:49:23.676Z"
   },
   {
    "duration": 38,
    "start_time": "2025-02-27T14:51:18.355Z"
   },
   {
    "duration": 263,
    "start_time": "2025-02-27T14:51:30.706Z"
   },
   {
    "duration": 40,
    "start_time": "2025-02-27T14:52:28.223Z"
   },
   {
    "duration": 38,
    "start_time": "2025-02-27T14:53:02.802Z"
   },
   {
    "duration": 128,
    "start_time": "2025-02-27T14:53:40.436Z"
   },
   {
    "duration": 118,
    "start_time": "2025-02-27T14:53:56.145Z"
   },
   {
    "duration": 127,
    "start_time": "2025-02-27T14:54:25.552Z"
   },
   {
    "duration": 194,
    "start_time": "2025-02-27T14:55:04.178Z"
   },
   {
    "duration": 131,
    "start_time": "2025-02-27T14:55:18.133Z"
   },
   {
    "duration": 127,
    "start_time": "2025-02-27T14:57:01.650Z"
   },
   {
    "duration": 131,
    "start_time": "2025-02-27T14:57:15.848Z"
   },
   {
    "duration": 131,
    "start_time": "2025-02-27T14:57:23.588Z"
   },
   {
    "duration": 128,
    "start_time": "2025-02-27T14:57:33.601Z"
   },
   {
    "duration": 143,
    "start_time": "2025-02-27T14:58:37.815Z"
   },
   {
    "duration": 527,
    "start_time": "2025-02-27T15:45:53.786Z"
   },
   {
    "duration": 483,
    "start_time": "2025-02-27T15:46:25.968Z"
   },
   {
    "duration": 456,
    "start_time": "2025-02-27T15:46:50.600Z"
   },
   {
    "duration": 448,
    "start_time": "2025-02-27T15:47:16.738Z"
   },
   {
    "duration": 282,
    "start_time": "2025-02-27T16:00:34.552Z"
   },
   {
    "duration": 266,
    "start_time": "2025-02-27T16:00:43.238Z"
   },
   {
    "duration": 16,
    "start_time": "2025-02-27T16:01:13.792Z"
   },
   {
    "duration": 713,
    "start_time": "2025-02-27T16:01:24.313Z"
   },
   {
    "duration": 650,
    "start_time": "2025-02-27T16:02:05.896Z"
   },
   {
    "duration": 4,
    "start_time": "2025-02-27T16:02:31.027Z"
   },
   {
    "duration": 347,
    "start_time": "2025-02-27T16:21:36.343Z"
   },
   {
    "duration": 380,
    "start_time": "2025-02-27T16:22:58.873Z"
   },
   {
    "duration": 358,
    "start_time": "2025-02-27T16:23:53.718Z"
   },
   {
    "duration": 335,
    "start_time": "2025-02-27T16:27:20.087Z"
   },
   {
    "duration": 458,
    "start_time": "2025-02-27T16:30:18.243Z"
   },
   {
    "duration": 448,
    "start_time": "2025-02-27T16:32:35.730Z"
   },
   {
    "duration": 475,
    "start_time": "2025-02-27T16:34:02.106Z"
   },
   {
    "duration": 513,
    "start_time": "2025-02-27T16:34:32.426Z"
   },
   {
    "duration": 477,
    "start_time": "2025-02-27T16:35:05.409Z"
   },
   {
    "duration": 488,
    "start_time": "2025-02-27T16:36:15.520Z"
   },
   {
    "duration": 221,
    "start_time": "2025-02-27T16:36:21.799Z"
   },
   {
    "duration": 464,
    "start_time": "2025-02-27T16:36:59.660Z"
   },
   {
    "duration": 289,
    "start_time": "2025-02-27T16:38:42.670Z"
   },
   {
    "duration": 372,
    "start_time": "2025-02-27T16:39:01.815Z"
   },
   {
    "duration": 419,
    "start_time": "2025-02-27T16:40:37.139Z"
   },
   {
    "duration": 386,
    "start_time": "2025-02-27T16:41:42.869Z"
   },
   {
    "duration": 356,
    "start_time": "2025-02-27T16:41:56.211Z"
   },
   {
    "duration": 394,
    "start_time": "2025-02-27T16:43:28.432Z"
   },
   {
    "duration": 399,
    "start_time": "2025-02-27T16:43:58.316Z"
   },
   {
    "duration": 395,
    "start_time": "2025-02-27T16:44:40.187Z"
   },
   {
    "duration": 401,
    "start_time": "2025-02-27T16:46:12.788Z"
   },
   {
    "duration": 387,
    "start_time": "2025-02-27T17:58:11.442Z"
   },
   {
    "duration": 369,
    "start_time": "2025-02-27T18:02:46.598Z"
   },
   {
    "duration": 244,
    "start_time": "2025-02-27T18:05:57.277Z"
   },
   {
    "duration": 134,
    "start_time": "2025-02-27T18:06:01.565Z"
   },
   {
    "duration": 142,
    "start_time": "2025-02-27T18:08:48.420Z"
   },
   {
    "duration": 43,
    "start_time": "2025-02-27T18:50:24.911Z"
   },
   {
    "duration": 36,
    "start_time": "2025-02-27T18:51:00.421Z"
   },
   {
    "duration": 61,
    "start_time": "2025-02-27T18:52:15.690Z"
   },
   {
    "duration": 64,
    "start_time": "2025-02-27T18:52:31.986Z"
   },
   {
    "duration": 7,
    "start_time": "2025-02-27T18:54:30.244Z"
   },
   {
    "duration": 66,
    "start_time": "2025-02-27T18:55:02.307Z"
   },
   {
    "duration": 191,
    "start_time": "2025-02-27T18:57:22.555Z"
   },
   {
    "duration": 308,
    "start_time": "2025-02-27T19:01:26.410Z"
   },
   {
    "duration": 320,
    "start_time": "2025-02-27T19:02:02.983Z"
   },
   {
    "duration": 313,
    "start_time": "2025-02-27T19:02:22.927Z"
   },
   {
    "duration": 4,
    "start_time": "2025-02-27T19:02:42.543Z"
   },
   {
    "duration": 1194,
    "start_time": "2025-02-27T19:20:15.702Z"
   },
   {
    "duration": 60,
    "start_time": "2025-02-27T19:20:30.958Z"
   },
   {
    "duration": 1182,
    "start_time": "2025-02-27T19:20:38.683Z"
   },
   {
    "duration": 62,
    "start_time": "2025-02-27T19:20:59.027Z"
   },
   {
    "duration": 797,
    "start_time": "2025-02-27T19:23:43.108Z"
   },
   {
    "duration": 148,
    "start_time": "2025-02-27T19:24:03.108Z"
   },
   {
    "duration": 12,
    "start_time": "2025-02-27T19:29:11.305Z"
   },
   {
    "duration": 23,
    "start_time": "2025-02-27T19:31:56.054Z"
   },
   {
    "duration": 22,
    "start_time": "2025-02-27T19:32:13.393Z"
   },
   {
    "duration": 13,
    "start_time": "2025-02-27T19:32:32.328Z"
   },
   {
    "duration": 15,
    "start_time": "2025-02-27T19:34:12.530Z"
   },
   {
    "duration": 7,
    "start_time": "2025-02-27T19:35:33.800Z"
   },
   {
    "duration": 18,
    "start_time": "2025-02-27T19:36:01.342Z"
   },
   {
    "duration": 20,
    "start_time": "2025-02-27T19:38:21.132Z"
   },
   {
    "duration": 29,
    "start_time": "2025-02-27T19:40:22.398Z"
   },
   {
    "duration": 6,
    "start_time": "2025-02-27T19:50:42.649Z"
   },
   {
    "duration": 463,
    "start_time": "2025-02-27T19:50:48.935Z"
   },
   {
    "duration": 636,
    "start_time": "2025-02-27T19:53:48.335Z"
   },
   {
    "duration": 680,
    "start_time": "2025-02-27T19:54:32.153Z"
   },
   {
    "duration": 672,
    "start_time": "2025-02-27T19:58:18.939Z"
   },
   {
    "duration": 673,
    "start_time": "2025-02-27T19:59:35.259Z"
   },
   {
    "duration": 6,
    "start_time": "2025-02-27T20:00:56.675Z"
   },
   {
    "duration": 23,
    "start_time": "2025-02-27T20:01:14.252Z"
   },
   {
    "duration": 1315,
    "start_time": "2025-02-28T14:50:35.322Z"
   },
   {
    "duration": 431,
    "start_time": "2025-02-28T14:52:54.231Z"
   },
   {
    "duration": 37,
    "start_time": "2025-02-28T14:59:05.794Z"
   },
   {
    "duration": 19,
    "start_time": "2025-02-28T15:03:33.419Z"
   },
   {
    "duration": 31,
    "start_time": "2025-02-28T15:04:04.194Z"
   },
   {
    "duration": 28,
    "start_time": "2025-02-28T15:05:18.049Z"
   },
   {
    "duration": 20,
    "start_time": "2025-02-28T15:06:18.249Z"
   },
   {
    "duration": 16,
    "start_time": "2025-02-28T15:09:47.265Z"
   },
   {
    "duration": 13,
    "start_time": "2025-02-28T15:19:12.547Z"
   },
   {
    "duration": 13,
    "start_time": "2025-02-28T15:19:26.419Z"
   },
   {
    "duration": 23,
    "start_time": "2025-02-28T15:20:48.394Z"
   },
   {
    "duration": 15,
    "start_time": "2025-02-28T15:22:09.561Z"
   },
   {
    "duration": 4,
    "start_time": "2025-02-28T15:42:54.531Z"
   },
   {
    "duration": 3,
    "start_time": "2025-02-28T15:42:58.992Z"
   },
   {
    "duration": 5,
    "start_time": "2025-02-28T15:44:13.855Z"
   },
   {
    "duration": 300,
    "start_time": "2025-03-01T09:08:21.960Z"
   },
   {
    "duration": 1033,
    "start_time": "2025-03-01T09:08:22.425Z"
   },
   {
    "duration": 89,
    "start_time": "2025-03-01T09:08:23.460Z"
   },
   {
    "duration": 11,
    "start_time": "2025-03-01T09:08:24.150Z"
   },
   {
    "duration": 9,
    "start_time": "2025-03-01T09:08:24.424Z"
   },
   {
    "duration": 8,
    "start_time": "2025-03-01T09:08:24.939Z"
   },
   {
    "duration": 8,
    "start_time": "2025-03-01T09:08:26.277Z"
   },
   {
    "duration": 175,
    "start_time": "2025-03-01T09:08:52.890Z"
   },
   {
    "duration": 9,
    "start_time": "2025-03-01T09:08:53.460Z"
   },
   {
    "duration": 100,
    "start_time": "2025-03-01T09:08:57.726Z"
   },
   {
    "duration": 78,
    "start_time": "2025-03-01T09:08:57.941Z"
   },
   {
    "duration": 24,
    "start_time": "2025-03-01T09:08:58.190Z"
   },
   {
    "duration": 12,
    "start_time": "2025-03-01T09:09:08.129Z"
   },
   {
    "duration": 3,
    "start_time": "2025-03-01T09:09:08.389Z"
   },
   {
    "duration": 21,
    "start_time": "2025-03-01T09:09:09.021Z"
   },
   {
    "duration": 9,
    "start_time": "2025-03-01T09:09:09.295Z"
   },
   {
    "duration": 4,
    "start_time": "2025-03-01T09:09:21.164Z"
   },
   {
    "duration": 4,
    "start_time": "2025-03-01T09:09:21.397Z"
   },
   {
    "duration": 4,
    "start_time": "2025-03-01T09:09:22.542Z"
   },
   {
    "duration": 4,
    "start_time": "2025-03-01T09:09:22.757Z"
   },
   {
    "duration": 710,
    "start_time": "2025-03-01T09:09:23.390Z"
   },
   {
    "duration": 82,
    "start_time": "2025-03-01T09:09:24.105Z"
   },
   {
    "duration": 5,
    "start_time": "2025-03-01T09:09:34.152Z"
   },
   {
    "duration": 6,
    "start_time": "2025-03-01T09:09:34.634Z"
   },
   {
    "duration": 5,
    "start_time": "2025-03-01T09:09:35.364Z"
   },
   {
    "duration": 7,
    "start_time": "2025-03-01T09:09:36.117Z"
   },
   {
    "duration": 7,
    "start_time": "2025-03-01T09:09:37.521Z"
   },
   {
    "duration": 6,
    "start_time": "2025-03-01T09:09:56.466Z"
   },
   {
    "duration": 7,
    "start_time": "2025-03-01T09:09:56.635Z"
   },
   {
    "duration": 14,
    "start_time": "2025-03-01T09:10:14.876Z"
   },
   {
    "duration": 434,
    "start_time": "2025-03-01T09:10:15.326Z"
   },
   {
    "duration": 13,
    "start_time": "2025-03-01T09:10:16.379Z"
   },
   {
    "duration": 5,
    "start_time": "2025-03-01T09:10:16.907Z"
   },
   {
    "duration": 23,
    "start_time": "2025-03-01T09:11:07.412Z"
   },
   {
    "duration": 43,
    "start_time": "2025-03-01T09:11:13.691Z"
   },
   {
    "duration": 48,
    "start_time": "2025-03-01T09:11:26.070Z"
   },
   {
    "duration": 49,
    "start_time": "2025-03-01T09:11:26.364Z"
   },
   {
    "duration": 2075,
    "start_time": "2025-03-01T09:11:37.230Z"
   },
   {
    "duration": 109,
    "start_time": "2025-03-01T09:11:49.155Z"
   },
   {
    "duration": 156,
    "start_time": "2025-03-01T09:11:59.562Z"
   },
   {
    "duration": 7,
    "start_time": "2025-03-01T09:12:11.763Z"
   },
   {
    "duration": 364,
    "start_time": "2025-03-01T09:12:12.463Z"
   },
   {
    "duration": 10,
    "start_time": "2025-03-01T09:12:14.490Z"
   },
   {
    "duration": 151,
    "start_time": "2025-03-01T09:12:14.761Z"
   },
   {
    "duration": 42,
    "start_time": "2025-03-01T09:12:25.142Z"
   },
   {
    "duration": 134,
    "start_time": "2025-03-01T09:12:25.406Z"
   },
   {
    "duration": 535,
    "start_time": "2025-03-01T09:12:34.254Z"
   },
   {
    "duration": 716,
    "start_time": "2025-03-01T09:12:34.791Z"
   },
   {
    "duration": 3,
    "start_time": "2025-03-01T09:12:35.732Z"
   },
   {
    "duration": 246,
    "start_time": "2025-03-01T09:12:46.500Z"
   },
   {
    "duration": 149,
    "start_time": "2025-03-01T09:12:46.964Z"
   },
   {
    "duration": 142,
    "start_time": "2025-03-01T09:12:49.789Z"
   },
   {
    "duration": 68,
    "start_time": "2025-03-01T09:12:58.386Z"
   },
   {
    "duration": 263,
    "start_time": "2025-03-01T09:12:58.763Z"
   },
   {
    "duration": 383,
    "start_time": "2025-03-01T09:13:00.709Z"
   },
   {
    "duration": 4,
    "start_time": "2025-03-01T09:13:01.374Z"
   },
   {
    "duration": 164,
    "start_time": "2025-03-01T09:13:12.464Z"
   },
   {
    "duration": 16,
    "start_time": "2025-03-01T09:13:12.630Z"
   },
   {
    "duration": 36,
    "start_time": "2025-03-01T09:13:12.789Z"
   },
   {
    "duration": 744,
    "start_time": "2025-03-01T09:13:23.353Z"
   },
   {
    "duration": 25,
    "start_time": "2025-03-01T09:13:24.106Z"
   },
   {
    "duration": 20,
    "start_time": "2025-03-01T09:13:25.446Z"
   },
   {
    "duration": 32,
    "start_time": "2025-03-01T09:13:25.779Z"
   },
   {
    "duration": 16,
    "start_time": "2025-03-01T09:13:27.528Z"
   }
  ],
  "colab": {
   "provenance": []
  },
  "kernelspec": {
   "display_name": "Python 3 (ipykernel)",
   "language": "python",
   "name": "python3"
  },
  "language_info": {
   "codemirror_mode": {
    "name": "ipython",
    "version": 3
   },
   "file_extension": ".py",
   "mimetype": "text/x-python",
   "name": "python",
   "nbconvert_exporter": "python",
   "pygments_lexer": "ipython3",
   "version": "3.9.19"
  },
  "toc": {
   "base_numbering": 1,
   "nav_menu": {},
   "number_sections": true,
   "sideBar": true,
   "skip_h1_title": true,
   "title_cell": "Table of Contents",
   "title_sidebar": "Contents",
   "toc_cell": false,
   "toc_position": {},
   "toc_section_display": true,
   "toc_window_display": false
  },
  "vscode": {
   "interpreter": {
    "hash": "01a7be9ec63e704a62cefc5fe7a4756944464ee731be31632bdf42a4cb4688cf"
   }
  }
 },
 "nbformat": 4,
 "nbformat_minor": 5
}
