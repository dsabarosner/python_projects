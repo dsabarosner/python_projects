{
 "cells": [
  {
   "cell_type": "markdown",
   "metadata": {},
   "source": [
    "# Megaline"
   ]
  },
  {
   "cell_type": "markdown",
   "metadata": {
    "id": "3rYiDeEH0q0f"
   },
   "source": [
    "# ¿Cuál es la mejor tarifa?\n",
    "\n",
    "Trabajas como analista para el operador de telecomunicaciones Megaline. La empresa ofrece a sus clientes dos tarifas de prepago, Surf y Ultimate. El departamento comercial quiere saber cuál de las tarifas genera más ingresos para poder ajustar el presupuesto de publicidad.\n",
    "\n",
    "Vas a realizar un análisis preliminar de las tarifas basado en una selección de clientes relativamente pequeña. Tendrás los datos de 500 clientes de Megaline: quiénes son los clientes, de dónde son, qué tarifa usan, así como la cantidad de llamadas que hicieron y los mensajes de texto que enviaron en 2018. Tu trabajo es analizar el comportamiento de los clientes y determinar qué tarifa de prepago genera más ingresos."
   ]
  },
  {
   "cell_type": "markdown",
   "metadata": {
    "id": "VNddPNRQ0q0w"
   },
   "source": [
    "El propósito del proyecto es determinar cual de las tarifas ofrecidas por la empresa Megaline es más rentable, en función al comportamiento de los clientes considerando pagos mensuales e ingresos adicionales por excedentes. Este análisis permitirá ajustar el presupuesto de publicidad y establecer estratégias de marketing acordes a los resultados obtenidos.\n",
    "\n",
    "Descripción de las tarifas\n",
    "\n",
    "Nota: Megaline redondea los segundos a minutos y los megabytes a gigabytes. Para las llamadas, cada llamada individual se redondea: incluso si la llamada duró solo un segundo, se contará como un minuto. Para el tráfico web, las sesiones web individuales no se redondean. En vez de esto, el total del mes se redondea hacia arriba. Si alguien usa 1025 megabytes este mes, se le cobrarán 2 gigabytes.\n",
    "\n",
    "A continuación puedes ver una descripción de las tarifas:\n",
    "\n",
    "Surf\n",
    "\n",
    "Pago mensual: $20.\n",
    "500 minutos al mes, 50 SMS y 15 GB de datos.\n",
    "Si se exceden los límites del paquete:\n",
    "1 minuto: 3 centavos.\n",
    "1 SMS: 3 centavos.\n",
    "1 GB de datos: $10.\n",
    "\n",
    "Ultimate\n",
    "\n",
    "Pago mensual: $70.\n",
    "3000 minutos al mes, 1000 SMS y 30 GB de datos.\n",
    "Si se exceden los límites del paquete:\n",
    "1 minuto: 1 centavo.\n",
    "1 SMS: 1 centavo.\n",
    "1 GB de datos: $7.\n",
    "\n",
    "Las acciones a realizar son las siguiente:\n",
    "- Cargar las librerías requeridas.\n",
    "- Cargar las bases de datos proporcionadas.\n",
    "- Analizar a fondo las tarifas prepago, identificando los límites de minutos, SMS y datos de cada plan, a fin de conocer la modalidad de cobro de excedentes.\n",
    "- Evaluar la calidad de los datos de los 500 clientes, identificando y corrigiendo posibles inconsistencias como valores ausentes, duplicados y tipos incorrectos de datos.\n",
    "- Calcular los ingresos mensuales y excedentes por cliente.\n",
    "- Comparar los ingresos de la tarifa Surf y Ultimate para determinar cual genera más ingresos fijos y por excedentes.\n",
    "- Realizar pruebas estadísticas para evaluar si la diferencia de ingresos entre los dos planes es significativa. Determinando si efectivamente una tarifa es más rentable que la otra.\n",
    "- Finalmente, establecer las conclusiones en base a los calculos y el análisis estadístico realizados, recomendando los ajustes al presupuesto de publicidad y estrategia de marketing."
   ]
  },
  {
   "cell_type": "markdown",
   "metadata": {
    "id": "MQi4IPy70q0y"
   },
   "source": [
    "## Inicialización"
   ]
  },
  {
   "cell_type": "code",
   "execution_count": 114,
   "metadata": {
    "id": "MtYIuBxu0q0z",
    "trusted": true
   },
   "outputs": [],
   "source": [
    "# Cargar todas las librerías\n",
    "import pandas as pd\n",
    "import numpy as np\n",
    "from matplotlib import pyplot as plt\n",
    "import seaborn as sns\n",
    "from scipy import stats as st\n",
    "import math as mt"
   ]
  },
  {
   "cell_type": "markdown",
   "metadata": {
    "id": "4ysWWC5i0q00"
   },
   "source": [
    "## Cargar datos"
   ]
  },
  {
   "cell_type": "code",
   "execution_count": 115,
   "metadata": {
    "id": "CCqPW7rS0q01",
    "trusted": true
   },
   "outputs": [],
   "source": [
    "# Carga los archivos de datos en diferentes DataFrames\n",
    "users = pd.read_csv('/datasets/megaline_users.csv')\n",
    "calls = pd.read_csv('/datasets/megaline_calls.csv')\n",
    "internet = pd.read_csv('/datasets/megaline_internet.csv')\n",
    "plans = pd.read_csv('/datasets/megaline_plans.csv')\n",
    "messages = pd.read_csv('/datasets/megaline_messages.csv')\n",
    "\n"
   ]
  },
  {
   "cell_type": "markdown",
   "metadata": {
    "id": "69qqoJ3r0q01"
   },
   "source": [
    "## Preparar los datos"
   ]
  },
  {
   "cell_type": "markdown",
   "metadata": {
    "id": "vUuZw80S0q01"
   },
   "source": [
    "Este apartado es primordial para garantizar la calidad de la información para su posterioro análisis. En esta fase, se recopilarán y organizarán los datos de las bases con los información de 500 clientes de Megaline, asegurando que no se tenga inconsistencias ni datos faltantes."
   ]
  },
  {
   "cell_type": "markdown",
   "metadata": {
    "id": "ohBhimvH0q01"
   },
   "source": [
    "## Tarifas"
   ]
  },
  {
   "cell_type": "code",
   "execution_count": 116,
   "metadata": {
    "id": "GptqP3Q40q02",
    "trusted": true
   },
   "outputs": [
    {
     "name": "stdout",
     "output_type": "stream",
     "text": [
      "<class 'pandas.core.frame.DataFrame'>\n",
      "RangeIndex: 2 entries, 0 to 1\n",
      "Data columns (total 8 columns):\n",
      " #   Column                 Non-Null Count  Dtype  \n",
      "---  ------                 --------------  -----  \n",
      " 0   messages_included      2 non-null      int64  \n",
      " 1   mb_per_month_included  2 non-null      int64  \n",
      " 2   minutes_included       2 non-null      int64  \n",
      " 3   usd_monthly_pay        2 non-null      int64  \n",
      " 4   usd_per_gb             2 non-null      int64  \n",
      " 5   usd_per_message        2 non-null      float64\n",
      " 6   usd_per_minute         2 non-null      float64\n",
      " 7   plan_name              2 non-null      object \n",
      "dtypes: float64(2), int64(5), object(1)\n",
      "memory usage: 256.0+ bytes\n"
     ]
    }
   ],
   "source": [
    "# Imprime la información general/resumida sobre el DataFrame de las tarifas\n",
    "plans.info()\n"
   ]
  },
  {
   "cell_type": "code",
   "execution_count": 117,
   "metadata": {
    "id": "64xzjwL70q02",
    "trusted": true
   },
   "outputs": [
    {
     "name": "stdout",
     "output_type": "stream",
     "text": [
      "   messages_included  mb_per_month_included  minutes_included  \\\n",
      "0                 50                  15360               500   \n",
      "1               1000                  30720              3000   \n",
      "\n",
      "   usd_monthly_pay  usd_per_gb  usd_per_message  usd_per_minute plan_name  \n",
      "0               20          10             0.03            0.03      surf  \n",
      "1               70           7             0.01            0.01  ultimate  \n"
     ]
    }
   ],
   "source": [
    "# Imprime una muestra de los datos para las tarifas\n",
    "print(plans.head())\n"
   ]
  },
  {
   "cell_type": "markdown",
   "metadata": {
    "id": "mEc_3_hs0q02"
   },
   "source": [
    "Inicialmente, los datos no parecen presentar ningún problema y no se presentan valores ausentes. La base muestra la cantidad de mensajes, MB y minutos incluidos mensualmente en cada plan, además de los costos mensuales y los costos por excedentes. Es probable que la columna de MB incluidos en cada plan sea un poco confusa ya que las características de los planes incluyen esta información en GB. Es posible que se requiera incluir una columna para convertir los MB a GB."
   ]
  },
  {
   "cell_type": "markdown",
   "metadata": {
    "id": "R3C05i1l0q03"
   },
   "source": [
    "## Corregir datos"
   ]
  },
  {
   "cell_type": "markdown",
   "metadata": {
    "id": "LJir7bml0q03"
   },
   "source": [
    "## Enriquecer los datos"
   ]
  },
  {
   "cell_type": "code",
   "execution_count": 118,
   "metadata": {
    "id": "gfcIEuXV0q04",
    "trusted": true
   },
   "outputs": [
    {
     "name": "stdout",
     "output_type": "stream",
     "text": [
      "   messages_included  mb_per_month_included  minutes_included  \\\n",
      "0                 50                  15360               500   \n",
      "1               1000                  30720              3000   \n",
      "\n",
      "   usd_monthly_pay  usd_per_gb  usd_per_message  usd_per_minute plan_name  \\\n",
      "0               20          10             0.03            0.03      surf   \n",
      "1               70           7             0.01            0.01  ultimate   \n",
      "\n",
      "   gb_per_month_included  \n",
      "0                     15  \n",
      "1                     30  \n"
     ]
    }
   ],
   "source": [
    "plans['gb_per_month_included'] = (plans['mb_per_month_included']/1024).astype('int')\n",
    "print(plans.head())"
   ]
  },
  {
   "cell_type": "markdown",
   "metadata": {
    "id": "1n2X6WXf0q04"
   },
   "source": [
    "## Usuarios/as"
   ]
  },
  {
   "cell_type": "code",
   "execution_count": 119,
   "metadata": {
    "id": "2NgjWFqx0q05",
    "trusted": true
   },
   "outputs": [
    {
     "name": "stdout",
     "output_type": "stream",
     "text": [
      "<class 'pandas.core.frame.DataFrame'>\n",
      "RangeIndex: 500 entries, 0 to 499\n",
      "Data columns (total 8 columns):\n",
      " #   Column      Non-Null Count  Dtype \n",
      "---  ------      --------------  ----- \n",
      " 0   user_id     500 non-null    int64 \n",
      " 1   first_name  500 non-null    object\n",
      " 2   last_name   500 non-null    object\n",
      " 3   age         500 non-null    int64 \n",
      " 4   city        500 non-null    object\n",
      " 5   reg_date    500 non-null    object\n",
      " 6   plan        500 non-null    object\n",
      " 7   churn_date  34 non-null     object\n",
      "dtypes: int64(2), object(6)\n",
      "memory usage: 31.4+ KB\n"
     ]
    }
   ],
   "source": [
    "# Imprime la información general/resumida sobre el DataFrame de usuarios\n",
    "users.info()\n"
   ]
  },
  {
   "cell_type": "code",
   "execution_count": 120,
   "metadata": {
    "id": "1IN1L9uh0q05",
    "trusted": true
   },
   "outputs": [
    {
     "name": "stdout",
     "output_type": "stream",
     "text": [
      "   user_id first_name  last_name  age                                   city  \\\n",
      "0     1000   Anamaria      Bauer   45  Atlanta-Sandy Springs-Roswell, GA MSA   \n",
      "1     1001     Mickey  Wilkerson   28        Seattle-Tacoma-Bellevue, WA MSA   \n",
      "2     1002     Carlee    Hoffman   36   Las Vegas-Henderson-Paradise, NV MSA   \n",
      "3     1003   Reynaldo    Jenkins   52                          Tulsa, OK MSA   \n",
      "4     1004    Leonila   Thompson   40        Seattle-Tacoma-Bellevue, WA MSA   \n",
      "\n",
      "     reg_date      plan churn_date  \n",
      "0  2018-12-24  ultimate        NaN  \n",
      "1  2018-08-13      surf        NaN  \n",
      "2  2018-10-21      surf        NaN  \n",
      "3  2018-01-28      surf        NaN  \n",
      "4  2018-05-23      surf        NaN  \n"
     ]
    }
   ],
   "source": [
    "# Imprime una muestra de datos para usuarios\n",
    "print(users.head())\n"
   ]
  },
  {
   "cell_type": "markdown",
   "metadata": {
    "id": "dCZoUq4f0q06"
   },
   "source": [
    "La base de datos de usuarios contiene información de 500 clientes usuarios de los planes de Megaline, incluyendo id, nombre, apellido, edad, ciudad, fecha de registro, plan prepago y fecha en la que el usuario dio de baja el plan. Es evidente que la columna churn_date presenta la mayoría de valores nulos, con solo 34 valores registrados, esto puede deberse a que los usuarios seleccionados no cancelaron su suscripción al plan. Adicionalmente, las columnas de fechas se presentan como object, por lo que se debe considerar cambiar a un formato datetime. \n"
   ]
  },
  {
   "cell_type": "markdown",
   "metadata": {
    "id": "BX5FQh_I0q06"
   },
   "source": [
    "### Corregir los datos"
   ]
  },
  {
   "cell_type": "code",
   "execution_count": 121,
   "metadata": {
    "id": "yUqX-K0C0q07",
    "trusted": true
   },
   "outputs": [
    {
     "name": "stdout",
     "output_type": "stream",
     "text": [
      "<class 'pandas.core.frame.DataFrame'>\n",
      "RangeIndex: 500 entries, 0 to 499\n",
      "Data columns (total 8 columns):\n",
      " #   Column      Non-Null Count  Dtype         \n",
      "---  ------      --------------  -----         \n",
      " 0   user_id     500 non-null    int64         \n",
      " 1   first_name  500 non-null    object        \n",
      " 2   last_name   500 non-null    object        \n",
      " 3   age         500 non-null    int64         \n",
      " 4   city        500 non-null    object        \n",
      " 5   reg_date    500 non-null    datetime64[ns]\n",
      " 6   plan        500 non-null    object        \n",
      " 7   churn_date  34 non-null     datetime64[ns]\n",
      "dtypes: datetime64[ns](2), int64(2), object(4)\n",
      "memory usage: 31.4+ KB\n"
     ]
    }
   ],
   "source": [
    "users['reg_date'] = pd.to_datetime(users['reg_date'], format='%Y-%m-%d')\n",
    "users['churn_date'] = pd.to_datetime(users['churn_date'], format='%Y-%m-%d')\n",
    "users.info()"
   ]
  },
  {
   "cell_type": "markdown",
   "metadata": {
    "id": "ycwuARJp0q07"
   },
   "source": [
    "### Enriquecer los datos"
   ]
  },
  {
   "cell_type": "code",
   "execution_count": 122,
   "metadata": {
    "id": "iq0AaBS90q08",
    "trusted": true
   },
   "outputs": [
    {
     "name": "stdout",
     "output_type": "stream",
     "text": [
      "    user_id first_name last_name  age  \\\n",
      "6      1006     Jesusa  Bradford   73   \n",
      "12     1012    Jonelle   Mcbride   59   \n",
      "22     1022         Bo      Snow   73   \n",
      "40     1040      Paris    Santos   72   \n",
      "50     1050       Jone      Owen   23   \n",
      "\n",
      "                                               city   reg_date      plan  \\\n",
      "6            San Francisco-Oakland-Berkeley, CA MSA 2018-11-27  ultimate   \n",
      "12           Chicago-Naperville-Elgin, IL-IN-WI MSA 2018-06-28      surf   \n",
      "22        New York-Newark-Jersey City, NY-NJ-PA MSA 2018-04-20      surf   \n",
      "40  Philadelphia-Camden-Wilmington, PA-NJ-DE-MD MSA 2018-12-23      surf   \n",
      "50    Miami-Fort Lauderdale-West Palm Beach, FL MSA 2018-03-20  ultimate   \n",
      "\n",
      "   churn_date active_time  \n",
      "6  2018-12-18     21 days  \n",
      "12 2018-11-16    141 days  \n",
      "22 2018-09-07    140 days  \n",
      "40 2018-12-30      7 days  \n",
      "50 2018-10-07    201 days  \n"
     ]
    }
   ],
   "source": [
    "users['active_time'] = users['churn_date'] - users['reg_date']\n",
    "print(users[users['active_time'].notna()].head())"
   ]
  },
  {
   "cell_type": "markdown",
   "metadata": {
    "id": "o7MeKCid0q08"
   },
   "source": [
    "## Llamadas"
   ]
  },
  {
   "cell_type": "code",
   "execution_count": 123,
   "metadata": {
    "id": "6dDlnoDm0q08",
    "trusted": true
   },
   "outputs": [
    {
     "name": "stdout",
     "output_type": "stream",
     "text": [
      "<class 'pandas.core.frame.DataFrame'>\n",
      "RangeIndex: 137735 entries, 0 to 137734\n",
      "Data columns (total 4 columns):\n",
      " #   Column     Non-Null Count   Dtype  \n",
      "---  ------     --------------   -----  \n",
      " 0   id         137735 non-null  object \n",
      " 1   user_id    137735 non-null  int64  \n",
      " 2   call_date  137735 non-null  object \n",
      " 3   duration   137735 non-null  float64\n",
      "dtypes: float64(1), int64(1), object(2)\n",
      "memory usage: 4.2+ MB\n"
     ]
    },
    {
     "data": {
      "text/html": [
       "<div>\n",
       "<style scoped>\n",
       "    .dataframe tbody tr th:only-of-type {\n",
       "        vertical-align: middle;\n",
       "    }\n",
       "\n",
       "    .dataframe tbody tr th {\n",
       "        vertical-align: top;\n",
       "    }\n",
       "\n",
       "    .dataframe thead th {\n",
       "        text-align: right;\n",
       "    }\n",
       "</style>\n",
       "<table border=\"1\" class=\"dataframe\">\n",
       "  <thead>\n",
       "    <tr style=\"text-align: right;\">\n",
       "      <th></th>\n",
       "      <th>user_id</th>\n",
       "      <th>duration</th>\n",
       "    </tr>\n",
       "  </thead>\n",
       "  <tbody>\n",
       "    <tr>\n",
       "      <th>count</th>\n",
       "      <td>137735.000000</td>\n",
       "      <td>137735.000000</td>\n",
       "    </tr>\n",
       "    <tr>\n",
       "      <th>mean</th>\n",
       "      <td>1247.658046</td>\n",
       "      <td>6.745927</td>\n",
       "    </tr>\n",
       "    <tr>\n",
       "      <th>std</th>\n",
       "      <td>139.416268</td>\n",
       "      <td>5.839241</td>\n",
       "    </tr>\n",
       "    <tr>\n",
       "      <th>min</th>\n",
       "      <td>1000.000000</td>\n",
       "      <td>0.000000</td>\n",
       "    </tr>\n",
       "    <tr>\n",
       "      <th>25%</th>\n",
       "      <td>1128.000000</td>\n",
       "      <td>1.290000</td>\n",
       "    </tr>\n",
       "    <tr>\n",
       "      <th>50%</th>\n",
       "      <td>1247.000000</td>\n",
       "      <td>5.980000</td>\n",
       "    </tr>\n",
       "    <tr>\n",
       "      <th>75%</th>\n",
       "      <td>1365.000000</td>\n",
       "      <td>10.690000</td>\n",
       "    </tr>\n",
       "    <tr>\n",
       "      <th>max</th>\n",
       "      <td>1499.000000</td>\n",
       "      <td>37.600000</td>\n",
       "    </tr>\n",
       "  </tbody>\n",
       "</table>\n",
       "</div>"
      ],
      "text/plain": [
       "             user_id       duration\n",
       "count  137735.000000  137735.000000\n",
       "mean     1247.658046       6.745927\n",
       "std       139.416268       5.839241\n",
       "min      1000.000000       0.000000\n",
       "25%      1128.000000       1.290000\n",
       "50%      1247.000000       5.980000\n",
       "75%      1365.000000      10.690000\n",
       "max      1499.000000      37.600000"
      ]
     },
     "execution_count": 123,
     "metadata": {},
     "output_type": "execute_result"
    }
   ],
   "source": [
    "# Imprime la información general/resumida sobre el DataFrame de las llamadas\n",
    "calls.info()\n",
    "calls.describe()"
   ]
  },
  {
   "cell_type": "code",
   "execution_count": 124,
   "metadata": {
    "id": "kuh1vlNB0q09",
    "trusted": true
   },
   "outputs": [
    {
     "name": "stdout",
     "output_type": "stream",
     "text": [
      "         id  user_id   call_date  duration\n",
      "0   1000_93     1000  2018-12-27      8.52\n",
      "1  1000_145     1000  2018-12-27     13.66\n",
      "2  1000_247     1000  2018-12-27     14.48\n",
      "3  1000_309     1000  2018-12-28      5.76\n",
      "4  1000_380     1000  2018-12-30      4.22\n"
     ]
    }
   ],
   "source": [
    "# Imprime una muestra de datos para las llamadas\n",
    "print(calls.head())\n"
   ]
  },
  {
   "cell_type": "markdown",
   "metadata": {
    "id": "DOAxYJSx0q09"
   },
   "source": [
    "La muestra de datos para las llamadas contiene 137735 registros sin valores ausentes. Esta base de datos contiene información relacionada con el id de la llamada en un formato object que es correcto porque contiene valores alfanuméricos, el id de usuario, la duración de la llamada en minutos y la fecha de la llamada. Esta última se presenta como objeto y sería útil convertirla a un formato datetime para posteriores análisis. Por otra parte, ya que las tarifas son mensuales, es necesario crear una columna con el mes de los registros para tener conocimiento de los minutos por mes."
   ]
  },
  {
   "cell_type": "markdown",
   "metadata": {
    "id": "S7hzxmbX0q0-"
   },
   "source": [
    "### Corregir los datos"
   ]
  },
  {
   "cell_type": "code",
   "execution_count": 148,
   "metadata": {
    "id": "S2r8xA4f0q0-",
    "trusted": true
   },
   "outputs": [],
   "source": [
    "calls['call_date'] = pd.to_datetime(calls['call_date'], format='%Y-%m-%d')"
   ]
  },
  {
   "cell_type": "markdown",
   "metadata": {
    "id": "KrMgTrlG0q0_"
   },
   "source": [
    "### Enriquecer los datos"
   ]
  },
  {
   "cell_type": "code",
   "execution_count": 126,
   "metadata": {
    "id": "iZ1avpA_0q0_",
    "trusted": true
   },
   "outputs": [],
   "source": [
    "calls['month'] = calls['call_date'].dt.month"
   ]
  },
  {
   "cell_type": "markdown",
   "metadata": {},
   "source": [
    "Se observa que existen usuarios con 0 minutos de duración de llamadas lo que indica que no realizan ninguna llamada en el mes y usuarios que llegan a llamadas de 37.6 minutos de duración"
   ]
  },
  {
   "cell_type": "markdown",
   "metadata": {
    "id": "mOUZSi180q0_"
   },
   "source": [
    "## Mensajes"
   ]
  },
  {
   "cell_type": "code",
   "execution_count": 78,
   "metadata": {
    "id": "R-bYJpdV0q1A",
    "trusted": true
   },
   "outputs": [
    {
     "name": "stdout",
     "output_type": "stream",
     "text": [
      "<class 'pandas.core.frame.DataFrame'>\n",
      "RangeIndex: 76051 entries, 0 to 76050\n",
      "Data columns (total 3 columns):\n",
      " #   Column        Non-Null Count  Dtype \n",
      "---  ------        --------------  ----- \n",
      " 0   id            76051 non-null  object\n",
      " 1   user_id       76051 non-null  int64 \n",
      " 2   message_date  76051 non-null  object\n",
      "dtypes: int64(1), object(2)\n",
      "memory usage: 1.7+ MB\n"
     ]
    }
   ],
   "source": [
    "# Imprime la información general/resumida sobre el DataFrame de los mensajes\n",
    "\n",
    "messages.info()"
   ]
  },
  {
   "cell_type": "code",
   "execution_count": 79,
   "metadata": {
    "id": "mCEl2iGE0q1A",
    "trusted": true
   },
   "outputs": [
    {
     "name": "stdout",
     "output_type": "stream",
     "text": [
      "         id  user_id message_date\n",
      "0  1000_125     1000   2018-12-27\n",
      "1  1000_160     1000   2018-12-31\n",
      "2  1000_223     1000   2018-12-31\n",
      "3  1000_251     1000   2018-12-27\n",
      "4  1000_255     1000   2018-12-26\n"
     ]
    }
   ],
   "source": [
    "# Imprime una muestra de datos para los mensajes\n",
    "\n",
    "print(messages.head())"
   ]
  },
  {
   "cell_type": "markdown",
   "metadata": {
    "id": "04xDj7KH0q1A"
   },
   "source": [
    "La base de datos de mensajes contiene las columnas de id de mensaje, id de usuario y fecha de mensaje, no contiene datos nulos, sin embargo, la fecha se presenta como objeto y sería útil cambiarla a un formato datetime para futuros análisis. Al igual que en las llamadas, se requiere crear una columna de mes del mensaje a fin de conocer la cantidad de mensajes por mes."
   ]
  },
  {
   "cell_type": "markdown",
   "metadata": {
    "id": "Sprfak900q1B"
   },
   "source": [
    "### Corregir los datos"
   ]
  },
  {
   "cell_type": "code",
   "execution_count": 149,
   "metadata": {
    "id": "vsllvkoa0q1B",
    "trusted": true
   },
   "outputs": [],
   "source": [
    "messages['message_date'] = pd.to_datetime(messages['message_date'], format='%Y-%m-%d')"
   ]
  },
  {
   "cell_type": "markdown",
   "metadata": {
    "id": "HvLid7iD0q1B"
   },
   "source": [
    "### Enriquecer los datos"
   ]
  },
  {
   "cell_type": "code",
   "execution_count": 150,
   "metadata": {
    "id": "zYEXZac10q1C",
    "trusted": true
   },
   "outputs": [],
   "source": [
    "messages['month'] = messages['message_date'].dt.month"
   ]
  },
  {
   "cell_type": "markdown",
   "metadata": {
    "id": "bStkaxn40q1C"
   },
   "source": [
    "## Internet"
   ]
  },
  {
   "cell_type": "code",
   "execution_count": 82,
   "metadata": {
    "id": "e-Uz5qyn0q1C",
    "trusted": true
   },
   "outputs": [
    {
     "name": "stdout",
     "output_type": "stream",
     "text": [
      "<class 'pandas.core.frame.DataFrame'>\n",
      "RangeIndex: 104825 entries, 0 to 104824\n",
      "Data columns (total 4 columns):\n",
      " #   Column        Non-Null Count   Dtype  \n",
      "---  ------        --------------   -----  \n",
      " 0   id            104825 non-null  object \n",
      " 1   user_id       104825 non-null  int64  \n",
      " 2   session_date  104825 non-null  object \n",
      " 3   mb_used       104825 non-null  float64\n",
      "dtypes: float64(1), int64(1), object(2)\n",
      "memory usage: 3.2+ MB\n"
     ]
    }
   ],
   "source": [
    "# Imprime la información general/resumida sobre el DataFrame de internet\n",
    "internet.info()\n"
   ]
  },
  {
   "cell_type": "code",
   "execution_count": 83,
   "metadata": {
    "id": "9r3x_XLw0q1C",
    "trusted": true
   },
   "outputs": [
    {
     "name": "stdout",
     "output_type": "stream",
     "text": [
      "         id  user_id session_date  mb_used\n",
      "0   1000_13     1000   2018-12-29    89.86\n",
      "1  1000_204     1000   2018-12-31     0.00\n",
      "2  1000_379     1000   2018-12-28   660.40\n",
      "3  1000_413     1000   2018-12-26   270.99\n",
      "4  1000_442     1000   2018-12-27   880.22\n"
     ]
    }
   ],
   "source": [
    "# Imprime una muestra de datos para el tráfico de internet\n",
    "print(internet.head())\n"
   ]
  },
  {
   "cell_type": "markdown",
   "metadata": {
    "id": "EzOG5ik30q1D"
   },
   "source": [
    "La base de datos de internet contiene 104825 registros, cuenta con cuatro columnas correspondientes al id de sesión de internet, id de usuario, fecha de la sesión y los MB usados. Todas las columnas presentan los datos completos. Los formatos de las columnas son correctos, a excepción de la fecha de sesión que se presenta como objeto y se podría cambiar a un formato datetime. Asimismo, es posible crear una nueva columna para obtener el mes de sesión, a fin de conocer el uso de datos mensual. Posteriormente, al agrupar los datos por mes debemos transformar el consumo de mb a gb y hacer un redondeo superior, ya que el consumo extra se cobra como un gb extra."
   ]
  },
  {
   "cell_type": "markdown",
   "metadata": {
    "id": "yA0tkPFg0q1D"
   },
   "source": [
    "### Corregir los datos"
   ]
  },
  {
   "cell_type": "code",
   "execution_count": 151,
   "metadata": {
    "id": "zVeanzdd0q1E",
    "trusted": true
   },
   "outputs": [],
   "source": [
    "internet['session_date'] = pd.to_datetime(internet['session_date'], format='%Y-%m-%d')"
   ]
  },
  {
   "cell_type": "markdown",
   "metadata": {
    "id": "e8_mLF4a0q1E"
   },
   "source": [
    "### Enriquecer los datos"
   ]
  },
  {
   "cell_type": "code",
   "execution_count": 152,
   "metadata": {
    "id": "ESiYPIEK0q1E",
    "trusted": true
   },
   "outputs": [],
   "source": [
    "internet['month'] = internet['session_date'].dt.month"
   ]
  },
  {
   "cell_type": "markdown",
   "metadata": {
    "id": "3UA2cqIW0q1E"
   },
   "source": [
    "## Estudiar las condiciones de las tarifas"
   ]
  },
  {
   "cell_type": "code",
   "execution_count": 86,
   "metadata": {
    "id": "i409op8p0q1F",
    "trusted": true
   },
   "outputs": [
    {
     "name": "stdout",
     "output_type": "stream",
     "text": [
      "   messages_included  mb_per_month_included  minutes_included  \\\n",
      "0                 50                  15360               500   \n",
      "1               1000                  30720              3000   \n",
      "\n",
      "   usd_monthly_pay  usd_per_gb  usd_per_message  usd_per_minute plan_name  \\\n",
      "0               20          10             0.03            0.03      surf   \n",
      "1               70           7             0.01            0.01  ultimate   \n",
      "\n",
      "   gb_per_month_included  \n",
      "0                     15  \n",
      "1                     30  \n"
     ]
    }
   ],
   "source": [
    "# Imprime las condiciones de la tarifa y asegúrate de que te quedan claras\n",
    "print(plans.head())\n"
   ]
  },
  {
   "cell_type": "markdown",
   "metadata": {
    "id": "hMR1tP5d0q1F"
   },
   "source": [
    "## Agregar datos por usuario\n",
    "\n"
   ]
  },
  {
   "cell_type": "code",
   "execution_count": 87,
   "metadata": {
    "id": "A332cedB0q1G",
    "trusted": true
   },
   "outputs": [
    {
     "name": "stdout",
     "output_type": "stream",
     "text": [
      "   user_id  month  calls\n",
      "0     1000     12     16\n",
      "1     1001      8     27\n",
      "2     1001      9     49\n",
      "3     1001     10     65\n",
      "4     1001     11     64\n",
      "5     1001     12     56\n",
      "6     1002     10     11\n",
      "7     1002     11     55\n",
      "8     1002     12     47\n",
      "9     1003     12    149\n",
      "   user_id                                   city plan_name  month  calls\n",
      "0     1000  Atlanta-Sandy Springs-Roswell, GA MSA  ultimate     12     16\n",
      "1     1001        Seattle-Tacoma-Bellevue, WA MSA      surf      8     27\n",
      "2     1001        Seattle-Tacoma-Bellevue, WA MSA      surf      9     49\n",
      "3     1001        Seattle-Tacoma-Bellevue, WA MSA      surf     10     65\n",
      "4     1001        Seattle-Tacoma-Bellevue, WA MSA      surf     11     64\n"
     ]
    }
   ],
   "source": [
    "# Calcula el número de llamadas hechas por cada usuario al mes. Guarda el resultado.\n",
    "calls_per_user = calls.groupby(['user_id', 'month'])['id'].count().rename('calls').reset_index()\n",
    "print(calls_per_user.head(10))\n",
    "user_plan = users[['user_id', 'city', 'plan']]\n",
    "calls_per_user = user_plan.merge(calls_per_user, on='user_id', how='right')\n",
    "calls_per_user.rename(columns={'plan':'plan_name'}, inplace=True)\n",
    "print(calls_per_user.head())"
   ]
  },
  {
   "cell_type": "code",
   "execution_count": 88,
   "metadata": {
    "id": "aw2cmuql0q1G",
    "trusted": true
   },
   "outputs": [
    {
     "name": "stdout",
     "output_type": "stream",
     "text": [
      "   user_id  month  call_duration\n",
      "0     1000     12         116.83\n",
      "1     1001      8         171.14\n",
      "2     1001      9         297.69\n",
      "3     1001     10         374.11\n",
      "4     1001     11         404.59\n",
      "5     1001     12         392.93\n",
      "6     1002     10          54.13\n",
      "7     1002     11         359.76\n",
      "8     1002     12         363.24\n",
      "9     1003     12        1041.00\n"
     ]
    }
   ],
   "source": [
    "# Calcula la cantidad de minutos usados por cada usuario al mes. Guarda el resultado.\n",
    "minutes_per_user = calls.groupby(['user_id', 'month'])['duration'].sum().rename('call_duration').reset_index()\n",
    "print(minutes_per_user.head(10))\n"
   ]
  },
  {
   "cell_type": "code",
   "execution_count": 89,
   "metadata": {
    "id": "CcQvNHn60q1G",
    "trusted": true
   },
   "outputs": [
    {
     "name": "stdout",
     "output_type": "stream",
     "text": [
      "   user_id  month  messages\n",
      "0     1000     12        11\n",
      "1     1001      8        30\n",
      "2     1001      9        44\n",
      "3     1001     10        53\n",
      "4     1001     11        36\n",
      "5     1001     12        44\n",
      "6     1002     10        15\n",
      "7     1002     11        32\n",
      "8     1002     12        41\n",
      "9     1003     12        50\n"
     ]
    }
   ],
   "source": [
    "# Calcula el número de mensajes enviados por cada usuario al mes. Guarda el resultado.\n",
    "messages_per_user = messages.groupby(['user_id', 'month'])['id'].count().rename('messages').reset_index()\n",
    "print(messages_per_user.head(10))"
   ]
  },
  {
   "cell_type": "code",
   "execution_count": 90,
   "metadata": {
    "id": "H1AqN2eG0q1H",
    "trusted": true
   },
   "outputs": [
    {
     "name": "stdout",
     "output_type": "stream",
     "text": [
      "   user_id  month   mb_used\n",
      "0     1000     12   1901.47\n",
      "1     1001      8   6919.15\n",
      "2     1001      9  13314.82\n",
      "3     1001     10  22330.49\n",
      "4     1001     11  18504.30\n"
     ]
    }
   ],
   "source": [
    "# Calcula el volumen del tráfico de Internet usado por cada usuario al mes. Guarda el resultado.\n",
    "internet_per_user = internet.groupby(['user_id', 'month'])['mb_used'].sum().reset_index()\n",
    "print(internet_per_user.head())"
   ]
  },
  {
   "cell_type": "code",
   "execution_count": 91,
   "metadata": {
    "id": "FW99ykyf0q1H",
    "trusted": true
   },
   "outputs": [
    {
     "name": "stdout",
     "output_type": "stream",
     "text": [
      "   user_id                                   city plan_name  month  calls  \\\n",
      "0     1000  Atlanta-Sandy Springs-Roswell, GA MSA  ultimate     12   16.0   \n",
      "1     1001        Seattle-Tacoma-Bellevue, WA MSA      surf      8   27.0   \n",
      "2     1001        Seattle-Tacoma-Bellevue, WA MSA      surf      9   49.0   \n",
      "3     1001        Seattle-Tacoma-Bellevue, WA MSA      surf     10   65.0   \n",
      "4     1001        Seattle-Tacoma-Bellevue, WA MSA      surf     11   64.0   \n",
      "\n",
      "   call_duration  messages   mb_used  \n",
      "0         116.83      11.0   1901.47  \n",
      "1         171.14      30.0   6919.15  \n",
      "2         297.69      44.0  13314.82  \n",
      "3         374.11      53.0  22330.49  \n",
      "4         404.59      36.0  18504.30  \n"
     ]
    }
   ],
   "source": [
    "# Fusiona los datos de llamadas, minutos, mensajes e Internet con base en user_id y month\n",
    "usage_per_user = calls_per_user.merge(minutes_per_user, on=['user_id', 'month'], how='outer')\n",
    "usage_per_user = usage_per_user.merge(messages_per_user, on=['user_id', 'month'], how='outer')\n",
    "usage_per_user = usage_per_user.merge(internet_per_user, on=['user_id', 'month'], how='outer')\n",
    "\n",
    "print(usage_per_user.head())\n"
   ]
  },
  {
   "cell_type": "code",
   "execution_count": 92,
   "metadata": {
    "id": "0dNOXHag0q1H",
    "trusted": true
   },
   "outputs": [
    {
     "name": "stdout",
     "output_type": "stream",
     "text": [
      "   user_id                                   city plan_name  month  calls  \\\n",
      "0     1000  Atlanta-Sandy Springs-Roswell, GA MSA  ultimate     12   16.0   \n",
      "1     1001        Seattle-Tacoma-Bellevue, WA MSA      surf      8   27.0   \n",
      "2     1001        Seattle-Tacoma-Bellevue, WA MSA      surf      9   49.0   \n",
      "3     1001        Seattle-Tacoma-Bellevue, WA MSA      surf     10   65.0   \n",
      "4     1001        Seattle-Tacoma-Bellevue, WA MSA      surf     11   64.0   \n",
      "\n",
      "   call_duration  messages   mb_used  messages_included  \\\n",
      "0         116.83      11.0   1901.47             1000.0   \n",
      "1         171.14      30.0   6919.15               50.0   \n",
      "2         297.69      44.0  13314.82               50.0   \n",
      "3         374.11      53.0  22330.49               50.0   \n",
      "4         404.59      36.0  18504.30               50.0   \n",
      "\n",
      "   mb_per_month_included  minutes_included  usd_monthly_pay  usd_per_gb  \\\n",
      "0                30720.0            3000.0             70.0         7.0   \n",
      "1                15360.0             500.0             20.0        10.0   \n",
      "2                15360.0             500.0             20.0        10.0   \n",
      "3                15360.0             500.0             20.0        10.0   \n",
      "4                15360.0             500.0             20.0        10.0   \n",
      "\n",
      "   usd_per_message  usd_per_minute  gb_per_month_included  \n",
      "0             0.01            0.01                   30.0  \n",
      "1             0.03            0.03                   15.0  \n",
      "2             0.03            0.03                   15.0  \n",
      "3             0.03            0.03                   15.0  \n",
      "4             0.03            0.03                   15.0  \n"
     ]
    }
   ],
   "source": [
    "# Añade la información de la tarifa\n",
    "total_usage_per_user = usage_per_user.merge(plans, on='plan_name', how='left')\n",
    "print(total_usage_per_user.head())"
   ]
  },
  {
   "cell_type": "markdown",
   "metadata": {
    "id": "1IwGo4wg0q1I"
   },
   "source": [
    "[Calcula los ingresos mensuales por usuario (resta el límite del paquete gratuito del número total de llamadas, mensajes de texto y datos; multiplica el resultado por el valor del plan de llamadas; añade la tarifa mensual en función del plan de llamadas). Nota: Dadas las condiciones del plan, ¡esto podría no ser tan trivial como un par de líneas! Así que no pasa nada si dedicas algo de tiempo a ello.]"
   ]
  },
  {
   "cell_type": "code",
   "execution_count": 130,
   "metadata": {
    "id": "5FGCf_c60q1I",
    "trusted": true
   },
   "outputs": [
    {
     "name": "stdout",
     "output_type": "stream",
     "text": [
      "   user_id                                   city plan_name  month  calls  \\\n",
      "0     1000  Atlanta-Sandy Springs-Roswell, GA MSA  ultimate     12   16.0   \n",
      "1     1001        Seattle-Tacoma-Bellevue, WA MSA      surf      8   27.0   \n",
      "2     1001        Seattle-Tacoma-Bellevue, WA MSA      surf      9   49.0   \n",
      "3     1001        Seattle-Tacoma-Bellevue, WA MSA      surf     10   65.0   \n",
      "4     1001        Seattle-Tacoma-Bellevue, WA MSA      surf     11   64.0   \n",
      "\n",
      "   call_duration  messages   mb_used  messages_included  \\\n",
      "0         116.83      11.0   1901.47             1000.0   \n",
      "1         171.14      30.0   6919.15               50.0   \n",
      "2         297.69      44.0  13314.82               50.0   \n",
      "3         374.11      53.0  22330.49               50.0   \n",
      "4         404.59      36.0  18504.30               50.0   \n",
      "\n",
      "   mb_per_month_included  ...  usd_per_gb  usd_per_message  usd_per_minute  \\\n",
      "0                30720.0  ...         7.0             0.01            0.01   \n",
      "1                15360.0  ...        10.0             0.03            0.03   \n",
      "2                15360.0  ...        10.0             0.03            0.03   \n",
      "3                15360.0  ...        10.0             0.03            0.03   \n",
      "4                15360.0  ...        10.0             0.03            0.03   \n",
      "\n",
      "   gb_per_month_included  extra_minutes  extra_messages  extra_mb  extra_gb  \\\n",
      "0                   30.0            0.0             0.0      0.00       0.0   \n",
      "1                   15.0            0.0             0.0      0.00       0.0   \n",
      "2                   15.0            0.0             0.0      0.00       0.0   \n",
      "3                   15.0            0.0             3.0   6970.49       7.0   \n",
      "4                   15.0            0.0             0.0   3144.30       4.0   \n",
      "\n",
      "   extra_income  total_income  \n",
      "0          0.00         70.00  \n",
      "1          0.00         20.00  \n",
      "2          0.00         20.00  \n",
      "3         70.09         90.09  \n",
      "4         40.00         60.00  \n",
      "\n",
      "[5 rows x 22 columns]\n"
     ]
    }
   ],
   "source": [
    "# Calcula el ingreso mensual para cada usuario\n",
    "total_usage_per_user['extra_minutes'] = (np.ceil(total_usage_per_user['call_duration']) - total_usage_per_user['minutes_included']).clip(lower=0)\n",
    "total_usage_per_user['extra_messages'] = (total_usage_per_user['messages'] - total_usage_per_user['messages_included']).clip(lower=0)\n",
    "total_usage_per_user['extra_mb'] = (total_usage_per_user['mb_used'] - total_usage_per_user['mb_per_month_included']).clip(lower=0)\n",
    "total_usage_per_user['extra_gb'] = np.ceil(total_usage_per_user['extra_mb']/1024)\n",
    "total_usage_per_user['extra_income'] = (total_usage_per_user['extra_minutes'] * total_usage_per_user['usd_per_minute']) + (total_usage_per_user['extra_messages'] * total_usage_per_user['usd_per_message']) + (total_usage_per_user['extra_gb'] * total_usage_per_user['usd_per_gb'])\n",
    "total_usage_per_user['total_income'] = (total_usage_per_user['usd_monthly_pay'] + total_usage_per_user['extra_income'])\n",
    "print(total_usage_per_user.head())"
   ]
  },
  {
   "cell_type": "markdown",
   "metadata": {
    "id": "-jtyHzJb0q1I"
   },
   "source": [
    "## Estudia el comportamiento de usuario"
   ]
  },
  {
   "cell_type": "markdown",
   "metadata": {
    "id": "vtW4CJEe0q1J"
   },
   "source": [
    "### Llamadas"
   ]
  },
  {
   "cell_type": "code",
   "execution_count": 131,
   "metadata": {
    "id": "Jf5v5--k0q1J",
    "trusted": true
   },
   "outputs": [
    {
     "name": "stdout",
     "output_type": "stream",
     "text": [
      "  plan_name  month  call_duration\n",
      "0      surf      1     192.840000\n",
      "1      surf      2     280.851111\n",
      "2      surf      3     310.970000\n",
      "3      surf      4     332.380000\n",
      "4      surf      5     387.108000\n",
      "plan_name        surf    ultimate\n",
      "month                            \n",
      "1          192.840000  183.162500\n",
      "2          280.851111  443.171667\n",
      "3          310.970000  285.701667\n",
      "4          332.380000  316.508095\n",
      "5          387.108000  383.664828\n"
     ]
    },
    {
     "data": {
      "image/png": "[encoded data removed]",
      "text/plain": [
       "<Figure size 640x480 with 1 Axes>"
      ]
     },
     "metadata": {},
     "output_type": "display_data"
    }
   ],
   "source": [
    "# Compara la duración promedio de llamadas por cada plan y por cada mes. Traza un gráfico de barras para visualizarla.\n",
    "avg_call_duration = total_usage_per_user.groupby(['plan_name', 'month'])['call_duration'].mean().reset_index()\n",
    "print(avg_call_duration.head())\n",
    "avg_pivot_calls = avg_call_duration.pivot(index='month', columns='plan_name', values='call_duration')\n",
    "print(avg_pivot_calls.head())\n",
    "avg_pivot_calls.plot(kind='bar', \n",
    "                       title = 'Duración promedio de llamadas por plan cada mes',\n",
    "                       xlabel = 'Mes',\n",
    "                       ylabel = 'Duración en minutos'\n",
    "                      )\n",
    "plt.legend(['Surf', 'Ultimate'])\n",
    "plt.show()"
   ]
  },
  {
   "cell_type": "code",
   "execution_count": 132,
   "metadata": {
    "id": "QoLqW1S_0q1J",
    "trusted": true
   },
   "outputs": [
    {
     "name": "stdout",
     "output_type": "stream",
     "text": [
      "  plan_name  month  call_duration\n",
      "0      surf      1         385.68\n",
      "1      surf      2        2527.66\n",
      "2      surf      3        7152.31\n",
      "3      surf      4       16619.00\n",
      "4      surf      5       29033.10\n",
      "plan_name       surf  ultimate\n",
      "month                         \n",
      "1             385.68    732.65\n",
      "2            2527.66   2659.03\n",
      "3            7152.31   3428.42\n",
      "4           16619.00   6646.67\n",
      "5           29033.10  11126.28\n",
      "6           39499.26  16441.12\n",
      "7           51367.31  23822.27\n",
      "8           62721.48  28206.51\n",
      "9           75852.46  35542.71\n",
      "10          96149.09  45067.81\n",
      "11         113086.75  53400.65\n",
      "12         142297.14  65384.90\n"
     ]
    },
    {
     "data": {
      "image/png": "[encoded data removed]",
      "text/plain": [
       "<Figure size 640x480 with 1 Axes>"
      ]
     },
     "metadata": {},
     "output_type": "display_data"
    }
   ],
   "source": [
    "# Compara el número de minutos mensuales que necesitan los usuarios de cada plan. Traza un histograma.\n",
    "minutes_per_month = total_usage_per_user.groupby(['plan_name', 'month'])['call_duration'].sum().reset_index()\n",
    "print(minutes_per_month.head())\n",
    "\n",
    "pivot_minutes = minutes_per_month.pivot(index='month', columns='plan_name', values='call_duration')\n",
    "print(pivot_minutes)\n",
    "\n",
    "pivot_minutes['surf'].plot(kind='hist', bins=30)\n",
    "pivot_minutes['ultimate'].plot(kind='hist', bins=30)\n",
    "plt.legend(['surf', 'ultimate'])\n",
    "plt.title('Distribución de los minutos usados por los clientes')\n",
    "plt.show()"
   ]
  },
  {
   "cell_type": "code",
   "execution_count": 133,
   "metadata": {
    "id": "oSndbAnt0q1K",
    "trusted": true
   },
   "outputs": [
    {
     "name": "stdout",
     "output_type": "stream",
     "text": [
      "  plan_name        mean         std\n",
      "0      surf  412.097890  216.797727\n",
      "1  ultimate  410.180954  224.745705\n"
     ]
    }
   ],
   "source": [
    "# Calcula la media y la varianza de la duración mensual de llamadas.\n",
    "calls_mean_std = total_usage_per_user.groupby(['plan_name'])['call_duration'].agg(['mean', 'std']).reset_index()\n",
    "print(calls_mean_std)"
   ]
  },
  {
   "cell_type": "code",
   "execution_count": 134,
   "metadata": {
    "id": "nZzoRUKc0q1K",
    "trusted": true
   },
   "outputs": [
    {
     "data": {
      "image/png": "[encoded data removed]",
      "text/plain": [
       "<Figure size 640x480 with 1 Axes>"
      ]
     },
     "metadata": {},
     "output_type": "display_data"
    },
    {
     "data": {
      "text/plain": [
       "Text(0.5, 1.0, 'Ultimate')"
      ]
     },
     "execution_count": 134,
     "metadata": {},
     "output_type": "execute_result"
    },
    {
     "data": {
      "image/png": "[encoded data removed]",
      "text/plain": [
       "<Figure size 640x480 with 1 Axes>"
      ]
     },
     "metadata": {},
     "output_type": "display_data"
    }
   ],
   "source": [
    "# Traza un diagrama de caja para visualizar la distribución de la duración mensual de llamadas\n",
    "calls_duration_surf = total_usage_per_user[total_usage_per_user['plan_name']=='surf']['call_duration'].reset_index()\n",
    "sns.boxplot(calls_duration_surf['call_duration'])\n",
    "plt.title('Surf')\n",
    "plt.show()\n",
    "\n",
    "calls_duration_surf = total_usage_per_user[total_usage_per_user['plan_name']=='ultimate']['call_duration'].reset_index()\n",
    "sns.boxplot(calls_duration_surf['call_duration'])\n",
    "plt.title('Ultimate')"
   ]
  },
  {
   "cell_type": "markdown",
   "metadata": {
    "id": "r627zBO50q1K"
   },
   "source": [
    "Se pudo observar que en promedio las llamadas de los usuarios de ambos planes tienen una duración similar con 412 minutos para Surf y 410 minutos para Ultimate. Por otra parte, la desviación estandar es relativamente mayor en el plan Ultimate, sugiriendo que sus usuarios tienen mayor dispersión en sus llamadas. \n",
    "\n",
    "Con los diagramas de caja se observa que ambos planes tienen una mediana similar, indicando que la duración típica en usuarios de ambos planes no tiene una variación significativa. Ambos planes tienen un rango parecido, con la mayoría de sus usuarios con un uso entre 200 y 600 minutos. Con el intérvalo intercuartílico se observa que el comportamiento de los usuarios es similar en ambos planes, en relación a las llamadas. Se identifican valores atípicos en ambos planes, superiores a 1000 minutos. Los valores atípicos del plan Ultimate pueden explicarse por las mejores condiciones en llamadas con mayor cantidad de minutos disponibles, sin embargo, se debe analizar si es conveniente la oferta de minutos del plan ya que la mayoría de sus usuarios se encuentran en otro rango.\n"
   ]
  },
  {
   "cell_type": "markdown",
   "metadata": {
    "id": "8idKy8Wh0q1L"
   },
   "source": [
    "### Mensajes"
   ]
  },
  {
   "cell_type": "code",
   "execution_count": 135,
   "metadata": {
    "id": "NXLxiTit0q1L",
    "trusted": true
   },
   "outputs": [
    {
     "name": "stdout",
     "output_type": "stream",
     "text": [
      "  plan_name  month   messages\n",
      "0      surf      1  21.000000\n",
      "1      surf      2  21.600000\n",
      "2      surf      3  21.937500\n",
      "3      surf      4  24.166667\n",
      "4      surf      5  33.870370\n",
      "plan_name       surf   ultimate\n",
      "month                          \n",
      "1          21.000000  20.666667\n",
      "2          21.600000  27.800000\n",
      "3          21.937500  34.714286\n",
      "4          24.166667  28.937500\n",
      "5          33.870370  44.333333\n"
     ]
    },
    {
     "data": {
      "image/png": "[encoded data removed]",
      "text/plain": [
       "<Figure size 640x480 with 1 Axes>"
      ]
     },
     "metadata": {},
     "output_type": "display_data"
    },
    {
     "name": "stdout",
     "output_type": "stream",
     "text": [
      "  plan_name  month  messages\n",
      "0      surf      1      21.0\n",
      "1      surf      2     108.0\n",
      "2      surf      3     351.0\n",
      "3      surf      4     870.0\n",
      "4      surf      5    1829.0\n",
      "plan_name    surf  ultimate\n",
      "month                      \n",
      "1            21.0      62.0\n",
      "2           108.0     139.0\n",
      "3           351.0     243.0\n",
      "4           870.0     463.0\n",
      "5          1829.0     931.0\n"
     ]
    },
    {
     "data": {
      "image/png": "[encoded data removed]",
      "text/plain": [
       "<Figure size 640x480 with 1 Axes>"
      ]
     },
     "metadata": {},
     "output_type": "display_data"
    },
    {
     "name": "stdout",
     "output_type": "stream",
     "text": [
      "  plan_name       mean        std\n",
      "0      surf  39.980737  33.189423\n",
      "1  ultimate  46.455959  32.930135\n"
     ]
    },
    {
     "data": {
      "image/png": "[encoded data removed]",
      "text/plain": [
       "<Figure size 640x480 with 1 Axes>"
      ]
     },
     "metadata": {},
     "output_type": "display_data"
    }
   ],
   "source": [
    "# Comprara el número de mensajes que tienden a enviar cada mes los usuarios de cada plan\n",
    "avg_messages = total_usage_per_user.groupby(['plan_name', 'month'])['messages'].mean().reset_index()\n",
    "print(avg_messages.head())\n",
    "avg_pivot_messages = avg_messages.pivot(index='month', columns='plan_name', values='messages')\n",
    "print(avg_pivot_messages.head())\n",
    "avg_pivot_messages.plot(kind='bar', \n",
    "                       title = 'Mensajes promedio por plan cada mes',\n",
    "                       xlabel = 'Mes',\n",
    "                       ylabel = 'Mensajes'\n",
    "                      )\n",
    "plt.legend(['Surf', 'Ultimate'])\n",
    "plt.show()\n",
    "\n",
    "messages_per_month = total_usage_per_user.groupby(['plan_name', 'month'])['messages'].sum().reset_index()\n",
    "print(messages_per_month.head())\n",
    "\n",
    "pivot_messages = messages_per_month.pivot(index='month', columns='plan_name', values='messages')\n",
    "print(pivot_messages.head())\n",
    "\n",
    "pivot_messages['surf'].plot(kind='hist', bins=30)\n",
    "pivot_messages['ultimate'].plot(kind='hist', bins=30)\n",
    "plt.legend(['surf', 'ultimate'])\n",
    "plt.title('Distribución de los mensajes enviados por mes')\n",
    "plt.show()\n",
    "\n",
    "messages_mean_std = total_usage_per_user.groupby(['plan_name'])['messages'].agg(['mean', 'std']).reset_index()\n",
    "print(messages_mean_std)\n",
    "\n",
    "sns.boxplot(x='plan_name', y='messages', data= total_usage_per_user)\n",
    "plt.show()"
   ]
  },
  {
   "cell_type": "markdown",
   "metadata": {
    "id": "390SSL480q1M"
   },
   "source": [
    "Se observa que los usuarios del plan Ultimate envían en promedio 46 mensajes por mes, mientras que los usuarios de Surf envían en promedio 39 mensajes. La desviación estandar es similar en ambos planes. El IQR en ambis planes es similar comprobando que el comportamiento de la mayoría de los usuarios es parecido en relación a los mensajes. Se observa también que la mediana en Ultimate es mayor, confirmando que los usuarios de este plan envían más mensajes en promedio. Se identificó mayor cantidad de valores atípicos en el plan Surf, indicando que este plan genera más ingresos en cobros excedentes de mensajes. Sin embargo, en general el comportamiento de los usuarios es similar."
   ]
  },
  {
   "cell_type": "markdown",
   "metadata": {
    "id": "42YSypXz0q1M"
   },
   "source": [
    "### Internet"
   ]
  },
  {
   "cell_type": "code",
   "execution_count": 136,
   "metadata": {
    "id": "GRI_R7xF0q1L",
    "trusted": true
   },
   "outputs": [
    {
     "name": "stdout",
     "output_type": "stream",
     "text": [
      "  plan_name  month       mb_used\n",
      "0      surf      1   4874.860000\n",
      "1      surf      2  12178.843333\n",
      "2      surf      3  13345.440000\n",
      "3      surf      4  12228.778571\n",
      "4      surf      5  14393.399054\n",
      "plan_name          surf      ultimate\n",
      "month                                \n",
      "1           4874.860000   6918.092500\n",
      "2          12178.843333  17884.958333\n",
      "3          13345.440000  18321.518333\n",
      "4          12228.778571  16121.654762\n",
      "5          14393.399054  16624.482414\n"
     ]
    },
    {
     "data": {
      "image/png": "[encoded data removed]",
      "text/plain": [
       "<Figure size 640x480 with 1 Axes>"
      ]
     },
     "metadata": {},
     "output_type": "display_data"
    }
   ],
   "source": [
    "# Compara la cantidad de tráfico de Internet consumido por usuarios por plan\n",
    "avg_mb = total_usage_per_user.groupby(['plan_name', 'month'])['mb_used'].mean().reset_index()\n",
    "print(avg_mb.head())\n",
    "avg_pivot_mb = avg_mb.pivot(index='month', columns='plan_name', values='mb_used')\n",
    "print(avg_pivot_mb.head())\n",
    "avg_pivot_mb.plot(kind='bar', \n",
    "                       title = 'MB utilizados en promedio por plan cada mes',\n",
    "                       xlabel = 'Mes',\n",
    "                       ylabel = 'MB'\n",
    "                      )\n",
    "plt.legend(['Surf', 'Ultimate'])\n",
    "plt.show()\n"
   ]
  },
  {
   "cell_type": "code",
   "execution_count": 137,
   "metadata": {
    "id": "dtFwCGAp0q1M",
    "trusted": true
   },
   "outputs": [
    {
     "name": "stdout",
     "output_type": "stream",
     "text": [
      "  plan_name  month     mb_used\n",
      "0      surf      1     9749.72\n",
      "1      surf      2   109609.59\n",
      "2      surf      3   306945.12\n",
      "3      surf      4   599210.15\n",
      "4      surf      5  1065111.53\n",
      "plan_name        surf   ultimate\n",
      "month                           \n",
      "1             9749.72   27672.37\n",
      "2           109609.59  107309.75\n",
      "3           306945.12  219858.22\n",
      "4           599210.15  338554.75\n",
      "5          1065111.53  482109.99\n"
     ]
    },
    {
     "data": {
      "image/png": "[encoded data removed]",
      "text/plain": [
       "<Figure size 640x480 with 1 Axes>"
      ]
     },
     "metadata": {},
     "output_type": "display_data"
    }
   ],
   "source": [
    "mb_per_month = total_usage_per_user.groupby(['plan_name', 'month'])['mb_used'].sum().reset_index()\n",
    "print(mb_per_month.head())\n",
    "\n",
    "pivot_mb = mb_per_month.pivot(index='month', columns='plan_name', values='mb_used')\n",
    "print(pivot_mb.head())\n",
    "\n",
    "pivot_mb['surf'].plot(kind='hist', bins=30)\n",
    "pivot_mb['ultimate'].plot(kind='hist', bins=30)\n",
    "plt.legend(['surf', 'ultimate'])\n",
    "plt.title('Distribución de los MB utilizados por mes')\n",
    "plt.show()"
   ]
  },
  {
   "cell_type": "code",
   "execution_count": 138,
   "metadata": {
    "id": "lSuKPtjh0q1M",
    "trusted": true
   },
   "outputs": [
    {
     "name": "stdout",
     "output_type": "stream",
     "text": [
      "  plan_name          mean          std\n",
      "0      surf  16667.548229  7713.202954\n",
      "1  ultimate  17278.003731  7759.655167\n"
     ]
    },
    {
     "data": {
      "image/png": "[encoded data removed]",
      "text/plain": [
       "<Figure size 640x480 with 1 Axes>"
      ]
     },
     "metadata": {},
     "output_type": "display_data"
    }
   ],
   "source": [
    "mb_mean_std = total_usage_per_user.groupby(['plan_name'])['mb_used'].agg(['mean', 'std']).reset_index()\n",
    "print(mb_mean_std)\n",
    "\n",
    "sns.boxplot(x='plan_name', y='mb_used', data= total_usage_per_user)\n",
    "plt.show()"
   ]
  },
  {
   "cell_type": "markdown",
   "metadata": {
    "id": "UN9zwuMP0q1N"
   },
   "source": [
    "Se observa que en promedio el consumo de MB es relativamente mayor en el plan Ultimate, sin embargo, las variabilidad en ambos planes es casi la misma. También se observa que el rango, la mediana y los intervalos intercuartílicos son similares en ambos planes, identificando que no existe una diferencia significativa entre planes. Por otro lado, se observan más valores atípicos en el plan Surf, lo que indica que pueden tener más ingresos por cobros excedentes.\n",
    "\n",
    "De igual manera se evidencia el consumo creciente de datos en el plan Surf, que obliga a analizar la estructura de costos del plan y la estrategia comercial."
   ]
  },
  {
   "cell_type": "markdown",
   "metadata": {
    "id": "tCijq3260q1N"
   },
   "source": [
    "## Ingreso"
   ]
  },
  {
   "cell_type": "code",
   "execution_count": 139,
   "metadata": {
    "id": "tz-dq_V00q1O",
    "trusted": true
   },
   "outputs": [
    {
     "name": "stdout",
     "output_type": "stream",
     "text": [
      "  plan_name  month  total_income\n",
      "0      surf      1     20.000000\n",
      "1      surf      2     23.668000\n",
      "2      surf      3     38.326875\n",
      "3      surf      4     40.267429\n",
      "4      surf      5     50.370943\n",
      "plan_name       surf  ultimate\n",
      "month                         \n",
      "1          20.000000   70.0000\n",
      "2          23.668000   70.0000\n",
      "3          38.326875   78.0000\n",
      "4          40.267429   73.0625\n",
      "5          50.370943   71.0000\n"
     ]
    },
    {
     "data": {
      "image/png": "[encoded data removed]",
      "text/plain": [
       "<Figure size 640x480 with 1 Axes>"
      ]
     },
     "metadata": {},
     "output_type": "display_data"
    }
   ],
   "source": [
    "avg_income = total_usage_per_user.groupby(['plan_name', 'month'])['total_income'].mean().reset_index()\n",
    "print(avg_income.head())\n",
    "avg_pivot_income = avg_income.pivot(index='month', columns='plan_name', values='total_income')\n",
    "print(avg_pivot_income.head())\n",
    "avg_pivot_income.plot(kind='bar', \n",
    "                       title = 'Ingreso promedio por plan cada mes',\n",
    "                       xlabel = 'Mes',\n",
    "                       ylabel = 'Ingreso'\n",
    "                      )\n",
    "plt.legend(['Surf', 'Ultimate'])\n",
    "plt.show()\n"
   ]
  },
  {
   "cell_type": "code",
   "execution_count": 140,
   "metadata": {
    "id": "0Y1v8ZUz0q1P",
    "trusted": true
   },
   "outputs": [
    {
     "name": "stdout",
     "output_type": "stream",
     "text": [
      "  plan_name  month  total_income\n",
      "0      surf      1         20.00\n",
      "1      surf      2        118.34\n",
      "2      surf      3        613.23\n",
      "3      surf      4       1409.36\n",
      "4      surf      5       2669.66\n",
      "plan_name     surf  ultimate\n",
      "month                       \n",
      "1            20.00     210.0\n",
      "2           118.34     350.0\n",
      "3           613.23     546.0\n",
      "4          1409.36    1169.0\n",
      "5          2669.66    1491.0\n"
     ]
    },
    {
     "data": {
      "image/png": "[encoded data removed]",
      "text/plain": [
       "<Figure size 640x480 with 1 Axes>"
      ]
     },
     "metadata": {},
     "output_type": "display_data"
    }
   ],
   "source": [
    "income_per_month = total_usage_per_user.groupby(['plan_name', 'month'])['total_income'].sum().reset_index()\n",
    "print(income_per_month.head())\n",
    "\n",
    "pivot_income = income_per_month.pivot(index='month', columns='plan_name', values='total_income')\n",
    "print(pivot_income.head())\n",
    "\n",
    "pivot_income['surf'].plot(kind='hist', bins=30)\n",
    "pivot_income['ultimate'].plot(kind='hist', bins=30)\n",
    "plt.legend(['surf', 'ultimate'])\n",
    "plt.title('Distribución del ingreso por mes')\n",
    "plt.show()"
   ]
  },
  {
   "cell_type": "code",
   "execution_count": 141,
   "metadata": {
    "id": "bYmwxyVh0q1P",
    "trusted": true
   },
   "outputs": [
    {
     "name": "stdout",
     "output_type": "stream",
     "text": [
      "  plan_name       mean        std\n",
      "0      surf  60.014602  53.441058\n",
      "1  ultimate  72.248705  11.034406\n"
     ]
    },
    {
     "data": {
      "image/png": "[encoded data removed]",
      "text/plain": [
       "<Figure size 640x480 with 1 Axes>"
      ]
     },
     "metadata": {},
     "output_type": "display_data"
    }
   ],
   "source": [
    "income_mean_std = total_usage_per_user.groupby(['plan_name'])['total_income'].agg(['mean', 'std']).reset_index()\n",
    "print(income_mean_std)\n",
    "\n",
    "sns.boxplot(x='plan_name', y='total_income', data= total_usage_per_user)\n",
    "plt.show()"
   ]
  },
  {
   "cell_type": "markdown",
   "metadata": {
    "id": "KAFidcXZ0q1P"
   },
   "source": [
    "Es evidente que el ingreso promedio del plan Surf tiene un crecimiento exponencial en los últimos meses del año. Si bien el ingreso promedio del plan Ultimate es mayor, la varianza del plan Surf es significativamente mayor, haciendo más volátiles los ingresos. Esto se comprueba con el gráfico de caja donde se ven muchos valores atípicos. Por otra parte, se observa la poca volatilidad en los ingresos percibidos en el plan Ultimate al ver que no presenta un rango o caja en el gráfico."
   ]
  },
  {
   "cell_type": "markdown",
   "metadata": {
    "id": "ajJ7VKeI0q1Q"
   },
   "source": [
    "## Prueba las hipótesis estadísticas"
   ]
  },
  {
   "cell_type": "code",
   "execution_count": 145,
   "metadata": {
    "id": "nFoPNlPq0q1R",
    "trusted": true
   },
   "outputs": [
    {
     "name": "stdout",
     "output_type": "stream",
     "text": [
      "valor p levene: 2.5914843897925543e-69\n",
      "Se rechaza la hipótesis nula: las varianzas no son iguales (heterocedasticidad).\n",
      "valor p: 8.319558977074422e-14\n",
      "Rechazamos la hipotesis nula\n"
     ]
    }
   ],
   "source": [
    "# Prueba las hipótesis\n",
    "Ho = 'Los ingresos promedio de los usuarios de los planes Ultimate y Surf son iguales'\n",
    "H1 = 'Los ingresos promedio de los usuarios de los planes Ultimate y Surf son diferentes'\n",
    "alpha = 0.05\n",
    "\n",
    "surf_income = total_usage_per_user[total_usage_per_user['plan_name']=='surf']['total_income'].dropna()\n",
    "ultimate_income = total_usage_per_user[total_usage_per_user['plan_name']=='ultimate']['total_income'].dropna()\n",
    "\n",
    "levene = st.levene(surf_income, ultimate_income)\n",
    "print('valor p levene:', levene.pvalue)\n",
    "\n",
    "if levene.pvalue < alpha:\n",
    "    print(\"Se rechaza la hipótesis nula: las varianzas no son iguales (heterocedasticidad).\")\n",
    "else:\n",
    "    print(\"No se rechaza la hipótesis nula: las varianzas son iguales (homocedasticidad).\")\n",
    "\n",
    "results = st.ttest_ind(surf_income, ultimate_income, equal_var=False)\n",
    "print('valor p:', results.pvalue)\n",
    "\n",
    "if results.pvalue < alpha:\n",
    "    print('Rechazamos la hipotesis nula')\n",
    "else:\n",
    "    print('No podemos rechazar la hipotesis nula')\n"
   ]
  },
  {
   "cell_type": "code",
   "execution_count": 147,
   "metadata": {
    "id": "Cqcj7wrZ0q1S",
    "scrolled": true,
    "trusted": true
   },
   "outputs": [
    {
     "name": "stdout",
     "output_type": "stream",
     "text": [
      "['Atlanta-Sandy Springs-Roswell, GA MSA' 'Seattle-Tacoma-Bellevue, WA MSA'\n",
      " 'Las Vegas-Henderson-Paradise, NV MSA' 'Tulsa, OK MSA'\n",
      " 'Dallas-Fort Worth-Arlington, TX MSA'\n",
      " 'San Francisco-Oakland-Berkeley, CA MSA' 'Grand Rapids-Kentwood, MI MSA'\n",
      " 'Orlando-Kissimmee-Sanford, FL MSA'\n",
      " 'San Jose-Sunnyvale-Santa Clara, CA MSA' 'Cleveland-Elyria, OH MSA'\n",
      " 'Chicago-Naperville-Elgin, IL-IN-WI MSA' 'Knoxville, TN MSA'\n",
      " 'New York-Newark-Jersey City, NY-NJ-PA MSA' 'Pittsburgh, PA MSA'\n",
      " 'Fresno, CA MSA' 'Washington-Arlington-Alexandria, DC-VA-MD-WV MSA'\n",
      " 'Indianapolis-Carmel-Anderson, IN MSA' 'Jacksonville, FL MSA'\n",
      " 'Los Angeles-Long Beach-Anaheim, CA MSA'\n",
      " 'Omaha-Council Bluffs, NE-IA MSA'\n",
      " 'Houston-The Woodlands-Sugar Land, TX MSA'\n",
      " 'Philadelphia-Camden-Wilmington, PA-NJ-DE-MD MSA'\n",
      " 'Tampa-St. Petersburg-Clearwater, FL MSA' 'Birmingham-Hoover, AL MSA'\n",
      " 'Oklahoma City, OK MSA' 'Charlotte-Concord-Gastonia, NC-SC MSA'\n",
      " 'Denver-Aurora-Lakewood, CO MSA'\n",
      " 'Nashville-Davidson–Murfreesboro–Franklin, TN MSA' 'Columbus, OH MSA'\n",
      " 'Albuquerque, NM MSA' 'Boston-Cambridge-Newton, MA-NH MSA'\n",
      " 'Miami-Fort Lauderdale-West Palm Beach, FL MSA'\n",
      " 'San Diego-Chula Vista-Carlsbad, CA MSA' 'Phoenix-Mesa-Chandler, AZ MSA'\n",
      " 'Portland-Vancouver-Hillsboro, OR-WA MSA' 'Cincinnati, OH-KY-IN MSA'\n",
      " 'Columbia, SC MSA' 'San Antonio-New Braunfels, TX MSA'\n",
      " 'Buffalo-Cheektowaga, NY MSA' 'Memphis, TN-MS-AR MSA'\n",
      " 'Riverside-San Bernardino-Ontario, CA MSA'\n",
      " 'Louisville/Jefferson County, KY-IN MSA'\n",
      " 'Albany-Schenectady-Troy, NY MSA' 'Providence-Warwick, RI-MA MSA'\n",
      " 'Urban Honolulu, HI MSA' 'El Paso, TX MSA' 'New Haven-Milford, CT MSA'\n",
      " 'North Port-Sarasota-Bradenton, FL MSA' 'New Orleans-Metairie, LA MSA'\n",
      " 'Bridgeport-Stamford-Norwalk, CT MSA'\n",
      " 'Virginia Beach-Norfolk-Newport News, VA-NC MSA'\n",
      " 'Baltimore-Columbia-Towson, MD MSA' 'Milwaukee-Waukesha, WI MSA'\n",
      " 'Oxnard-Thousand Oaks-Ventura, CA MSA'\n",
      " 'Sacramento–Roseville–Folsom, CA MSA'\n",
      " 'Austin-Round Rock-Georgetown, TX MSA' 'Richmond, VA MSA'\n",
      " 'St. Louis, MO-IL MSA' 'Minneapolis-St. Paul-Bloomington, MN-WI MSA'\n",
      " 'Dayton-Kettering, OH MSA' 'Bakersfield, CA MSA'\n",
      " 'Detroit-Warren-Dearborn, MI MSA' 'Baton Rouge, LA MSA'\n",
      " 'Kansas City, MO-KS MSA' 'Charleston-North Charleston, SC MSA'\n",
      " 'Rochester, NY MSA' 'Raleigh-Cary, NC MSA'\n",
      " 'Greensboro-High Point, NC MSA' 'Tucson, AZ MSA'\n",
      " 'Colorado Springs, CO MSA' 'Stockton, CA MSA' 'Salt Lake City, UT MSA'\n",
      " 'Cape Coral-Fort Myers, FL MSA' nan]\n",
      "1506.440609784047 2068.9161397207818\n",
      "valor p levene: 0.8429776773675454\n",
      "No se rechaza la hipótesis nula: las varianzas son iguales (homocedasticidad).\n",
      "valor p: 0.00944900302724892\n",
      "Rechazamos la hipotesis nula\n"
     ]
    }
   ],
   "source": [
    "# Prueba las hipótesis\n",
    "Ho = 'El ingreso promedio de los usuarios del área NY-NJ es igual al de los usuarios de otras regiones'\n",
    "H1 = 'El ingreso promedio de los usuarios del área NY-NJ es diferente al de los usuarios de otras regiones'\n",
    "alpha = 0.05\n",
    "\n",
    "print(total_usage_per_user['city'].unique())\n",
    "\n",
    "\n",
    "NYNJ_income = total_usage_per_user[total_usage_per_user['city']=='New York-Newark-Jersey City, NY-NJ-PA MSA']['total_income'].dropna()\n",
    "others_income = total_usage_per_user[total_usage_per_user['city']!='New York-Newark-Jersey City, NY-NJ-PA MSA']['total_income'].dropna()\n",
    "\n",
    "print(np.var(NYNJ_income), np.var(others_income))\n",
    "\n",
    "levene_ny = st.levene(NYNJ_income, others_income)\n",
    "print('valor p levene:', levene_ny.pvalue)\n",
    "\n",
    "if levene_ny.pvalue < alpha:\n",
    "    print(\"Se rechaza la hipótesis nula: las varianzas no son iguales (heterocedasticidad).\")\n",
    "else:\n",
    "    print(\"No se rechaza la hipótesis nula: las varianzas son iguales (homocedasticidad).\")\n",
    "\n",
    "results = st.ttest_ind(NYNJ_income, others_income, equal_var=True)\n",
    "print('valor p:', results.pvalue)\n",
    "\n",
    "if results.pvalue < alpha:\n",
    "    print('Rechazamos la hipotesis nula')\n",
    "else:\n",
    "    print('No podemos rechazar la hipotesis nula')"
   ]
  },
  {
   "cell_type": "markdown",
   "metadata": {
    "id": "bbTR8UQO0q1T"
   },
   "source": [
    "## Conclusión general\n",
    "\n",
    "- A pesar de no existir diferencias significativas en la duración promedio de las llamadas, los mensajes promedio enviados ni en los datos consumidos mensualmente en ambos planes, se observó a partir de una prueba de t de diferencia de medias que si existe diferencia en el ingreso medio de las tarifas. \n",
    "- Se identificó que en promedio la tarifa Ultimate genera más ingresos, sin embargo la volatilidad del plan Surf puede generar mayores ingresos por el comportamiento de algunos usuarios que tienen consumos excedentes.\n",
    "- Se recomienda analizar la oferta de minutos en el plan Ultimate, ya que la mayoría de sus usuarios tiene un consumo menor al ofertado, y los usuarios con consumo atípico podrían generar ingresos excedentes en caso de cambiar la oferta.\n",
    "- Se debe analizar la estrategia comercial de la tarifa Surf en consumo de datos (MB) ya que se evidencia un incremento en el consumo en los ultimos meses del año.\n",
    "- Se recomienda ajustar la estrategia comercial y de publicidad enfocandose en los clientes con comportamiento atípico que genera mayores ingresos, ya se adentro de las tarifas actuales o crear un nuevo plan de oferta."
   ]
  }
 ],
 "metadata": {
  "ExecuteTimeLog": [
   {
    "duration": 828,
    "start_time": "2021-11-16T09:21:11.304Z"
   },
   {
    "duration": 893,
    "start_time": "2021-11-16T09:21:17.728Z"
   },
   {
    "duration": 1150,
    "start_time": "2021-11-16T09:21:29.568Z"
   },
   {
    "duration": 3,
    "start_time": "2021-11-16T09:24:14.495Z"
   },
   {
    "duration": 120,
    "start_time": "2021-11-16T09:24:46.630Z"
   },
   {
    "duration": 3,
    "start_time": "2021-11-16T09:28:27.882Z"
   },
   {
    "duration": 4,
    "start_time": "2021-11-16T09:29:54.281Z"
   },
   {
    "duration": 3,
    "start_time": "2021-11-16T09:30:45.936Z"
   },
   {
    "duration": 4,
    "start_time": "2021-11-16T09:31:06.300Z"
   },
   {
    "duration": 113,
    "start_time": "2021-11-16T09:31:37.208Z"
   },
   {
    "duration": 143,
    "start_time": "2021-11-16T09:31:48.656Z"
   },
   {
    "duration": 98,
    "start_time": "2021-11-16T09:31:55.678Z"
   },
   {
    "duration": 3,
    "start_time": "2021-11-16T09:32:08.535Z"
   },
   {
    "duration": 111,
    "start_time": "2021-11-16T09:32:10.120Z"
   },
   {
    "duration": 3,
    "start_time": "2021-11-16T09:32:15.732Z"
   },
   {
    "duration": 4,
    "start_time": "2021-11-16T09:32:29.423Z"
   },
   {
    "duration": 3,
    "start_time": "2021-11-16T10:03:03.074Z"
   },
   {
    "duration": 3,
    "start_time": "2021-11-16T10:10:01.288Z"
   },
   {
    "duration": 3,
    "start_time": "2021-11-16T10:10:46.923Z"
   },
   {
    "duration": 121,
    "start_time": "2021-11-16T10:37:46.494Z"
   },
   {
    "duration": 125,
    "start_time": "2021-11-16T10:38:20.632Z"
   },
   {
    "duration": 112,
    "start_time": "2021-11-16T10:46:53.001Z"
   },
   {
    "duration": 110,
    "start_time": "2021-11-16T10:48:25.775Z"
   },
   {
    "duration": 3,
    "start_time": "2021-11-16T10:50:18.720Z"
   },
   {
    "duration": 4,
    "start_time": "2021-11-16T10:50:37.649Z"
   },
   {
    "duration": 2,
    "start_time": "2021-11-16T10:50:51.884Z"
   },
   {
    "duration": 3,
    "start_time": "2021-11-16T10:51:56.237Z"
   },
   {
    "duration": 101,
    "start_time": "2021-11-16T10:53:13.791Z"
   },
   {
    "duration": 3,
    "start_time": "2021-11-16T10:55:59.186Z"
   },
   {
    "duration": 3,
    "start_time": "2021-11-16T10:56:10.751Z"
   },
   {
    "duration": 3,
    "start_time": "2021-11-16T10:56:49.038Z"
   },
   {
    "duration": 3,
    "start_time": "2021-11-16T10:56:49.174Z"
   },
   {
    "duration": 4,
    "start_time": "2021-11-16T10:56:49.414Z"
   },
   {
    "duration": 3,
    "start_time": "2021-11-16T10:56:49.680Z"
   },
   {
    "duration": 3,
    "start_time": "2021-11-16T10:56:50.370Z"
   },
   {
    "duration": 114,
    "start_time": "2021-11-16T10:59:34.518Z"
   },
   {
    "duration": 3,
    "start_time": "2021-11-16T11:01:41.201Z"
   },
   {
    "duration": 116,
    "start_time": "2021-11-16T11:01:48.754Z"
   },
   {
    "duration": 3,
    "start_time": "2021-11-16T11:02:16.685Z"
   },
   {
    "duration": 3,
    "start_time": "2021-11-16T11:02:19.479Z"
   },
   {
    "duration": 3,
    "start_time": "2021-11-16T11:02:47.067Z"
   },
   {
    "duration": 3,
    "start_time": "2021-11-16T11:02:49.353Z"
   },
   {
    "duration": 3,
    "start_time": "2021-11-16T11:03:07.835Z"
   },
   {
    "duration": 3,
    "start_time": "2021-11-16T11:03:07.953Z"
   },
   {
    "duration": 112,
    "start_time": "2021-11-16T11:07:52.072Z"
   },
   {
    "duration": 187,
    "start_time": "2021-11-16T11:09:23.468Z"
   },
   {
    "duration": 4,
    "start_time": "2021-11-16T11:10:01.455Z"
   },
   {
    "duration": 3,
    "start_time": "2021-11-16T11:10:05.069Z"
   },
   {
    "duration": 4,
    "start_time": "2021-11-16T11:10:13.376Z"
   },
   {
    "duration": 3,
    "start_time": "2021-11-16T11:10:14.434Z"
   },
   {
    "duration": 3,
    "start_time": "2021-11-16T11:10:22.853Z"
   },
   {
    "duration": 4,
    "start_time": "2021-11-16T11:27:29.279Z"
   },
   {
    "duration": 4,
    "start_time": "2021-11-16T11:29:08.919Z"
   },
   {
    "duration": 118,
    "start_time": "2021-11-16T11:29:46.703Z"
   },
   {
    "duration": 437,
    "start_time": "2021-11-16T11:36:02.181Z"
   },
   {
    "duration": 157,
    "start_time": "2021-11-16T11:36:14.388Z"
   },
   {
    "duration": 207,
    "start_time": "2021-11-16T11:47:15.898Z"
   },
   {
    "duration": 3,
    "start_time": "2021-11-16T11:53:52.092Z"
   },
   {
    "duration": 3,
    "start_time": "2021-11-16T11:53:52.236Z"
   },
   {
    "duration": 3,
    "start_time": "2021-11-16T11:59:12.005Z"
   },
   {
    "duration": 112,
    "start_time": "2021-11-16T12:00:33.446Z"
   },
   {
    "duration": 3,
    "start_time": "2021-11-16T12:02:14.453Z"
   },
   {
    "duration": 3,
    "start_time": "2021-11-16T12:02:39.512Z"
   },
   {
    "duration": 106,
    "start_time": "2021-11-16T12:03:03.460Z"
   },
   {
    "duration": 3,
    "start_time": "2021-11-17T20:37:21.139Z"
   },
   {
    "duration": 3,
    "start_time": "2021-11-17T20:37:22.229Z"
   },
   {
    "duration": 3,
    "start_time": "2021-11-17T20:38:38.806Z"
   },
   {
    "duration": 3,
    "start_time": "2021-11-17T20:38:41.958Z"
   },
   {
    "duration": 3,
    "start_time": "2021-11-17T20:43:46.551Z"
   },
   {
    "duration": 4,
    "start_time": "2021-11-17T20:58:21.835Z"
   },
   {
    "duration": 3,
    "start_time": "2021-11-17T20:59:21.872Z"
   },
   {
    "duration": 4,
    "start_time": "2021-11-17T20:59:45.352Z"
   },
   {
    "duration": 4,
    "start_time": "2021-11-17T20:59:49.646Z"
   },
   {
    "duration": 159,
    "start_time": "2021-11-17T21:02:26.949Z"
   },
   {
    "duration": 3,
    "start_time": "2021-11-17T21:03:53.461Z"
   },
   {
    "duration": 3,
    "start_time": "2021-11-17T21:03:53.694Z"
   },
   {
    "duration": 3,
    "start_time": "2021-11-17T21:05:28.145Z"
   },
   {
    "duration": 116,
    "start_time": "2021-11-17T21:05:57.787Z"
   },
   {
    "duration": 3,
    "start_time": "2021-11-17T21:06:37.993Z"
   },
   {
    "duration": 3,
    "start_time": "2021-11-17T21:06:38.261Z"
   },
   {
    "duration": 3,
    "start_time": "2021-11-17T21:11:54.358Z"
   },
   {
    "duration": 3,
    "start_time": "2021-11-17T21:12:43.846Z"
   },
   {
    "duration": 4,
    "start_time": "2021-11-17T21:13:08.773Z"
   },
   {
    "duration": 3,
    "start_time": "2021-11-17T21:14:44.441Z"
   },
   {
    "duration": 3,
    "start_time": "2021-11-17T21:15:42.059Z"
   },
   {
    "duration": 4,
    "start_time": "2021-11-17T21:15:51.995Z"
   },
   {
    "duration": 3,
    "start_time": "2021-11-17T21:15:53.923Z"
   },
   {
    "duration": 3,
    "start_time": "2021-11-17T21:15:55.282Z"
   },
   {
    "duration": 3,
    "start_time": "2021-11-17T21:16:28.492Z"
   },
   {
    "duration": 3,
    "start_time": "2021-11-17T21:16:32.603Z"
   },
   {
    "duration": 3,
    "start_time": "2021-11-17T21:17:06.941Z"
   },
   {
    "duration": 98,
    "start_time": "2021-11-17T21:18:05.733Z"
   },
   {
    "duration": 4,
    "start_time": "2021-11-17T21:21:35.255Z"
   },
   {
    "duration": 3,
    "start_time": "2021-11-17T21:21:37.804Z"
   },
   {
    "duration": 4,
    "start_time": "2021-11-17T21:23:06.071Z"
   },
   {
    "duration": 3,
    "start_time": "2021-11-17T21:23:24.799Z"
   },
   {
    "duration": 3,
    "start_time": "2021-11-17T21:23:32.591Z"
   },
   {
    "duration": 98,
    "start_time": "2021-11-17T21:28:31.559Z"
   },
   {
    "duration": 3,
    "start_time": "2021-11-17T21:28:45.448Z"
   },
   {
    "duration": 3,
    "start_time": "2021-11-17T21:29:17.303Z"
   },
   {
    "duration": 3,
    "start_time": "2021-11-17T21:29:29.617Z"
   },
   {
    "duration": 3,
    "start_time": "2021-11-17T21:29:32.681Z"
   },
   {
    "duration": 3,
    "start_time": "2021-11-17T21:36:11.474Z"
   },
   {
    "duration": 3,
    "start_time": "2021-11-17T21:36:14.791Z"
   },
   {
    "duration": 3,
    "start_time": "2021-11-17T21:36:53.943Z"
   },
   {
    "duration": 3,
    "start_time": "2021-11-17T21:36:56.165Z"
   },
   {
    "duration": 4,
    "start_time": "2021-11-17T21:37:16.590Z"
   },
   {
    "duration": 3,
    "start_time": "2021-11-17T21:37:22.702Z"
   },
   {
    "duration": 4,
    "start_time": "2021-11-17T21:38:03.479Z"
   },
   {
    "duration": 3,
    "start_time": "2021-11-17T21:38:08.601Z"
   },
   {
    "duration": 3,
    "start_time": "2021-11-17T21:38:12.928Z"
   },
   {
    "duration": 3,
    "start_time": "2021-11-17T21:38:48.896Z"
   },
   {
    "duration": 2,
    "start_time": "2021-11-17T21:38:49.171Z"
   },
   {
    "duration": 4,
    "start_time": "2021-11-17T21:39:57.889Z"
   },
   {
    "duration": 3,
    "start_time": "2021-11-17T21:39:58.057Z"
   },
   {
    "duration": 3,
    "start_time": "2021-11-17T21:41:20.108Z"
   },
   {
    "duration": 3,
    "start_time": "2021-11-17T21:41:20.629Z"
   },
   {
    "duration": 3,
    "start_time": "2021-11-17T21:42:49.136Z"
   },
   {
    "duration": 3,
    "start_time": "2021-11-17T21:43:15.137Z"
   },
   {
    "duration": 4,
    "start_time": "2021-11-17T21:43:16.766Z"
   },
   {
    "duration": 4,
    "start_time": "2021-11-17T21:43:31.711Z"
   },
   {
    "duration": 3,
    "start_time": "2021-11-17T21:43:36.312Z"
   },
   {
    "duration": 4,
    "start_time": "2021-11-17T21:45:08.825Z"
   },
   {
    "duration": 4,
    "start_time": "2021-11-17T21:45:10.119Z"
   },
   {
    "duration": 4,
    "start_time": "2021-11-17T21:45:13.748Z"
   },
   {
    "duration": 3,
    "start_time": "2021-11-17T21:45:22.219Z"
   },
   {
    "duration": 3,
    "start_time": "2021-11-17T21:45:33.412Z"
   },
   {
    "duration": 2,
    "start_time": "2021-11-17T21:46:01.885Z"
   },
   {
    "duration": 3,
    "start_time": "2021-11-17T21:46:03.628Z"
   },
   {
    "duration": 107,
    "start_time": "2021-11-17T21:47:32.512Z"
   },
   {
    "duration": 103,
    "start_time": "2021-11-17T21:50:36.243Z"
   },
   {
    "duration": 3,
    "start_time": "2021-11-18T06:28:31.440Z"
   },
   {
    "duration": 3,
    "start_time": "2021-11-18T06:29:00.168Z"
   },
   {
    "duration": 3,
    "start_time": "2021-11-18T06:31:27.008Z"
   },
   {
    "duration": 2,
    "start_time": "2021-11-18T06:35:34.288Z"
   },
   {
    "duration": 2,
    "start_time": "2021-11-18T06:38:04.527Z"
   },
   {
    "duration": 2747,
    "start_time": "2025-03-19T15:29:01.433Z"
   },
   {
    "duration": 226,
    "start_time": "2025-03-19T15:29:05.158Z"
   },
   {
    "duration": 9,
    "start_time": "2025-03-19T15:29:35.281Z"
   },
   {
    "duration": 6,
    "start_time": "2025-03-19T15:31:05.310Z"
   },
   {
    "duration": 9,
    "start_time": "2025-03-19T16:04:02.259Z"
   },
   {
    "duration": 6,
    "start_time": "2025-03-19T16:04:28.988Z"
   },
   {
    "duration": 7,
    "start_time": "2025-03-19T16:04:49.596Z"
   },
   {
    "duration": 5,
    "start_time": "2025-03-19T16:04:59.412Z"
   },
   {
    "duration": 11,
    "start_time": "2025-03-19T16:10:56.212Z"
   },
   {
    "duration": 6,
    "start_time": "2025-03-19T16:11:10.525Z"
   },
   {
    "duration": 6,
    "start_time": "2025-03-19T16:11:45.900Z"
   },
   {
    "duration": 12,
    "start_time": "2025-03-19T17:48:28.241Z"
   },
   {
    "duration": 21,
    "start_time": "2025-03-19T17:49:54.697Z"
   },
   {
    "duration": 11,
    "start_time": "2025-03-19T17:50:17.973Z"
   },
   {
    "duration": 12,
    "start_time": "2025-03-19T17:51:18.604Z"
   },
   {
    "duration": 10,
    "start_time": "2025-03-19T17:51:30.814Z"
   },
   {
    "duration": 11,
    "start_time": "2025-03-19T17:52:01.301Z"
   },
   {
    "duration": 11,
    "start_time": "2025-03-19T17:52:11.953Z"
   },
   {
    "duration": 5,
    "start_time": "2025-03-19T19:24:22.593Z"
   },
   {
    "duration": 9,
    "start_time": "2025-03-19T19:24:46.744Z"
   },
   {
    "duration": 8,
    "start_time": "2025-03-19T19:25:49.895Z"
   },
   {
    "duration": 16,
    "start_time": "2025-03-19T19:30:19.095Z"
   },
   {
    "duration": 4,
    "start_time": "2025-03-19T19:30:44.701Z"
   },
   {
    "duration": 36,
    "start_time": "2025-03-19T19:41:51.020Z"
   },
   {
    "duration": 2,
    "start_time": "2025-03-19T21:57:53.180Z"
   },
   {
    "duration": 153,
    "start_time": "2025-03-19T21:57:56.885Z"
   },
   {
    "duration": 9,
    "start_time": "2025-03-19T21:58:04.889Z"
   },
   {
    "duration": 25,
    "start_time": "2025-03-19T22:00:08.065Z"
   },
   {
    "duration": 10,
    "start_time": "2025-03-19T22:00:21.641Z"
   },
   {
    "duration": 13,
    "start_time": "2025-03-19T22:03:50.644Z"
   },
   {
    "duration": 5,
    "start_time": "2025-03-19T22:04:48.646Z"
   },
   {
    "duration": 17,
    "start_time": "2025-03-19T22:32:24.393Z"
   },
   {
    "duration": 17,
    "start_time": "2025-03-19T22:32:48.418Z"
   },
   {
    "duration": 10,
    "start_time": "2025-03-19T22:32:57.281Z"
   },
   {
    "duration": 16,
    "start_time": "2025-03-19T22:58:18.619Z"
   },
   {
    "duration": 4,
    "start_time": "2025-03-19T23:03:45.657Z"
   },
   {
    "duration": 20,
    "start_time": "2025-03-20T00:49:08.222Z"
   },
   {
    "duration": 8,
    "start_time": "2025-03-20T00:56:01.819Z"
   },
   {
    "duration": 4,
    "start_time": "2025-03-20T01:01:26.987Z"
   },
   {
    "duration": 10,
    "start_time": "2025-03-20T01:55:26.806Z"
   },
   {
    "duration": 12,
    "start_time": "2025-03-20T01:55:37.488Z"
   },
   {
    "duration": 8,
    "start_time": "2025-03-20T01:55:49.528Z"
   },
   {
    "duration": 8,
    "start_time": "2025-03-20T01:58:13.403Z"
   },
   {
    "duration": 10,
    "start_time": "2025-03-20T01:58:22.319Z"
   },
   {
    "duration": 6,
    "start_time": "2025-03-20T01:58:31.785Z"
   },
   {
    "duration": 11,
    "start_time": "2025-03-20T02:02:37.884Z"
   },
   {
    "duration": 15,
    "start_time": "2025-03-20T02:02:45.702Z"
   },
   {
    "duration": 8,
    "start_time": "2025-03-20T02:02:56.948Z"
   },
   {
    "duration": 6,
    "start_time": "2025-03-20T02:04:27.097Z"
   },
   {
    "duration": 14,
    "start_time": "2025-03-20T02:06:00.316Z"
   },
   {
    "duration": 15,
    "start_time": "2025-03-20T02:06:45.928Z"
   },
   {
    "duration": 15,
    "start_time": "2025-03-20T02:07:12.211Z"
   },
   {
    "duration": 8,
    "start_time": "2025-03-20T02:10:07.043Z"
   },
   {
    "duration": 7,
    "start_time": "2025-03-20T02:10:16.505Z"
   },
   {
    "duration": 8,
    "start_time": "2025-03-20T02:10:24.743Z"
   },
   {
    "duration": 4,
    "start_time": "2025-03-20T02:10:38.301Z"
   },
   {
    "duration": 161,
    "start_time": "2025-03-20T02:10:40.465Z"
   },
   {
    "duration": 9,
    "start_time": "2025-03-20T02:10:44.751Z"
   },
   {
    "duration": 6,
    "start_time": "2025-03-20T02:10:46.442Z"
   },
   {
    "duration": 6,
    "start_time": "2025-03-20T02:10:52.063Z"
   },
   {
    "duration": 9,
    "start_time": "2025-03-20T02:10:54.464Z"
   },
   {
    "duration": 6,
    "start_time": "2025-03-20T02:10:55.792Z"
   },
   {
    "duration": 10,
    "start_time": "2025-03-20T02:11:08.104Z"
   },
   {
    "duration": 8,
    "start_time": "2025-03-20T02:11:12.585Z"
   },
   {
    "duration": 28,
    "start_time": "2025-03-20T02:11:19.062Z"
   },
   {
    "duration": 5,
    "start_time": "2025-03-20T02:11:20.609Z"
   },
   {
    "duration": 16,
    "start_time": "2025-03-20T02:11:28.491Z"
   },
   {
    "duration": 8,
    "start_time": "2025-03-20T02:11:32.150Z"
   },
   {
    "duration": 11,
    "start_time": "2025-03-20T02:11:33.898Z"
   },
   {
    "duration": 5,
    "start_time": "2025-03-20T02:11:34.814Z"
   },
   {
    "duration": 11,
    "start_time": "2025-03-20T02:11:40.456Z"
   },
   {
    "duration": 7,
    "start_time": "2025-03-20T02:11:42.874Z"
   },
   {
    "duration": 16,
    "start_time": "2025-03-20T02:11:46.989Z"
   },
   {
    "duration": 5,
    "start_time": "2025-03-20T02:11:48.002Z"
   },
   {
    "duration": 13,
    "start_time": "2025-03-20T02:11:54.894Z"
   },
   {
    "duration": 9,
    "start_time": "2025-03-20T02:12:00.623Z"
   },
   {
    "duration": 5,
    "start_time": "2025-03-20T02:12:03.638Z"
   },
   {
    "duration": 14,
    "start_time": "2025-03-20T02:12:09.701Z"
   },
   {
    "duration": 180,
    "start_time": "2025-03-20T02:13:54.827Z"
   },
   {
    "duration": 16,
    "start_time": "2025-03-20T02:14:06.583Z"
   },
   {
    "duration": 10,
    "start_time": "2025-03-20T02:15:50.349Z"
   },
   {
    "duration": 9,
    "start_time": "2025-03-20T02:22:52.670Z"
   },
   {
    "duration": 5,
    "start_time": "2025-03-20T02:23:14.419Z"
   },
   {
    "duration": 244,
    "start_time": "2025-03-20T02:23:22.881Z"
   },
   {
    "duration": 19,
    "start_time": "2025-03-20T02:23:29.328Z"
   },
   {
    "duration": 16,
    "start_time": "2025-03-20T02:28:56.868Z"
   },
   {
    "duration": 10,
    "start_time": "2025-03-20T02:31:24.077Z"
   },
   {
    "duration": 12,
    "start_time": "2025-03-20T02:34:26.875Z"
   },
   {
    "duration": 67,
    "start_time": "2025-03-20T02:37:16.839Z"
   },
   {
    "duration": 6,
    "start_time": "2025-03-20T02:37:20.333Z"
   },
   {
    "duration": 9,
    "start_time": "2025-03-20T02:42:22.561Z"
   },
   {
    "duration": 16,
    "start_time": "2025-03-20T02:57:35.822Z"
   },
   {
    "duration": 461,
    "start_time": "2025-03-20T03:07:59.889Z"
   },
   {
    "duration": 48,
    "start_time": "2025-03-20T03:08:13.788Z"
   },
   {
    "duration": 18,
    "start_time": "2025-03-20T03:10:46.376Z"
   },
   {
    "duration": 21,
    "start_time": "2025-03-20T03:12:34.188Z"
   },
   {
    "duration": 26,
    "start_time": "2025-03-20T03:13:32.623Z"
   },
   {
    "duration": 29,
    "start_time": "2025-03-20T03:14:02.281Z"
   },
   {
    "duration": 31,
    "start_time": "2025-03-20T03:15:03.521Z"
   },
   {
    "duration": 18,
    "start_time": "2025-03-20T03:16:53.501Z"
   },
   {
    "duration": 20,
    "start_time": "2025-03-20T03:17:13.475Z"
   },
   {
    "duration": 19,
    "start_time": "2025-03-20T03:18:09.667Z"
   },
   {
    "duration": 13,
    "start_time": "2025-03-20T03:18:39.635Z"
   },
   {
    "duration": 11,
    "start_time": "2025-03-20T03:18:40.747Z"
   },
   {
    "duration": 10,
    "start_time": "2025-03-20T03:18:43.125Z"
   },
   {
    "duration": 17,
    "start_time": "2025-03-20T03:18:48.315Z"
   },
   {
    "duration": 19,
    "start_time": "2025-03-20T03:18:56.542Z"
   },
   {
    "duration": 11,
    "start_time": "2025-03-20T03:22:47.202Z"
   },
   {
    "duration": 3,
    "start_time": "2025-03-20T18:03:38.623Z"
   },
   {
    "duration": 2,
    "start_time": "2025-03-20T18:04:13.644Z"
   },
   {
    "duration": 153,
    "start_time": "2025-03-20T18:04:15.232Z"
   },
   {
    "duration": 8,
    "start_time": "2025-03-20T18:04:29.085Z"
   },
   {
    "duration": 5,
    "start_time": "2025-03-20T18:04:29.857Z"
   },
   {
    "duration": 268,
    "start_time": "2025-03-20T18:06:45.975Z"
   },
   {
    "duration": 16,
    "start_time": "2025-03-20T18:06:50.544Z"
   },
   {
    "duration": 10,
    "start_time": "2025-03-20T18:07:16.247Z"
   },
   {
    "duration": 8,
    "start_time": "2025-03-20T18:07:22.807Z"
   },
   {
    "duration": 12,
    "start_time": "2025-03-20T18:07:26.473Z"
   },
   {
    "duration": 5,
    "start_time": "2025-03-20T18:07:27.720Z"
   },
   {
    "duration": 10,
    "start_time": "2025-03-20T18:07:43.063Z"
   },
   {
    "duration": 6,
    "start_time": "2025-03-20T18:07:48.659Z"
   },
   {
    "duration": 15,
    "start_time": "2025-03-20T18:07:52.144Z"
   },
   {
    "duration": 4,
    "start_time": "2025-03-20T18:07:53.629Z"
   },
   {
    "duration": 13,
    "start_time": "2025-03-20T18:08:06.958Z"
   },
   {
    "duration": 7,
    "start_time": "2025-03-20T18:08:12.287Z"
   },
   {
    "duration": 6,
    "start_time": "2025-03-20T18:08:28.855Z"
   },
   {
    "duration": 21,
    "start_time": "2025-03-20T18:08:44.486Z"
   },
   {
    "duration": 21,
    "start_time": "2025-03-20T18:09:00.031Z"
   },
   {
    "duration": 16,
    "start_time": "2025-03-20T18:09:04.972Z"
   },
   {
    "duration": 11,
    "start_time": "2025-03-20T18:09:06.530Z"
   },
   {
    "duration": 9,
    "start_time": "2025-03-20T18:09:09.198Z"
   },
   {
    "duration": 16,
    "start_time": "2025-03-20T18:09:24.862Z"
   },
   {
    "duration": 12,
    "start_time": "2025-03-20T18:09:39.462Z"
   },
   {
    "duration": 11,
    "start_time": "2025-03-20T18:13:54.860Z"
   },
   {
    "duration": 13,
    "start_time": "2025-03-20T18:20:15.827Z"
   },
   {
    "duration": 15,
    "start_time": "2025-03-20T18:23:20.555Z"
   },
   {
    "duration": 13,
    "start_time": "2025-03-20T18:24:44.433Z"
   },
   {
    "duration": 14,
    "start_time": "2025-03-20T18:34:37.149Z"
   },
   {
    "duration": 14,
    "start_time": "2025-03-20T18:34:50.353Z"
   },
   {
    "duration": 6,
    "start_time": "2025-03-20T18:53:13.837Z"
   },
   {
    "duration": 17,
    "start_time": "2025-03-20T18:54:28.879Z"
   },
   {
    "duration": 11,
    "start_time": "2025-03-20T18:58:29.388Z"
   },
   {
    "duration": 8,
    "start_time": "2025-03-20T19:03:31.923Z"
   },
   {
    "duration": 4,
    "start_time": "2025-03-20T19:12:42.507Z"
   },
   {
    "duration": 270,
    "start_time": "2025-03-20T19:13:06.041Z"
   },
   {
    "duration": 204,
    "start_time": "2025-03-20T19:13:33.766Z"
   },
   {
    "duration": 182,
    "start_time": "2025-03-20T19:15:50.974Z"
   },
   {
    "duration": 212,
    "start_time": "2025-03-20T19:19:03.263Z"
   },
   {
    "duration": 83,
    "start_time": "2025-03-20T19:26:29.415Z"
   },
   {
    "duration": 161,
    "start_time": "2025-03-20T19:27:40.438Z"
   },
   {
    "duration": 9,
    "start_time": "2025-03-20T19:31:02.205Z"
   },
   {
    "duration": 271,
    "start_time": "2025-03-20T19:38:42.599Z"
   },
   {
    "duration": 210,
    "start_time": "2025-03-20T19:40:29.676Z"
   },
   {
    "duration": 241,
    "start_time": "2025-03-20T19:41:14.709Z"
   },
   {
    "duration": 212,
    "start_time": "2025-03-20T19:41:35.122Z"
   },
   {
    "duration": 8,
    "start_time": "2025-03-20T20:04:14.640Z"
   },
   {
    "duration": 163,
    "start_time": "2025-03-20T21:28:37.457Z"
   },
   {
    "duration": 2631,
    "start_time": "2025-03-20T21:28:49.510Z"
   },
   {
    "duration": 219,
    "start_time": "2025-03-20T21:28:52.143Z"
   },
   {
    "duration": 9,
    "start_time": "2025-03-20T21:28:52.467Z"
   },
   {
    "duration": 7,
    "start_time": "2025-03-20T21:28:53.126Z"
   },
   {
    "duration": 8,
    "start_time": "2025-03-20T21:28:57.052Z"
   },
   {
    "duration": 9,
    "start_time": "2025-03-20T21:28:58.260Z"
   },
   {
    "duration": 5,
    "start_time": "2025-03-20T21:28:58.747Z"
   },
   {
    "duration": 13,
    "start_time": "2025-03-20T21:29:00.256Z"
   },
   {
    "duration": 8,
    "start_time": "2025-03-20T21:29:01.360Z"
   },
   {
    "duration": 32,
    "start_time": "2025-03-20T21:29:02.266Z"
   },
   {
    "duration": 4,
    "start_time": "2025-03-20T21:29:02.353Z"
   },
   {
    "duration": 17,
    "start_time": "2025-03-20T21:29:04.149Z"
   },
   {
    "duration": 8,
    "start_time": "2025-03-20T21:29:05.231Z"
   },
   {
    "duration": 13,
    "start_time": "2025-03-20T21:29:06.649Z"
   },
   {
    "duration": 4,
    "start_time": "2025-03-20T21:29:07.204Z"
   },
   {
    "duration": 11,
    "start_time": "2025-03-20T21:29:08.840Z"
   },
   {
    "duration": 6,
    "start_time": "2025-03-20T21:29:09.694Z"
   },
   {
    "duration": 14,
    "start_time": "2025-03-20T21:29:10.528Z"
   },
   {
    "duration": 4,
    "start_time": "2025-03-20T21:29:11.151Z"
   },
   {
    "duration": 13,
    "start_time": "2025-03-20T21:29:12.406Z"
   },
   {
    "duration": 7,
    "start_time": "2025-03-20T21:29:13.500Z"
   },
   {
    "duration": 6,
    "start_time": "2025-03-20T21:29:14.811Z"
   },
   {
    "duration": 22,
    "start_time": "2025-03-20T21:29:15.876Z"
   },
   {
    "duration": 14,
    "start_time": "2025-03-20T21:29:16.658Z"
   },
   {
    "duration": 13,
    "start_time": "2025-03-20T21:29:17.828Z"
   },
   {
    "duration": 10,
    "start_time": "2025-03-20T21:29:18.533Z"
   },
   {
    "duration": 16,
    "start_time": "2025-03-20T21:29:19.183Z"
   },
   {
    "duration": 13,
    "start_time": "2025-03-20T21:29:19.771Z"
   },
   {
    "duration": 21,
    "start_time": "2025-03-20T21:29:21.609Z"
   },
   {
    "duration": 183,
    "start_time": "2025-03-20T21:29:25.704Z"
   },
   {
    "duration": 11,
    "start_time": "2025-03-20T21:29:41.514Z"
   },
   {
    "duration": 119,
    "start_time": "2025-03-20T21:34:18.530Z"
   },
   {
    "duration": 6,
    "start_time": "2025-03-20T21:34:48.553Z"
   },
   {
    "duration": 206,
    "start_time": "2025-03-20T21:35:05.341Z"
   },
   {
    "duration": 11,
    "start_time": "2025-03-20T21:38:05.697Z"
   },
   {
    "duration": 7,
    "start_time": "2025-03-20T21:38:16.539Z"
   },
   {
    "duration": 719,
    "start_time": "2025-03-20T21:41:49.293Z"
   },
   {
    "duration": 206,
    "start_time": "2025-03-20T21:42:05.815Z"
   },
   {
    "duration": 212,
    "start_time": "2025-03-20T21:42:38.554Z"
   },
   {
    "duration": 80,
    "start_time": "2025-03-20T21:44:27.311Z"
   },
   {
    "duration": 126,
    "start_time": "2025-03-20T21:50:29.925Z"
   },
   {
    "duration": 80,
    "start_time": "2025-03-20T21:50:39.139Z"
   },
   {
    "duration": 86,
    "start_time": "2025-03-20T21:51:09.139Z"
   },
   {
    "duration": 2824,
    "start_time": "2025-03-21T01:08:27.366Z"
   },
   {
    "duration": 278,
    "start_time": "2025-03-21T01:08:37.276Z"
   },
   {
    "duration": 12,
    "start_time": "2025-03-21T01:08:40.268Z"
   },
   {
    "duration": 6,
    "start_time": "2025-03-21T01:08:41.582Z"
   },
   {
    "duration": 8,
    "start_time": "2025-03-21T01:09:12.417Z"
   },
   {
    "duration": 10,
    "start_time": "2025-03-21T01:09:15.151Z"
   },
   {
    "duration": 5,
    "start_time": "2025-03-21T01:09:16.300Z"
   },
   {
    "duration": 16,
    "start_time": "2025-03-21T01:09:20.445Z"
   },
   {
    "duration": 9,
    "start_time": "2025-03-21T01:09:23.221Z"
   },
   {
    "duration": 44,
    "start_time": "2025-03-21T01:09:25.401Z"
   },
   {
    "duration": 6,
    "start_time": "2025-03-21T01:09:26.266Z"
   },
   {
    "duration": 25,
    "start_time": "2025-03-21T01:09:28.952Z"
   },
   {
    "duration": 12,
    "start_time": "2025-03-21T01:09:30.328Z"
   },
   {
    "duration": 18,
    "start_time": "2025-03-21T01:09:31.764Z"
   },
   {
    "duration": 5,
    "start_time": "2025-03-21T01:09:32.533Z"
   },
   {
    "duration": 11,
    "start_time": "2025-03-21T01:09:34.968Z"
   },
   {
    "duration": 7,
    "start_time": "2025-03-21T01:09:36.677Z"
   },
   {
    "duration": 18,
    "start_time": "2025-03-21T01:09:40.145Z"
   },
   {
    "duration": 5,
    "start_time": "2025-03-21T01:09:40.940Z"
   },
   {
    "duration": 13,
    "start_time": "2025-03-21T01:09:43.103Z"
   },
   {
    "duration": 7,
    "start_time": "2025-03-21T01:09:44.644Z"
   },
   {
    "duration": 6,
    "start_time": "2025-03-21T01:09:46.126Z"
   },
   {
    "duration": 29,
    "start_time": "2025-03-21T01:09:49.068Z"
   },
   {
    "duration": 16,
    "start_time": "2025-03-21T01:09:50.275Z"
   },
   {
    "duration": 12,
    "start_time": "2025-03-21T01:09:51.424Z"
   },
   {
    "duration": 13,
    "start_time": "2025-03-21T01:09:52.913Z"
   },
   {
    "duration": 16,
    "start_time": "2025-03-21T01:11:36.558Z"
   },
   {
    "duration": 13,
    "start_time": "2025-03-21T01:11:40.507Z"
   },
   {
    "duration": 18,
    "start_time": "2025-03-21T01:11:45.733Z"
   },
   {
    "duration": 22,
    "start_time": "2025-03-21T01:12:48.696Z"
   },
   {
    "duration": 18,
    "start_time": "2025-03-21T01:16:29.569Z"
   },
   {
    "duration": 97,
    "start_time": "2025-03-21T01:26:53.467Z"
   },
   {
    "duration": 168,
    "start_time": "2025-03-21T01:27:06.234Z"
   },
   {
    "duration": 173,
    "start_time": "2025-03-21T01:27:21.736Z"
   },
   {
    "duration": 8,
    "start_time": "2025-03-21T02:30:58.620Z"
   },
   {
    "duration": 205,
    "start_time": "2025-03-21T02:33:42.685Z"
   },
   {
    "duration": 391,
    "start_time": "2025-03-21T02:40:40.545Z"
   },
   {
    "duration": 348,
    "start_time": "2025-03-21T02:41:12.319Z"
   },
   {
    "duration": 353,
    "start_time": "2025-03-21T02:44:01.730Z"
   },
   {
    "duration": 527,
    "start_time": "2025-03-21T02:53:29.027Z"
   },
   {
    "duration": 204,
    "start_time": "2025-03-21T03:28:25.667Z"
   },
   {
    "duration": 278,
    "start_time": "2025-03-21T03:30:48.324Z"
   },
   {
    "duration": 101,
    "start_time": "2025-03-21T03:33:03.661Z"
   },
   {
    "duration": 2546,
    "start_time": "2025-03-21T16:05:30.999Z"
   },
   {
    "duration": 222,
    "start_time": "2025-03-21T16:05:33.547Z"
   },
   {
    "duration": 9,
    "start_time": "2025-03-21T16:05:35.441Z"
   },
   {
    "duration": 6,
    "start_time": "2025-03-21T16:05:36.286Z"
   },
   {
    "duration": 9,
    "start_time": "2025-03-21T16:05:50.406Z"
   },
   {
    "duration": 9,
    "start_time": "2025-03-21T16:05:52.069Z"
   },
   {
    "duration": 7,
    "start_time": "2025-03-21T16:05:52.713Z"
   },
   {
    "duration": 11,
    "start_time": "2025-03-21T16:06:08.171Z"
   },
   {
    "duration": 8,
    "start_time": "2025-03-21T16:06:09.465Z"
   },
   {
    "duration": 31,
    "start_time": "2025-03-21T16:06:11.003Z"
   },
   {
    "duration": 5,
    "start_time": "2025-03-21T16:06:12.054Z"
   },
   {
    "duration": 18,
    "start_time": "2025-03-21T16:06:14.382Z"
   },
   {
    "duration": 9,
    "start_time": "2025-03-21T16:06:15.488Z"
   },
   {
    "duration": 13,
    "start_time": "2025-03-21T16:06:16.392Z"
   },
   {
    "duration": 4,
    "start_time": "2025-03-21T16:06:16.882Z"
   },
   {
    "duration": 10,
    "start_time": "2025-03-21T16:06:18.878Z"
   },
   {
    "duration": 6,
    "start_time": "2025-03-21T16:06:19.975Z"
   },
   {
    "duration": 14,
    "start_time": "2025-03-21T16:06:20.870Z"
   },
   {
    "duration": 5,
    "start_time": "2025-03-21T16:06:21.375Z"
   },
   {
    "duration": 13,
    "start_time": "2025-03-21T16:06:22.870Z"
   },
   {
    "duration": 7,
    "start_time": "2025-03-21T16:06:23.666Z"
   },
   {
    "duration": 5,
    "start_time": "2025-03-21T16:06:24.210Z"
   },
   {
    "duration": 21,
    "start_time": "2025-03-21T16:06:25.056Z"
   },
   {
    "duration": 13,
    "start_time": "2025-03-21T16:06:25.551Z"
   },
   {
    "duration": 12,
    "start_time": "2025-03-21T16:06:26.006Z"
   },
   {
    "duration": 9,
    "start_time": "2025-03-21T16:06:26.481Z"
   },
   {
    "duration": 17,
    "start_time": "2025-03-21T16:06:26.798Z"
   },
   {
    "duration": 12,
    "start_time": "2025-03-21T16:06:27.077Z"
   },
   {
    "duration": 18,
    "start_time": "2025-03-21T16:06:28.068Z"
   },
   {
    "duration": 175,
    "start_time": "2025-03-21T16:07:02.971Z"
   },
   {
    "duration": 205,
    "start_time": "2025-03-21T16:07:03.698Z"
   },
   {
    "duration": 8,
    "start_time": "2025-03-21T16:07:04.941Z"
   },
   {
    "duration": 234,
    "start_time": "2025-03-21T16:07:06.165Z"
   },
   {
    "duration": 449,
    "start_time": "2025-03-21T16:07:12.758Z"
   },
   {
    "duration": 164,
    "start_time": "2025-03-21T16:07:15.978Z"
   },
   {
    "duration": 199,
    "start_time": "2025-03-21T16:07:16.606Z"
   },
   {
    "duration": 101,
    "start_time": "2025-03-21T16:07:17.262Z"
   },
   {
    "duration": 211,
    "start_time": "2025-03-21T16:13:52.477Z"
   },
   {
    "duration": 288,
    "start_time": "2025-03-21T16:14:12.291Z"
   },
   {
    "duration": 18,
    "start_time": "2025-03-21T18:34:11.115Z"
   },
   {
    "duration": 270,
    "start_time": "2025-03-21T18:44:53.586Z"
   },
   {
    "duration": 281,
    "start_time": "2025-03-21T18:45:23.814Z"
   },
   {
    "duration": 141,
    "start_time": "2025-03-21T18:45:30.560Z"
   },
   {
    "duration": 255,
    "start_time": "2025-03-21T18:46:37.560Z"
   },
   {
    "duration": 240,
    "start_time": "2025-03-21T18:47:29.112Z"
   },
   {
    "duration": 205,
    "start_time": "2025-03-21T18:53:40.333Z"
   },
   {
    "duration": 203,
    "start_time": "2025-03-21T18:54:06.268Z"
   },
   {
    "duration": 337,
    "start_time": "2025-03-21T18:54:43.254Z"
   },
   {
    "duration": 265,
    "start_time": "2025-03-21T18:55:22.211Z"
   },
   {
    "duration": 316,
    "start_time": "2025-03-21T19:12:35.850Z"
   },
   {
    "duration": 206,
    "start_time": "2025-03-21T19:13:02.699Z"
   },
   {
    "duration": 176,
    "start_time": "2025-03-21T19:22:41.663Z"
   },
   {
    "duration": 164,
    "start_time": "2025-03-21T19:22:56.934Z"
   },
   {
    "duration": 9,
    "start_time": "2025-03-21T19:29:04.395Z"
   },
   {
    "duration": 9,
    "start_time": "2025-03-21T19:33:48.218Z"
   },
   {
    "duration": 18,
    "start_time": "2025-03-21T19:34:29.735Z"
   },
   {
    "duration": 9,
    "start_time": "2025-03-21T19:36:02.177Z"
   },
   {
    "duration": 10,
    "start_time": "2025-03-21T19:38:54.454Z"
   },
   {
    "duration": 36,
    "start_time": "2025-03-21T19:40:29.020Z"
   },
   {
    "duration": 16,
    "start_time": "2025-03-21T19:49:20.533Z"
   },
   {
    "duration": 18,
    "start_time": "2025-03-21T19:54:24.815Z"
   },
   {
    "duration": 14,
    "start_time": "2025-03-21T19:55:09.815Z"
   },
   {
    "duration": 14,
    "start_time": "2025-03-21T19:57:22.391Z"
   },
   {
    "duration": 8,
    "start_time": "2025-03-21T19:58:23.405Z"
   },
   {
    "duration": 3,
    "start_time": "2025-03-21T21:25:06.063Z"
   },
   {
    "duration": 178,
    "start_time": "2025-03-21T21:25:06.461Z"
   },
   {
    "duration": 9,
    "start_time": "2025-03-21T21:25:09.687Z"
   },
   {
    "duration": 6,
    "start_time": "2025-03-21T21:25:10.436Z"
   },
   {
    "duration": 7,
    "start_time": "2025-03-21T21:25:14.753Z"
   },
   {
    "duration": 10,
    "start_time": "2025-03-21T21:25:16.357Z"
   },
   {
    "duration": 5,
    "start_time": "2025-03-21T21:25:17.002Z"
   },
   {
    "duration": 12,
    "start_time": "2025-03-21T21:25:19.256Z"
   },
   {
    "duration": 8,
    "start_time": "2025-03-21T21:25:20.634Z"
   },
   {
    "duration": 28,
    "start_time": "2025-03-21T21:25:21.948Z"
   },
   {
    "duration": 5,
    "start_time": "2025-03-21T21:25:22.672Z"
   },
   {
    "duration": 16,
    "start_time": "2025-03-21T21:25:24.691Z"
   },
   {
    "duration": 8,
    "start_time": "2025-03-21T21:25:26.025Z"
   },
   {
    "duration": 13,
    "start_time": "2025-03-21T21:25:27.353Z"
   },
   {
    "duration": 5,
    "start_time": "2025-03-21T21:25:28.004Z"
   },
   {
    "duration": 11,
    "start_time": "2025-03-21T21:25:30.126Z"
   },
   {
    "duration": 6,
    "start_time": "2025-03-21T21:25:31.448Z"
   },
   {
    "duration": 13,
    "start_time": "2025-03-21T21:25:32.842Z"
   },
   {
    "duration": 5,
    "start_time": "2025-03-21T21:25:33.564Z"
   },
   {
    "duration": 13,
    "start_time": "2025-03-21T21:25:36.731Z"
   },
   {
    "duration": 7,
    "start_time": "2025-03-21T21:25:38.052Z"
   },
   {
    "duration": 7,
    "start_time": "2025-03-21T21:25:39.373Z"
   },
   {
    "duration": 21,
    "start_time": "2025-03-21T21:25:40.980Z"
   },
   {
    "duration": 13,
    "start_time": "2025-03-21T21:25:41.748Z"
   },
   {
    "duration": 12,
    "start_time": "2025-03-21T21:25:42.500Z"
   },
   {
    "duration": 14,
    "start_time": "2025-03-21T21:25:43.248Z"
   },
   {
    "duration": 19,
    "start_time": "2025-03-21T21:25:43.984Z"
   },
   {
    "duration": 14,
    "start_time": "2025-03-21T21:25:44.705Z"
   },
   {
    "duration": 22,
    "start_time": "2025-03-21T21:25:46.165Z"
   },
   {
    "duration": 158,
    "start_time": "2025-03-21T21:25:49.719Z"
   },
   {
    "duration": 329,
    "start_time": "2025-03-21T21:25:50.541Z"
   },
   {
    "duration": 8,
    "start_time": "2025-03-21T21:25:51.374Z"
   },
   {
    "duration": 187,
    "start_time": "2025-03-21T21:25:52.482Z"
   },
   {
    "duration": 561,
    "start_time": "2025-03-21T21:25:57.919Z"
   },
   {
    "duration": 195,
    "start_time": "2025-03-21T21:26:02.339Z"
   },
   {
    "duration": 218,
    "start_time": "2025-03-21T21:26:03.247Z"
   },
   {
    "duration": 174,
    "start_time": "2025-03-21T21:26:04.185Z"
   },
   {
    "duration": 169,
    "start_time": "2025-03-21T21:26:34.624Z"
   },
   {
    "duration": 212,
    "start_time": "2025-03-21T21:26:35.932Z"
   },
   {
    "duration": 106,
    "start_time": "2025-03-21T21:26:37.609Z"
   },
   {
    "duration": 8,
    "start_time": "2025-03-21T21:26:41.250Z"
   },
   {
    "duration": 17,
    "start_time": "2025-03-21T21:26:42.438Z"
   },
   {
    "duration": 7,
    "start_time": "2025-03-21T21:51:59.849Z"
   },
   {
    "duration": 7,
    "start_time": "2025-03-21T21:58:50.012Z"
   },
   {
    "duration": 9,
    "start_time": "2025-03-21T21:59:03.753Z"
   },
   {
    "duration": 7,
    "start_time": "2025-03-21T21:59:38.755Z"
   },
   {
    "duration": 8,
    "start_time": "2025-03-21T22:00:37.603Z"
   },
   {
    "duration": 9,
    "start_time": "2025-03-21T22:01:08.022Z"
   },
   {
    "duration": 6,
    "start_time": "2025-03-21T22:21:05.422Z"
   },
   {
    "duration": 3,
    "start_time": "2025-03-24T00:40:54.443Z"
   },
   {
    "duration": 167,
    "start_time": "2025-03-24T00:41:01.377Z"
   },
   {
    "duration": 8,
    "start_time": "2025-03-24T00:41:06.597Z"
   },
   {
    "duration": 5,
    "start_time": "2025-03-24T00:41:11.956Z"
   },
   {
    "duration": 6,
    "start_time": "2025-03-24T00:41:19.404Z"
   },
   {
    "duration": 9,
    "start_time": "2025-03-24T00:41:25.527Z"
   },
   {
    "duration": 6,
    "start_time": "2025-03-24T00:41:29.788Z"
   },
   {
    "duration": 11,
    "start_time": "2025-03-24T00:41:35.965Z"
   },
   {
    "duration": 8,
    "start_time": "2025-03-24T00:41:47.437Z"
   },
   {
    "duration": 29,
    "start_time": "2025-03-24T00:42:20.270Z"
   },
   {
    "duration": 5,
    "start_time": "2025-03-24T00:42:25.411Z"
   },
   {
    "duration": 24,
    "start_time": "2025-03-24T00:42:31.609Z"
   },
   {
    "duration": 9,
    "start_time": "2025-03-24T00:42:40.626Z"
   },
   {
    "duration": 4,
    "start_time": "2025-03-24T00:47:01.032Z"
   },
   {
    "duration": 5,
    "start_time": "2025-03-24T00:48:08.879Z"
   },
   {
    "duration": 4,
    "start_time": "2025-03-24T00:49:09.237Z"
   },
   {
    "duration": 17,
    "start_time": "2025-03-24T01:04:53.743Z"
   },
   {
    "duration": 189,
    "start_time": "2025-03-24T01:07:55.542Z"
   },
   {
    "duration": 201,
    "start_time": "2025-03-24T01:08:10.149Z"
   },
   {
    "duration": 7,
    "start_time": "2025-03-24T01:08:15.992Z"
   },
   {
    "duration": 159,
    "start_time": "2025-03-24T01:08:17.590Z"
   },
   {
    "duration": 513,
    "start_time": "2025-03-24T01:08:23.550Z"
   },
   {
    "duration": 162,
    "start_time": "2025-03-24T01:08:29.277Z"
   },
   {
    "duration": 214,
    "start_time": "2025-03-24T01:08:31.193Z"
   },
   {
    "duration": 108,
    "start_time": "2025-03-24T01:08:32.677Z"
   },
   {
    "duration": 171,
    "start_time": "2025-03-24T01:08:36.338Z"
   },
   {
    "duration": 190,
    "start_time": "2025-03-24T01:08:37.161Z"
   },
   {
    "duration": 115,
    "start_time": "2025-03-24T01:08:38.010Z"
   },
   {
    "duration": 8,
    "start_time": "2025-03-24T01:09:12.372Z"
   },
   {
    "duration": 8,
    "start_time": "2025-03-24T01:09:14.484Z"
   },
   {
    "duration": 8,
    "start_time": "2025-03-24T01:12:16.954Z"
   },
   {
    "duration": 10,
    "start_time": "2025-03-24T01:13:38.536Z"
   },
   {
    "duration": 8,
    "start_time": "2025-03-24T01:14:52.860Z"
   },
   {
    "duration": 10,
    "start_time": "2025-03-24T01:15:29.556Z"
   },
   {
    "duration": 96,
    "start_time": "2025-03-24T01:21:42.588Z"
   },
   {
    "duration": 10,
    "start_time": "2025-03-24T01:22:01.980Z"
   },
   {
    "duration": 6,
    "start_time": "2025-03-24T01:22:06.393Z"
   },
   {
    "duration": 13,
    "start_time": "2025-03-24T01:22:18.102Z"
   },
   {
    "duration": 7,
    "start_time": "2025-03-24T01:22:21.601Z"
   }
  ],
  "colab": {
   "provenance": []
  },
  "kernelspec": {
   "display_name": "Python 3 (ipykernel)",
   "language": "python",
   "name": "python3"
  },
  "language_info": {
   "codemirror_mode": {
    "name": "ipython",
    "version": 3
   },
   "file_extension": ".py",
   "mimetype": "text/x-python",
   "name": "python",
   "nbconvert_exporter": "python",
   "pygments_lexer": "ipython3",
   "version": "3.9.19"
  },
  "toc": {
   "base_numbering": 1,
   "nav_menu": {},
   "number_sections": true,
   "sideBar": true,
   "skip_h1_title": false,
   "title_cell": "Table of Contents",
   "title_sidebar": "Contents",
   "toc_cell": false,
   "toc_position": {},
   "toc_section_display": true,
   "toc_window_display": true
  }
 },
 "nbformat": 4,
 "nbformat_minor": 1
}
